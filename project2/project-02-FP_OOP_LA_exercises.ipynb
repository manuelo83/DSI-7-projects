{
 "cells": [
  {
   "cell_type": "markdown",
   "metadata": {},
   "source": [
    "## Functional & Object Oriented Programming "
   ]
  },
  {
   "cell_type": "markdown",
   "metadata": {},
   "source": [
    "### Functional Programming in Python\n",
    "In class, we briefly explored the Functional Programming in Python through lambda functions, map, filter, iterators, generators, and deocrators. This note will review those ideas. "
   ]
  },
  {
   "cell_type": "markdown",
   "metadata": {},
   "source": [
    "#### Lambda Functions \n"
   ]
  },
  {
   "cell_type": "markdown",
   "metadata": {
    "collapsed": false
   },
   "source": [
    "Exercise : For this exercise solve the following problem on Hackerrank and post your solution in the cell below\n",
    "\n",
    "[Validating Email addresses with a Filter](https://www.hackerrank.com/contests/pythonista-practice-session/challenges/validate-list-of-email-address-with-filter)\n"
   ]
  },
  {
   "cell_type": "code",
   "execution_count": 61,
   "metadata": {
    "collapsed": true
   },
   "outputs": [],
   "source": [
    "#code\n",
    "lista = ['manuel@sd', 'man uel@cea.coma', 'manuelo', '23@com.com']\n",
    "lista = ['3', 'lara@hackerrank.com', 'brian-23@hackerrank.com', 'britts_54@hackerrank.com']"
   ]
  },
  {
   "cell_type": "code",
   "execution_count": 62,
   "metadata": {
    "collapsed": false
   },
   "outputs": [
    {
     "name": "stdout",
     "output_type": "stream",
     "text": [
      "['lara@hackerrank.com', 'brian-23@hackerrank.com', 'britts_54@hackerrank.com']\n"
     ]
    }
   ],
   "source": [
    "salida = []\n",
    "for ele in lista:\n",
    "    temp = []\n",
    "    try:\n",
    "        user = ele[:ele.index('@')]\n",
    "        domain = ele[ele.index('@')+1:ele.index('.')]\n",
    "        ext = ele[ele.index('.')+1:]\n",
    "        if (user.isalnum() or '-' in user or '_' in user) and domain.isalnum() and len(ext) <= 3:\n",
    "            salida.append(ele)\n",
    "        #temp.append(user, domain, ext)\n",
    "    except (ValueError, TypeError):\n",
    "        continue\n",
    "    #if len(map(lambda x:x[0].isalnum() and lambda x:x[1].isalnum() and lambda x:x[3]==3, temp)) == 3:\n",
    "    #    salida.append(ele)\n",
    "print salida"
   ]
  },
  {
   "cell_type": "code",
   "execution_count": 90,
   "metadata": {
    "collapsed": false
   },
   "outputs": [],
   "source": [
    "def fun(s):\n",
    "    # return True if s is a valid email, else return Falsesalida = []\n",
    "    salida = []\n",
    "    try:\n",
    "        user = s[:s.index('@')]\n",
    "        domain = s[s.index('@')+1:s.index('.')]\n",
    "        ext = s[s.index('.')+1:]\n",
    "        if (user.isalnum() or '-' in user or '_' in user) and domain.isalnum() and len(ext) <= 3:\n",
    "            salida.append(s)\n",
    "    except (ValueError, TypeError):\n",
    "        pass\n",
    "    #if len(map(lambda x:x[0].isalnum() and lambda x:x[1].isalnum() and lambda x:x[3]==3, temp)) == 3:\n",
    "    #    salida.append(ele)\n",
    "    return salida"
   ]
  },
  {
   "cell_type": "markdown",
   "metadata": {},
   "source": [
    "#### Generators\n",
    "\n",
    "Exercise :\n",
    "Write a infinite generator that successively yields the triangle numbers 0, 1, 3, 6, 10, ...\n",
    "\n",
    "[Triangle Numbers](https://en.wikipedia.org/wiki/Triangular_number)"
   ]
  },
  {
   "cell_type": "code",
   "execution_count": 77,
   "metadata": {
    "collapsed": true
   },
   "outputs": [],
   "source": [
    "### Generators\n",
    "\"\"\"\n",
    "Exercise :\n",
    "Write a infinite generator that successively yields the triangle numbers 0, 1, 3, 6, 10, ...\n",
    "\n",
    "Triangle Numbers : https://en.wikipedia.org/wiki/Triangular_number\n",
    "\"\"\"\n",
    "def generate_triangles():\n",
    "    # Your implementation here\n",
    "    num = -1\n",
    "    while True:\n",
    "        num += 1\n",
    "        triangulo = (num*(num + 1 )) / 2\n",
    "        yield triangulo\n",
    "        "
   ]
  },
  {
   "cell_type": "code",
   "execution_count": 84,
   "metadata": {
    "collapsed": false
   },
   "outputs": [],
   "source": [
    "gen = generate_triangles()"
   ]
  },
  {
   "cell_type": "code",
   "execution_count": 92,
   "metadata": {
    "collapsed": false
   },
   "outputs": [
    {
     "data": {
      "text/plain": [
       "28"
      ]
     },
     "execution_count": 92,
     "metadata": {},
     "output_type": "execute_result"
    }
   ],
   "source": [
    "next(gen)"
   ]
  },
  {
   "cell_type": "code",
   "execution_count": 100,
   "metadata": {
    "collapsed": false
   },
   "outputs": [],
   "source": [
    "\"\"\"\n",
    "Use your generator to write a function triangles_under(n) that prints out all triangle\n",
    "numbers strictly less than the parameter n.\n",
    "\n",
    "\"\"\"\n",
    "def triangles_under(n):\n",
    "    gen = generate_triangles()\n",
    "    lista = []\n",
    "    for i in range(n):\n",
    "        lista.append(next(gen))\n",
    "    return lista"
   ]
  },
  {
   "cell_type": "code",
   "execution_count": 101,
   "metadata": {
    "collapsed": false
   },
   "outputs": [
    {
     "data": {
      "text/plain": [
       "[0, 1, 3, 6, 10]"
      ]
     },
     "execution_count": 101,
     "metadata": {},
     "output_type": "execute_result"
    }
   ],
   "source": [
    "triangles_under(5)"
   ]
  },
  {
   "cell_type": "markdown",
   "metadata": {},
   "source": [
    "#### Decorators \n",
    "Exercise : Standardize Mobile Numbers using Decorators\n",
    "\n",
    "Make a list of the mobile numbers and pass it to a function that sorts the array \n",
    "in ascending order. Make a decorator that standardizes the mobile numbers and \n",
    "apply it to the function.\n",
    "\n",
    "Input : Take a list of mobile numbers. Sort them in ascending order then print them in \n",
    "the standard format shown below:\n",
    "    \n",
    "    +1 xxx xxx xxxx\n",
    "\n",
    "The given mobile numbers may have +1, 1 or 0 written before the actual digit number. \n",
    "Alternatively, there may not be any prefix at all. \n",
    "\n",
    "Sample Input : \n",
    "    06502505121\n",
    "    +19658764040\n",
    "\n",
    "Sample output :\n",
    "    +1 650 250 5121\n",
    "    +1 965 876 4040\n"
   ]
  },
  {
   "cell_type": "code",
   "execution_count": 154,
   "metadata": {
    "collapsed": true
   },
   "outputs": [],
   "source": [
    "lista_numeros = ['06502505121', '+19658764040', '4156060795']"
   ]
  },
  {
   "cell_type": "code",
   "execution_count": 157,
   "metadata": {
    "collapsed": false
   },
   "outputs": [],
   "source": [
    "#Write code here\n",
    "def wrapper(f):\n",
    "    def fun(l):\n",
    "        # complete the function\n",
    "        return sorted(f(l[-12:]))\n",
    "    return fun\n",
    "\n",
    "@wrapper\n",
    "def sort_numbers(lista):\n",
    "    lista = [\"+1 \" + i[-10:-7] + \" \" + i[-7:-4] + ' ' + i[-4:] \n",
    "             for ind, i in enumerate(lista_numeros)][-12:]\n",
    "    return lista"
   ]
  },
  {
   "cell_type": "code",
   "execution_count": 158,
   "metadata": {
    "collapsed": false
   },
   "outputs": [
    {
     "name": "stdout",
     "output_type": "stream",
     "text": [
      "['+1 415 606 0795', '+1 650 250 5121', '+1 965 876 4040']\n"
     ]
    }
   ],
   "source": [
    "print sort_numbers(lista_numeros)"
   ]
  },
  {
   "cell_type": "markdown",
   "metadata": {},
   "source": [
    "### Object Oriented Programming in Python"
   ]
  },
  {
   "cell_type": "markdown",
   "metadata": {},
   "source": [
    "#### Exercise 1: "
   ]
  },
  {
   "cell_type": "code",
   "execution_count": 164,
   "metadata": {
    "collapsed": false
   },
   "outputs": [
    {
     "name": "stdout",
     "output_type": "stream",
     "text": [
      "Yes!\n"
     ]
    },
    {
     "data": {
      "text/plain": [
       "1000"
      ]
     },
     "execution_count": 164,
     "metadata": {},
     "output_type": "execute_result"
    }
   ],
   "source": [
    "# Before compiling the following code snippets, write down what\n",
    "# each individual call will return in an inline comment. \n",
    "# If you think it returns an error, why would it be the case. \n",
    " \n",
    "\n",
    "class Account(object):\n",
    "    interest = 0.02\n",
    "    def __init__(self, account_holder):\n",
    "        self.balance = 0\n",
    "        self.holder = account_holder\n",
    "    def deposit(self, amount):\n",
    "        self.balance = self.balance + amount\n",
    "        print(\"Yes!\")\n",
    "\n",
    "a = Account(\"Billy\") #nothing, will initialiaze the instance\n",
    "\n",
    "#a.account_holder #Error, wrong name of the instance in the __init__\n",
    "\n",
    "#Account.holder #None, AttributeError, there no holder in Account\n",
    "\n",
    "Account.interest #0.02\n",
    "\n",
    "a.interest #0.02\n",
    "\n",
    "Account.interest = 0.03 \n",
    "a.interest  #0.03\n",
    "\n",
    "a.deposit(1000) #Yes!\n",
    "\n",
    "a.balance  #1000\n"
   ]
  },
  {
   "cell_type": "markdown",
   "metadata": {},
   "source": [
    "#### Exercise 2: Timed Key Value Store \n",
    "\n",
    "At a high-level, we'll be building a key-value store (think Dictionary or HashMap) that has a get method that takes an optional second parameter as a time object in Python to return the most recent value before that period in time. If no key-value pair was added to the map before that period in time, return None.\n",
    "\n",
    "For consistency’s sake, let’s call this class TimedKVStore and put it into a file called kv_store.py\n",
    "\n",
    "You’ll need some sort of time object to track when key-value pairs are getting added to this map. Consider using the time module from Python Docs\n",
    "\n",
    "To give you an idea of how this class works, this is what should happen after you implement TimedKVStore.\n",
    "\n"
   ]
  },
  {
   "cell_type": "code",
   "execution_count": 465,
   "metadata": {
    "collapsed": false
   },
   "outputs": [
    {
     "name": "stdout",
     "output_type": "stream",
     "text": [
      "1.1\n",
      "1\n",
      "None\n"
     ]
    }
   ],
   "source": [
    "import time\n",
    "\n",
    "d = TimedKVStore()\n",
    "\n",
    "t0 = time.time()\n",
    "#print t0\n",
    "d.put(\"1\", 1)\n",
    "\n",
    "t1 = time.time()\n",
    "#print t1\n",
    "d.put(\"1\", 1.1)\n",
    "\n",
    "print d.get(\"1\")\n",
    "#print \"t1: {}\".format(d.get(\"1\"))\n",
    "#Output : 1.1\n",
    "        \n",
    "print d.get(\"1\", t1)\n",
    "#print \"t1: {}\".format(d.get(\"1\", t1))\n",
    "#Output : 1\n",
    "    \n",
    "print d.get(\"1\", t0)\n",
    "#Output : None\n",
    "\n",
    "#print t0, t1"
   ]
  },
  {
   "cell_type": "code",
   "execution_count": 468,
   "metadata": {
    "collapsed": false
   },
   "outputs": [],
   "source": [
    "t2 = time.time()\n",
    "d.put(\"1\", 2.2)\n",
    "t3 = time.time()\n",
    "d.put(\"1\", 31)\n",
    "t4 = time.time()\n",
    "d.put(\"1\", 14)\n",
    "t1 = time.time()\n",
    "d.put(\"1\", 5)\n",
    "t1 = time.time()\n",
    "d.put(\"1\", 16)\n"
   ]
  },
  {
   "cell_type": "code",
   "execution_count": 469,
   "metadata": {
    "collapsed": false
   },
   "outputs": [
    {
     "name": "stdout",
     "output_type": "stream",
     "text": [
      "16\n",
      "5\n",
      "None\n"
     ]
    }
   ],
   "source": [
    "print d.get(\"1\")\n",
    "print d.get(\"1\", t1)\n",
    "print d.get(\"1\", t0)"
   ]
  },
  {
   "cell_type": "code",
   "execution_count": 464,
   "metadata": {
    "collapsed": true
   },
   "outputs": [],
   "source": [
    "#fixed code\n",
    "class TimedKVStore:\n",
    "    def __init__(self):\n",
    "        self.dicto = {}\n",
    "        \n",
    "    def put(self, key, value):\n",
    "        self.dicto[time.time()] = [key, value]\n",
    "        #return self.dicto\n",
    "        \n",
    "    def get(self, key, time=None):\n",
    "        sorted_dict = sorted(list(self.dicto.keys()), reverse=False)\n",
    "\n",
    "        #sorted_dict = (list(self.dicto.keys()))\n",
    "        #print self.dicto\n",
    "        #print sorted_dict\n",
    "                #print sorted_dict[-3:], time\n",
    "        try:\n",
    "        \n",
    "            if time == None:\n",
    "                return self.dicto.get(sorted_dict[-1])[1]\n",
    "            elif sorted_dict[-1] > time > sorted_dict[-2]:\n",
    "                return self.dicto.get(sorted_dict[-2])[1]\n",
    "            elif sorted_dict[-2] > time > sorted_dict[-3]:\n",
    "                return self.dicto.get(sorted_dict[-3], None)\n",
    "        except IndexError:\n",
    "            return None\n"
   ]
  },
  {
   "cell_type": "code",
   "execution_count": null,
   "metadata": {
    "collapsed": true
   },
   "outputs": [],
   "source": []
  },
  {
   "cell_type": "code",
   "execution_count": 358,
   "metadata": {
    "collapsed": false
   },
   "outputs": [],
   "source": [
    "#Write code here\n",
    "class TimedKVStore:\n",
    "    def __init__(self):\n",
    "        self.dicto = {}\n",
    "        \n",
    "    def put(self, key, value):\n",
    "        self.dicto[time.time()] = [key, value]\n",
    "        \n",
    "    def get(self, key, time=None):\n",
    "        sorted_dict = sorted(list(self.dicto.keys()), reverse=False)\n",
    "        #sorted_dict = (list(self.dicto.keys()))\n",
    "        #print self.dicto\n",
    "        #print sorted_dict\n",
    "        try:\n",
    "            if time == None:\n",
    "                #return self.dicto.get(sorted_dict[-1])[0]\n",
    "                return self.dicto.get(sorted_dict[-1])[1]\n",
    "            elif sorted_dict[-1] > time > sorted_dict[-2]:\n",
    "                #return time\n",
    "                return self.dicto.get(sorted_dict[-2])[1]\n",
    "            elif sorted_dict[-2] > time > sorted_dict[-3]:\n",
    "                return self.dicto.get(sorted_dict[-3], None)\n",
    "        except IndexError:\n",
    "            return None\n"
   ]
  },
  {
   "cell_type": "code",
   "execution_count": null,
   "metadata": {
    "collapsed": false
   },
   "outputs": [],
   "source": []
  },
  {
   "cell_type": "code",
   "execution_count": null,
   "metadata": {
    "collapsed": true
   },
   "outputs": [],
   "source": []
  },
  {
   "cell_type": "markdown",
   "metadata": {
    "collapsed": true
   },
   "source": [
    "#### Exercise 3 : \n",
    "For this problem you will be creating a class and apply OOP priciples to it. The problem is divided into two parts.\n",
    "\n",
    "#### 1. PART 1: \n",
    "* Define a Rocket() class.\n",
    "* Define the __init__() method. Let your __init__() method accept x and y values for the initial position of the rocket. Make sure the default behavior is to position the rocket at (0,0).\n",
    "* Define the move_rocket() method. The method should accept an amount to move (x,y)\n",
    "* Create a Rocket object. Move the rocket around, printing its position after each move.\n",
    "* Create a small fleet of rockets. Move several of them around, and print their final positions to prove that each rocket can move independently of the other rockets.\n",
    "* Define the get_distance() method. The method should accept a Rocket object, and calculate the distance between the current rocket and the rocket that is passed into the method.\n",
    "* Use the get_distance() method to print the distances between several of the rockets in your fleet.\n",
    "\n",
    "#### 2. PART 2 : Applying Inheritance\n",
    "* Define a class SpaceShuttle() which extends class Rocket()\n",
    "* Add more attributes that are particular to space shuttles such as maximum number of flights, capability of supporting spacewalks, and capability of docking with the ISS.\n",
    "* Add a method to the class, that relates to shuttle behavior. This method could simply print a statement, such as \"Docking with the ISS,\" for a dock_ISS() method.\n",
    "* Create a Shuttle object with these attributes, and then call your new method.\n",
    "\n",
    "Hints/Notes :\n",
    "* You can use the Euclidean distance to calculate the distances between different Rocket objects\n",
    "\n",
    "    - Euclidean distance((x, y), (a, b)) = √(x - a)² + (y - b)²\n",
    "\n"
   ]
  },
  {
   "cell_type": "code",
   "execution_count": 185,
   "metadata": {
    "collapsed": true
   },
   "outputs": [],
   "source": [
    "#Write code here \n",
    "class Rocket:\n",
    "    def __init__(self, x=0, y=0):\n",
    "        self.x = x\n",
    "        self.y = y\n",
    "        self.rocket = (self.x, self.y)\n",
    "    def move_rocket(self, x2, y2):\n",
    "        self.rocket = (self.x + x2, self.y + y2)\n",
    "        print self.rocket\n",
    "    def get_distance(self, other):\n",
    "        pos1, pos2 = self.rocket, other.rocket\n",
    "        distance = round(((pos1[0]-pos2[0])**2 + \n",
    "                          (pos1[1]-pos2[1])**2)**0.5, 2)\n",
    "        return distance\n"
   ]
  },
  {
   "cell_type": "code",
   "execution_count": 186,
   "metadata": {
    "collapsed": true
   },
   "outputs": [],
   "source": [
    "rock1 = Rocket(1,1)\n",
    "rock2 = Rocket(0,0)"
   ]
  },
  {
   "cell_type": "code",
   "execution_count": 187,
   "metadata": {
    "collapsed": false
   },
   "outputs": [
    {
     "name": "stdout",
     "output_type": "stream",
     "text": [
      "(3, 4)\n",
      "(5, 6)\n"
     ]
    }
   ],
   "source": [
    "rock1.move_rocket(2,3)\n",
    "rock2.move_rocket(5,6)"
   ]
  },
  {
   "cell_type": "code",
   "execution_count": 188,
   "metadata": {
    "collapsed": false
   },
   "outputs": [
    {
     "data": {
      "text/plain": [
       "2.83"
      ]
     },
     "execution_count": 188,
     "metadata": {},
     "output_type": "execute_result"
    }
   ],
   "source": [
    "rock1.get_distance(rock2)"
   ]
  },
  {
   "cell_type": "markdown",
   "metadata": {},
   "source": [
    "### Linear Algebra Review\n",
    "\n",
    "Exercise: Read through and review [Stanford's Linear Algebra Review](http://cs229.stanford.edu/section/cs229-linalg.pdf) \n",
    "\n",
    "\n",
    "Exercise : Go through videos : \n",
    "[Chapter 7 ,Chapter 9 , Chapter 10 , Chapter 11](https://www.youtube.com/playlist?list=PLZHQObOWTQDPD3MizzM2xVFitgF8hE_ab) and try to derive the algorithmic complexity of each vector and matrix operation. \n"
   ]
  },
  {
   "cell_type": "code",
   "execution_count": null,
   "metadata": {
    "collapsed": true
   },
   "outputs": [],
   "source": []
  }
 ],
 "metadata": {
  "anaconda-cloud": {},
  "kernelspec": {
   "display_name": "Python 2",
   "language": "python",
   "name": "python2"
  },
  "language_info": {
   "codemirror_mode": {
    "name": "ipython",
    "version": 2
   },
   "file_extension": ".py",
   "mimetype": "text/x-python",
   "name": "python",
   "nbconvert_exporter": "python",
   "pygments_lexer": "ipython2",
   "version": "2.7.12"
  }
 },
 "nbformat": 4,
 "nbformat_minor": 1
}
