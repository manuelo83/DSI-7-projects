{
 "cells": [
  {
   "cell_type": "markdown",
   "metadata": {},
   "source": [
    "<img src=\"http://imgur.com/1ZcRyrc.png\" style=\"float: left; margin: 15px; height: 80px\">\n",
    "\n",
    "# Project 2\n",
    "\n",
    "### Iowa Liquor Sales \n",
    "\n",
    "---\n",
    "\n",
    "In this project, you will be using the pandas data transformation functionality (melt, pivot, groupby, apply) that was not a factor in the first half of Project 2. \n",
    "\n",
    "---\n",
    "\n",
    "#### Context of the data\n",
    "\n",
    "The state of Iowa provides many data sets on their website, including [this dataset](https://www.dropbox.com/sh/pf5n5sgfgiri3i8/AACkaMeL_i_WgZ00rpxOOcysa?dl=0) which contains transactions for all stores that have a class E liquor license. You can choose one of the following two scenarios.\n",
    "\n",
    "The data can also be found [directly on their website](https://data.iowa.gov/Economy/Iowa-Liquor-Sales/m3tr-qhgy), which allows you to explore it graphically and download it (though it doesn't work very well).\n",
    "\n",
    "NOTE: Some of you may have computer issues with the full dataset. In this case, feel free to use [this 10% dataset version of Iowa liquor sales](https://drive.google.com/file/d/0Bx2SHQGVqWaseDB4QU9ZSVFDY2M/view?usp=sharing). You may want to use it anyway to test and prototype your code since it will be faster, before running it on the full dataset.\n",
    "\n",
    "---\n",
    "\n",
    "#### Package imports"
   ]
  },
  {
   "cell_type": "code",
   "execution_count": 1,
   "metadata": {
    "collapsed": true
   },
   "outputs": [],
   "source": [
    "import numpy as np\n",
    "import scipy.stats as stats\n",
    "import pandas as pd\n",
    "\n",
    "# this line tells jupyter notebook to put the plots in the notebook rather \n",
    "# than saving them to file.\n",
    "%matplotlib inline\n",
    "\n",
    "# this line makes plots prettier on mac retina screens. If you don't have \n",
    "# one it shouldn't do anything.\n",
    "%config InlineBackend.figure_format = 'retina'"
   ]
  },
  {
   "cell_type": "markdown",
   "metadata": {},
   "source": [
    "<img src=\"http://imgur.com/l5NasQj.png\" style=\"float: left; margin: 25px 15px 0px 0px; height: 25px\">\n",
    "\n",
    "## 1. Load the data from file\n",
    "\n",
    "---"
   ]
  },
  {
   "cell_type": "code",
   "execution_count": 2,
   "metadata": {
    "collapsed": false
   },
   "outputs": [
    {
     "name": "stdout",
     "output_type": "stream",
     "text": [
      "Dataframe is of size: 39MB\n"
     ]
    }
   ],
   "source": [
    "# check the iowa file location for your computer \n",
    "iowa_file = '/Users/manuel/Desktop/dsi-sf-7-materials_manuel/datasets/iowa_liquor/Iowa_Liquor_sales_sample_10pct.csv'\n",
    "\n",
    "iowa = pd.read_csv(iowa_file, na_filter=False)\n",
    "print \"Dataframe is of size: \" + str(iowa.values.nbytes / 10**6) + \"MB\""
   ]
  },
  {
   "cell_type": "markdown",
   "metadata": {},
   "source": [
    "<img src=\"http://imgur.com/l5NasQj.png\" style=\"float: left; margin: 25px 15px 0px 0px; height: 25px\">\n",
    "\n",
    "## 2. Do an initial overview of the data\n",
    "\n",
    "---\n",
    "\n",
    "At the very least describe the columns/variables and the datatypes. "
   ]
  },
  {
   "cell_type": "code",
   "execution_count": 3,
   "metadata": {
    "collapsed": false
   },
   "outputs": [
    {
     "data": {
      "text/html": [
       "<div>\n",
       "<table border=\"1\" class=\"dataframe\">\n",
       "  <thead>\n",
       "    <tr style=\"text-align: right;\">\n",
       "      <th></th>\n",
       "      <th>Store Number</th>\n",
       "      <th>Vendor Number</th>\n",
       "      <th>Item Number</th>\n",
       "      <th>Bottle Volume (ml)</th>\n",
       "      <th>Bottles Sold</th>\n",
       "      <th>Volume Sold (Liters)</th>\n",
       "      <th>Volume Sold (Gallons)</th>\n",
       "    </tr>\n",
       "  </thead>\n",
       "  <tbody>\n",
       "    <tr>\n",
       "      <th>count</th>\n",
       "      <td>270955.000000</td>\n",
       "      <td>270955.00000</td>\n",
       "      <td>270955.000000</td>\n",
       "      <td>270955.000000</td>\n",
       "      <td>270955.000000</td>\n",
       "      <td>270955.000000</td>\n",
       "      <td>270955.000000</td>\n",
       "    </tr>\n",
       "    <tr>\n",
       "      <th>mean</th>\n",
       "      <td>3590.263701</td>\n",
       "      <td>256.43443</td>\n",
       "      <td>45974.963300</td>\n",
       "      <td>924.830341</td>\n",
       "      <td>9.871285</td>\n",
       "      <td>8.981351</td>\n",
       "      <td>2.372830</td>\n",
       "    </tr>\n",
       "    <tr>\n",
       "      <th>std</th>\n",
       "      <td>947.662050</td>\n",
       "      <td>141.01489</td>\n",
       "      <td>52757.043086</td>\n",
       "      <td>493.088489</td>\n",
       "      <td>24.040912</td>\n",
       "      <td>28.913690</td>\n",
       "      <td>7.638182</td>\n",
       "    </tr>\n",
       "    <tr>\n",
       "      <th>min</th>\n",
       "      <td>2106.000000</td>\n",
       "      <td>10.00000</td>\n",
       "      <td>168.000000</td>\n",
       "      <td>50.000000</td>\n",
       "      <td>1.000000</td>\n",
       "      <td>0.100000</td>\n",
       "      <td>0.030000</td>\n",
       "    </tr>\n",
       "    <tr>\n",
       "      <th>25%</th>\n",
       "      <td>2604.000000</td>\n",
       "      <td>115.00000</td>\n",
       "      <td>26827.000000</td>\n",
       "      <td>750.000000</td>\n",
       "      <td>2.000000</td>\n",
       "      <td>1.500000</td>\n",
       "      <td>0.400000</td>\n",
       "    </tr>\n",
       "    <tr>\n",
       "      <th>50%</th>\n",
       "      <td>3722.000000</td>\n",
       "      <td>260.00000</td>\n",
       "      <td>38176.000000</td>\n",
       "      <td>750.000000</td>\n",
       "      <td>6.000000</td>\n",
       "      <td>5.250000</td>\n",
       "      <td>1.390000</td>\n",
       "    </tr>\n",
       "    <tr>\n",
       "      <th>75%</th>\n",
       "      <td>4378.000000</td>\n",
       "      <td>380.00000</td>\n",
       "      <td>64573.000000</td>\n",
       "      <td>1000.000000</td>\n",
       "      <td>12.000000</td>\n",
       "      <td>10.500000</td>\n",
       "      <td>2.770000</td>\n",
       "    </tr>\n",
       "    <tr>\n",
       "      <th>max</th>\n",
       "      <td>9023.000000</td>\n",
       "      <td>978.00000</td>\n",
       "      <td>995507.000000</td>\n",
       "      <td>6000.000000</td>\n",
       "      <td>2508.000000</td>\n",
       "      <td>2508.000000</td>\n",
       "      <td>662.540000</td>\n",
       "    </tr>\n",
       "  </tbody>\n",
       "</table>\n",
       "</div>"
      ],
      "text/plain": [
       "        Store Number  Vendor Number    Item Number  Bottle Volume (ml)  \\\n",
       "count  270955.000000   270955.00000  270955.000000       270955.000000   \n",
       "mean     3590.263701      256.43443   45974.963300          924.830341   \n",
       "std       947.662050      141.01489   52757.043086          493.088489   \n",
       "min      2106.000000       10.00000     168.000000           50.000000   \n",
       "25%      2604.000000      115.00000   26827.000000          750.000000   \n",
       "50%      3722.000000      260.00000   38176.000000          750.000000   \n",
       "75%      4378.000000      380.00000   64573.000000         1000.000000   \n",
       "max      9023.000000      978.00000  995507.000000         6000.000000   \n",
       "\n",
       "        Bottles Sold  Volume Sold (Liters)  Volume Sold (Gallons)  \n",
       "count  270955.000000         270955.000000          270955.000000  \n",
       "mean        9.871285              8.981351               2.372830  \n",
       "std        24.040912             28.913690               7.638182  \n",
       "min         1.000000              0.100000               0.030000  \n",
       "25%         2.000000              1.500000               0.400000  \n",
       "50%         6.000000              5.250000               1.390000  \n",
       "75%        12.000000             10.500000               2.770000  \n",
       "max      2508.000000           2508.000000             662.540000  "
      ]
     },
     "execution_count": 3,
     "metadata": {},
     "output_type": "execute_result"
    }
   ],
   "source": [
    "iowa.describe()"
   ]
  },
  {
   "cell_type": "code",
   "execution_count": 4,
   "metadata": {
    "collapsed": false
   },
   "outputs": [
    {
     "data": {
      "text/plain": [
       "Date                      object\n",
       "Store Number               int64\n",
       "City                      object\n",
       "Zip Code                  object\n",
       "County Number             object\n",
       "County                    object\n",
       "Category                  object\n",
       "Category Name             object\n",
       "Vendor Number              int64\n",
       "Item Number                int64\n",
       "Item Description          object\n",
       "Bottle Volume (ml)         int64\n",
       "State Bottle Cost         object\n",
       "State Bottle Retail       object\n",
       "Bottles Sold               int64\n",
       "Sale (Dollars)            object\n",
       "Volume Sold (Liters)     float64\n",
       "Volume Sold (Gallons)    float64\n",
       "dtype: object"
      ]
     },
     "execution_count": 4,
     "metadata": {},
     "output_type": "execute_result"
    }
   ],
   "source": [
    "iowa.dtypes"
   ]
  },
  {
   "cell_type": "markdown",
   "metadata": {},
   "source": [
    "<img src=\"http://imgur.com/l5NasQj.png\" style=\"float: left; margin: 25px 15px 0px 0px; height: 25px\">\n",
    "\n",
    "## 3. Clean the dataset\n",
    "\n",
    "---\n",
    "\n",
    "### 3.1 Identify columns that you will need to convert and clean. Where and how is the data corrupted?\n",
    "\n",
    "Don't worry about converting the date column to a pandas/numpy \"datetime\" datatype, unless you want to (not required for these problems and is a challenging thing to work with in its own right.)"
   ]
  },
  {
   "cell_type": "code",
   "execution_count": 5,
   "metadata": {
    "collapsed": true
   },
   "outputs": [],
   "source": [
    "# iowa_clean = iowa[:1000]\n",
    "iowa_clean = iowa"
   ]
  },
  {
   "cell_type": "code",
   "execution_count": 6,
   "metadata": {
    "collapsed": true
   },
   "outputs": [],
   "source": [
    "# iowa_clean = iowa_clean.copy()"
   ]
  },
  {
   "cell_type": "code",
   "execution_count": 7,
   "metadata": {
    "collapsed": false
   },
   "outputs": [
    {
     "data": {
      "text/html": [
       "<div>\n",
       "<table border=\"1\" class=\"dataframe\">\n",
       "  <thead>\n",
       "    <tr style=\"text-align: right;\">\n",
       "      <th></th>\n",
       "      <th>Date</th>\n",
       "      <th>Store Number</th>\n",
       "      <th>City</th>\n",
       "      <th>Zip Code</th>\n",
       "      <th>County Number</th>\n",
       "      <th>County</th>\n",
       "      <th>Category</th>\n",
       "      <th>Category Name</th>\n",
       "      <th>Vendor Number</th>\n",
       "      <th>Item Number</th>\n",
       "      <th>Item Description</th>\n",
       "      <th>Bottle Volume (ml)</th>\n",
       "      <th>State Bottle Cost</th>\n",
       "      <th>State Bottle Retail</th>\n",
       "      <th>Bottles Sold</th>\n",
       "      <th>Sale (Dollars)</th>\n",
       "      <th>Volume Sold (Liters)</th>\n",
       "      <th>Volume Sold (Gallons)</th>\n",
       "    </tr>\n",
       "  </thead>\n",
       "  <tbody>\n",
       "    <tr>\n",
       "      <th>0</th>\n",
       "      <td>11/04/2015</td>\n",
       "      <td>3717</td>\n",
       "      <td>SUMNER</td>\n",
       "      <td>50674</td>\n",
       "      <td>9.0</td>\n",
       "      <td>Bremer</td>\n",
       "      <td>1051100.0</td>\n",
       "      <td>APRICOT BRANDIES</td>\n",
       "      <td>55</td>\n",
       "      <td>54436</td>\n",
       "      <td>Mr. Boston Apricot Brandy</td>\n",
       "      <td>750</td>\n",
       "      <td>$4.50</td>\n",
       "      <td>$6.75</td>\n",
       "      <td>12</td>\n",
       "      <td>$81.00</td>\n",
       "      <td>9.00</td>\n",
       "      <td>2.38</td>\n",
       "    </tr>\n",
       "    <tr>\n",
       "      <th>1</th>\n",
       "      <td>03/02/2016</td>\n",
       "      <td>2614</td>\n",
       "      <td>DAVENPORT</td>\n",
       "      <td>52807</td>\n",
       "      <td>82.0</td>\n",
       "      <td>Scott</td>\n",
       "      <td>1011100.0</td>\n",
       "      <td>BLENDED WHISKIES</td>\n",
       "      <td>395</td>\n",
       "      <td>27605</td>\n",
       "      <td>Tin Cup</td>\n",
       "      <td>750</td>\n",
       "      <td>$13.75</td>\n",
       "      <td>$20.63</td>\n",
       "      <td>2</td>\n",
       "      <td>$41.26</td>\n",
       "      <td>1.50</td>\n",
       "      <td>0.40</td>\n",
       "    </tr>\n",
       "    <tr>\n",
       "      <th>2</th>\n",
       "      <td>02/11/2016</td>\n",
       "      <td>2106</td>\n",
       "      <td>CEDAR FALLS</td>\n",
       "      <td>50613</td>\n",
       "      <td>7.0</td>\n",
       "      <td>Black Hawk</td>\n",
       "      <td>1011200.0</td>\n",
       "      <td>STRAIGHT BOURBON WHISKIES</td>\n",
       "      <td>65</td>\n",
       "      <td>19067</td>\n",
       "      <td>Jim Beam</td>\n",
       "      <td>1000</td>\n",
       "      <td>$12.59</td>\n",
       "      <td>$18.89</td>\n",
       "      <td>24</td>\n",
       "      <td>$453.36</td>\n",
       "      <td>24.00</td>\n",
       "      <td>6.34</td>\n",
       "    </tr>\n",
       "    <tr>\n",
       "      <th>3</th>\n",
       "      <td>02/03/2016</td>\n",
       "      <td>2501</td>\n",
       "      <td>AMES</td>\n",
       "      <td>50010</td>\n",
       "      <td>85.0</td>\n",
       "      <td>Story</td>\n",
       "      <td>1071100.0</td>\n",
       "      <td>AMERICAN COCKTAILS</td>\n",
       "      <td>395</td>\n",
       "      <td>59154</td>\n",
       "      <td>1800 Ultimate Margarita</td>\n",
       "      <td>1750</td>\n",
       "      <td>$9.50</td>\n",
       "      <td>$14.25</td>\n",
       "      <td>6</td>\n",
       "      <td>$85.50</td>\n",
       "      <td>10.50</td>\n",
       "      <td>2.77</td>\n",
       "    </tr>\n",
       "    <tr>\n",
       "      <th>4</th>\n",
       "      <td>08/18/2015</td>\n",
       "      <td>3654</td>\n",
       "      <td>BELMOND</td>\n",
       "      <td>50421</td>\n",
       "      <td>99.0</td>\n",
       "      <td>Wright</td>\n",
       "      <td>1031080.0</td>\n",
       "      <td>VODKA 80 PROOF</td>\n",
       "      <td>297</td>\n",
       "      <td>35918</td>\n",
       "      <td>Five O'clock Vodka</td>\n",
       "      <td>1750</td>\n",
       "      <td>$7.20</td>\n",
       "      <td>$10.80</td>\n",
       "      <td>12</td>\n",
       "      <td>$129.60</td>\n",
       "      <td>21.00</td>\n",
       "      <td>5.55</td>\n",
       "    </tr>\n",
       "    <tr>\n",
       "      <th>5</th>\n",
       "      <td>04/20/2015</td>\n",
       "      <td>2569</td>\n",
       "      <td>CEDAR RAPIDS</td>\n",
       "      <td>52402</td>\n",
       "      <td>57.0</td>\n",
       "      <td>Linn</td>\n",
       "      <td>1041100.0</td>\n",
       "      <td>AMERICAN DRY GINS</td>\n",
       "      <td>205</td>\n",
       "      <td>31473</td>\n",
       "      <td>New Amsterdam Gin</td>\n",
       "      <td>1750</td>\n",
       "      <td>$13.32</td>\n",
       "      <td>$19.98</td>\n",
       "      <td>6</td>\n",
       "      <td>$119.88</td>\n",
       "      <td>10.50</td>\n",
       "      <td>2.77</td>\n",
       "    </tr>\n",
       "    <tr>\n",
       "      <th>6</th>\n",
       "      <td>08/05/2015</td>\n",
       "      <td>2596</td>\n",
       "      <td>OTTUMWA</td>\n",
       "      <td>52501</td>\n",
       "      <td>90.0</td>\n",
       "      <td>Wapello</td>\n",
       "      <td>1051010.0</td>\n",
       "      <td>AMERICAN GRAPE BRANDIES</td>\n",
       "      <td>85</td>\n",
       "      <td>52806</td>\n",
       "      <td>Korbel Brandy</td>\n",
       "      <td>750</td>\n",
       "      <td>$6.66</td>\n",
       "      <td>$9.99</td>\n",
       "      <td>3</td>\n",
       "      <td>$29.97</td>\n",
       "      <td>2.25</td>\n",
       "      <td>0.59</td>\n",
       "    </tr>\n",
       "    <tr>\n",
       "      <th>7</th>\n",
       "      <td>06/25/2015</td>\n",
       "      <td>3456</td>\n",
       "      <td>CLEAR LAKE</td>\n",
       "      <td>50428</td>\n",
       "      <td>17.0</td>\n",
       "      <td>Cerro Gordo</td>\n",
       "      <td>1012100.0</td>\n",
       "      <td>CANADIAN WHISKIES</td>\n",
       "      <td>65</td>\n",
       "      <td>10628</td>\n",
       "      <td>Canadian Club Whisky</td>\n",
       "      <td>1750</td>\n",
       "      <td>$15.75</td>\n",
       "      <td>$23.63</td>\n",
       "      <td>2</td>\n",
       "      <td>$47.26</td>\n",
       "      <td>3.50</td>\n",
       "      <td>0.92</td>\n",
       "    </tr>\n",
       "    <tr>\n",
       "      <th>8</th>\n",
       "      <td>01/04/2016</td>\n",
       "      <td>4757</td>\n",
       "      <td>BONDURANT</td>\n",
       "      <td>50035</td>\n",
       "      <td>77.0</td>\n",
       "      <td>Polk</td>\n",
       "      <td>1032080.0</td>\n",
       "      <td>IMPORTED VODKA</td>\n",
       "      <td>370</td>\n",
       "      <td>34006</td>\n",
       "      <td>Absolut Swedish Vodka 80 Prf</td>\n",
       "      <td>750</td>\n",
       "      <td>$11.49</td>\n",
       "      <td>$17.24</td>\n",
       "      <td>4</td>\n",
       "      <td>$68.96</td>\n",
       "      <td>3.00</td>\n",
       "      <td>0.79</td>\n",
       "    </tr>\n",
       "    <tr>\n",
       "      <th>9</th>\n",
       "      <td>11/10/2015</td>\n",
       "      <td>4346</td>\n",
       "      <td>SHELLSBURG</td>\n",
       "      <td>52332</td>\n",
       "      <td>6.0</td>\n",
       "      <td>Benton</td>\n",
       "      <td>1081315.0</td>\n",
       "      <td>CINNAMON SCHNAPPS</td>\n",
       "      <td>65</td>\n",
       "      <td>82610</td>\n",
       "      <td>Dekuyper Hot Damn!</td>\n",
       "      <td>1000</td>\n",
       "      <td>$7.62</td>\n",
       "      <td>$11.43</td>\n",
       "      <td>2</td>\n",
       "      <td>$22.86</td>\n",
       "      <td>2.00</td>\n",
       "      <td>0.53</td>\n",
       "    </tr>\n",
       "    <tr>\n",
       "      <th>10</th>\n",
       "      <td>09/28/2015</td>\n",
       "      <td>2648</td>\n",
       "      <td>WEST DES MOINES</td>\n",
       "      <td>50265</td>\n",
       "      <td>77.0</td>\n",
       "      <td>Polk</td>\n",
       "      <td>1011250.0</td>\n",
       "      <td>SINGLE BARREL BOURBON WHISKIES</td>\n",
       "      <td>65</td>\n",
       "      <td>19235</td>\n",
       "      <td>Knob Creek Single Barrel Reserve</td>\n",
       "      <td>750</td>\n",
       "      <td>$26.24</td>\n",
       "      <td>$39.36</td>\n",
       "      <td>6</td>\n",
       "      <td>$236.16</td>\n",
       "      <td>4.50</td>\n",
       "      <td>1.19</td>\n",
       "    </tr>\n",
       "    <tr>\n",
       "      <th>11</th>\n",
       "      <td>10/28/2015</td>\n",
       "      <td>2600</td>\n",
       "      <td>OSKALOOSA</td>\n",
       "      <td>52577</td>\n",
       "      <td>62.0</td>\n",
       "      <td>Mahaska</td>\n",
       "      <td>1071100.0</td>\n",
       "      <td>AMERICAN COCKTAILS</td>\n",
       "      <td>55</td>\n",
       "      <td>57148</td>\n",
       "      <td>Chi-Chi's Margarita W/tequila</td>\n",
       "      <td>1750</td>\n",
       "      <td>$6.00</td>\n",
       "      <td>$9.25</td>\n",
       "      <td>6</td>\n",
       "      <td>$55.50</td>\n",
       "      <td>10.50</td>\n",
       "      <td>2.77</td>\n",
       "    </tr>\n",
       "    <tr>\n",
       "      <th>12</th>\n",
       "      <td>01/22/2015</td>\n",
       "      <td>3858</td>\n",
       "      <td>DAVENPORT</td>\n",
       "      <td>52806</td>\n",
       "      <td>82.0</td>\n",
       "      <td>Scott</td>\n",
       "      <td>1012100.0</td>\n",
       "      <td>CANADIAN WHISKIES</td>\n",
       "      <td>65</td>\n",
       "      <td>15248</td>\n",
       "      <td>Windsor Canadian Pet</td>\n",
       "      <td>1750</td>\n",
       "      <td>$8.92</td>\n",
       "      <td>$13.38</td>\n",
       "      <td>1</td>\n",
       "      <td>$13.38</td>\n",
       "      <td>1.75</td>\n",
       "      <td>0.46</td>\n",
       "    </tr>\n",
       "    <tr>\n",
       "      <th>13</th>\n",
       "      <td>02/29/2016</td>\n",
       "      <td>4673</td>\n",
       "      <td>WEST POINT</td>\n",
       "      <td>52656</td>\n",
       "      <td>56.0</td>\n",
       "      <td>Lee</td>\n",
       "      <td>1081300.0</td>\n",
       "      <td>PEPPERMINT SCHNAPPS</td>\n",
       "      <td>322</td>\n",
       "      <td>75211</td>\n",
       "      <td>Kinky Liqueur</td>\n",
       "      <td>750</td>\n",
       "      <td>$10.00</td>\n",
       "      <td>$15.00</td>\n",
       "      <td>12</td>\n",
       "      <td>$180.00</td>\n",
       "      <td>9.00</td>\n",
       "      <td>2.38</td>\n",
       "    </tr>\n",
       "    <tr>\n",
       "      <th>14</th>\n",
       "      <td>01/04/2016</td>\n",
       "      <td>2670</td>\n",
       "      <td>CORALVILLE</td>\n",
       "      <td>52241</td>\n",
       "      <td>52.0</td>\n",
       "      <td>Johnson</td>\n",
       "      <td>1031200.0</td>\n",
       "      <td>VODKA FLAVORED</td>\n",
       "      <td>380</td>\n",
       "      <td>41705</td>\n",
       "      <td>Uv Red (cherry) Vodka</td>\n",
       "      <td>1000</td>\n",
       "      <td>$7.50</td>\n",
       "      <td>$11.25</td>\n",
       "      <td>12</td>\n",
       "      <td>$135.00</td>\n",
       "      <td>12.00</td>\n",
       "      <td>3.17</td>\n",
       "    </tr>\n",
       "    <tr>\n",
       "      <th>15</th>\n",
       "      <td>06/10/2015</td>\n",
       "      <td>3717</td>\n",
       "      <td>SUMNER</td>\n",
       "      <td>50674</td>\n",
       "      <td>9.0</td>\n",
       "      <td>Bremer</td>\n",
       "      <td>1051100.0</td>\n",
       "      <td>APRICOT BRANDIES</td>\n",
       "      <td>55</td>\n",
       "      <td>54436</td>\n",
       "      <td>Mr. Boston Apricot Brandy</td>\n",
       "      <td>750</td>\n",
       "      <td>$4.50</td>\n",
       "      <td>$6.75</td>\n",
       "      <td>4</td>\n",
       "      <td>$27.00</td>\n",
       "      <td>3.00</td>\n",
       "      <td>0.79</td>\n",
       "    </tr>\n",
       "    <tr>\n",
       "      <th>16</th>\n",
       "      <td>02/25/2016</td>\n",
       "      <td>2130</td>\n",
       "      <td>WATERLOO</td>\n",
       "      <td>50703</td>\n",
       "      <td>7.0</td>\n",
       "      <td>Black Hawk</td>\n",
       "      <td>1031100.0</td>\n",
       "      <td>100 PROOF VODKA</td>\n",
       "      <td>297</td>\n",
       "      <td>35913</td>\n",
       "      <td>Five O'clock Vodka</td>\n",
       "      <td>200</td>\n",
       "      <td>$1.13</td>\n",
       "      <td>$1.70</td>\n",
       "      <td>48</td>\n",
       "      <td>$81.60</td>\n",
       "      <td>9.60</td>\n",
       "      <td>2.54</td>\n",
       "    </tr>\n",
       "    <tr>\n",
       "      <th>17</th>\n",
       "      <td>12/29/2015</td>\n",
       "      <td>2600</td>\n",
       "      <td>OSKALOOSA</td>\n",
       "      <td>52577</td>\n",
       "      <td>62.0</td>\n",
       "      <td>Mahaska</td>\n",
       "      <td>1031200.0</td>\n",
       "      <td>VODKA FLAVORED</td>\n",
       "      <td>380</td>\n",
       "      <td>41989</td>\n",
       "      <td>Uv Cake Vodka</td>\n",
       "      <td>750</td>\n",
       "      <td>$6.50</td>\n",
       "      <td>$9.75</td>\n",
       "      <td>12</td>\n",
       "      <td>$117.00</td>\n",
       "      <td>9.00</td>\n",
       "      <td>2.38</td>\n",
       "    </tr>\n",
       "    <tr>\n",
       "      <th>18</th>\n",
       "      <td>12/26/2015</td>\n",
       "      <td>4604</td>\n",
       "      <td>NEWTON</td>\n",
       "      <td>50208</td>\n",
       "      <td>50.0</td>\n",
       "      <td>Jasper</td>\n",
       "      <td>1081700.0</td>\n",
       "      <td>DISTILLED SPIRITS SPECIALTY</td>\n",
       "      <td>434</td>\n",
       "      <td>75087</td>\n",
       "      <td>Juarez Gold Dss</td>\n",
       "      <td>1000</td>\n",
       "      <td>$4.92</td>\n",
       "      <td>$7.38</td>\n",
       "      <td>24</td>\n",
       "      <td>$177.12</td>\n",
       "      <td>24.00</td>\n",
       "      <td>6.34</td>\n",
       "    </tr>\n",
       "    <tr>\n",
       "      <th>19</th>\n",
       "      <td>03/04/2015</td>\n",
       "      <td>2614</td>\n",
       "      <td>DAVENPORT</td>\n",
       "      <td>52807</td>\n",
       "      <td>82.0</td>\n",
       "      <td>Scott</td>\n",
       "      <td>1012100.0</td>\n",
       "      <td>CANADIAN WHISKIES</td>\n",
       "      <td>434</td>\n",
       "      <td>13638</td>\n",
       "      <td>Lord Calvert Canadian Whisky</td>\n",
       "      <td>1750</td>\n",
       "      <td>$9.97</td>\n",
       "      <td>$14.96</td>\n",
       "      <td>6</td>\n",
       "      <td>$89.76</td>\n",
       "      <td>10.50</td>\n",
       "      <td>2.77</td>\n",
       "    </tr>\n",
       "    <tr>\n",
       "      <th>20</th>\n",
       "      <td>01/16/2015</td>\n",
       "      <td>2590</td>\n",
       "      <td>CEDAR RAPIDS</td>\n",
       "      <td>52402</td>\n",
       "      <td>57.0</td>\n",
       "      <td>Linn</td>\n",
       "      <td>1031200.0</td>\n",
       "      <td>VODKA FLAVORED</td>\n",
       "      <td>971</td>\n",
       "      <td>41474</td>\n",
       "      <td>44 North Huckleberry</td>\n",
       "      <td>750</td>\n",
       "      <td>$14.25</td>\n",
       "      <td>$21.38</td>\n",
       "      <td>2</td>\n",
       "      <td>$42.76</td>\n",
       "      <td>1.50</td>\n",
       "      <td>0.40</td>\n",
       "    </tr>\n",
       "    <tr>\n",
       "      <th>21</th>\n",
       "      <td>01/13/2015</td>\n",
       "      <td>3942</td>\n",
       "      <td>TOLEDO</td>\n",
       "      <td>52342</td>\n",
       "      <td>86.0</td>\n",
       "      <td>Tama</td>\n",
       "      <td>1012100.0</td>\n",
       "      <td>CANADIAN WHISKIES</td>\n",
       "      <td>115</td>\n",
       "      <td>11786</td>\n",
       "      <td>Black Velvet Traveler</td>\n",
       "      <td>750</td>\n",
       "      <td>$5.23</td>\n",
       "      <td>$7.85</td>\n",
       "      <td>12</td>\n",
       "      <td>$94.20</td>\n",
       "      <td>9.00</td>\n",
       "      <td>2.38</td>\n",
       "    </tr>\n",
       "    <tr>\n",
       "      <th>22</th>\n",
       "      <td>03/24/2015</td>\n",
       "      <td>3981</td>\n",
       "      <td>SIOUX CENTER</td>\n",
       "      <td>51250</td>\n",
       "      <td>84.0</td>\n",
       "      <td>Sioux</td>\n",
       "      <td>1011100.0</td>\n",
       "      <td>BLENDED WHISKIES</td>\n",
       "      <td>260</td>\n",
       "      <td>25606</td>\n",
       "      <td>Seagrams 7 Crown Bl Whiskey</td>\n",
       "      <td>750</td>\n",
       "      <td>$7.00</td>\n",
       "      <td>$10.50</td>\n",
       "      <td>12</td>\n",
       "      <td>$126.00</td>\n",
       "      <td>9.00</td>\n",
       "      <td>2.38</td>\n",
       "    </tr>\n",
       "    <tr>\n",
       "      <th>23</th>\n",
       "      <td>11/12/2015</td>\n",
       "      <td>4376</td>\n",
       "      <td>MASON CITY</td>\n",
       "      <td>50401</td>\n",
       "      <td>17.0</td>\n",
       "      <td>Cerro Gordo</td>\n",
       "      <td>1022100.0</td>\n",
       "      <td>TEQUILA</td>\n",
       "      <td>395</td>\n",
       "      <td>89196</td>\n",
       "      <td>Jose Cuervo Especial Reposado Tequila</td>\n",
       "      <td>750</td>\n",
       "      <td>$10.49</td>\n",
       "      <td>$15.74</td>\n",
       "      <td>12</td>\n",
       "      <td>$188.88</td>\n",
       "      <td>9.00</td>\n",
       "      <td>2.38</td>\n",
       "    </tr>\n",
       "    <tr>\n",
       "      <th>24</th>\n",
       "      <td>03/14/2016</td>\n",
       "      <td>2618</td>\n",
       "      <td>CEDAR RAPIDS</td>\n",
       "      <td>52402</td>\n",
       "      <td>57.0</td>\n",
       "      <td>Linn</td>\n",
       "      <td>1031080.0</td>\n",
       "      <td>VODKA 80 PROOF</td>\n",
       "      <td>297</td>\n",
       "      <td>35926</td>\n",
       "      <td>Five O'clock PET Vodka</td>\n",
       "      <td>750</td>\n",
       "      <td>$3.37</td>\n",
       "      <td>$5.06</td>\n",
       "      <td>12</td>\n",
       "      <td>$60.72</td>\n",
       "      <td>9.00</td>\n",
       "      <td>2.38</td>\n",
       "    </tr>\n",
       "    <tr>\n",
       "      <th>25</th>\n",
       "      <td>02/03/2015</td>\n",
       "      <td>3390</td>\n",
       "      <td>MILFORD</td>\n",
       "      <td>51351</td>\n",
       "      <td>30.0</td>\n",
       "      <td>Dickinson</td>\n",
       "      <td>1011300.0</td>\n",
       "      <td>TENNESSEE WHISKIES</td>\n",
       "      <td>85</td>\n",
       "      <td>26827</td>\n",
       "      <td>Jack Daniels Old #7 Black Lbl</td>\n",
       "      <td>1000</td>\n",
       "      <td>$17.90</td>\n",
       "      <td>$26.85</td>\n",
       "      <td>24</td>\n",
       "      <td>$644.40</td>\n",
       "      <td>24.00</td>\n",
       "      <td>6.34</td>\n",
       "    </tr>\n",
       "    <tr>\n",
       "      <th>26</th>\n",
       "      <td>11/23/2015</td>\n",
       "      <td>3565</td>\n",
       "      <td>IOWA CITY</td>\n",
       "      <td>52246</td>\n",
       "      <td>52.0</td>\n",
       "      <td>Johnson</td>\n",
       "      <td>1012100.0</td>\n",
       "      <td>CANADIAN WHISKIES</td>\n",
       "      <td>260</td>\n",
       "      <td>11290</td>\n",
       "      <td>Crown Royal Canadian Whisky Mini</td>\n",
       "      <td>300</td>\n",
       "      <td>$7.35</td>\n",
       "      <td>$11.03</td>\n",
       "      <td>1</td>\n",
       "      <td>$11.03</td>\n",
       "      <td>0.30</td>\n",
       "      <td>0.08</td>\n",
       "    </tr>\n",
       "    <tr>\n",
       "      <th>27</th>\n",
       "      <td>04/21/2015</td>\n",
       "      <td>3963</td>\n",
       "      <td>COUNCIL BLUFFS</td>\n",
       "      <td>51501</td>\n",
       "      <td>78.0</td>\n",
       "      <td>Pottawattamie</td>\n",
       "      <td>1011100.0</td>\n",
       "      <td>BLENDED WHISKIES</td>\n",
       "      <td>434</td>\n",
       "      <td>24156</td>\n",
       "      <td>Hawkeye Blend Whiskey</td>\n",
       "      <td>750</td>\n",
       "      <td>$3.50</td>\n",
       "      <td>$5.25</td>\n",
       "      <td>3</td>\n",
       "      <td>$15.75</td>\n",
       "      <td>2.25</td>\n",
       "      <td>0.59</td>\n",
       "    </tr>\n",
       "    <tr>\n",
       "      <th>28</th>\n",
       "      <td>12/01/2015</td>\n",
       "      <td>4375</td>\n",
       "      <td>GRIMES</td>\n",
       "      <td>50111</td>\n",
       "      <td>77.0</td>\n",
       "      <td>Polk</td>\n",
       "      <td>1031080.0</td>\n",
       "      <td>VODKA 80 PROOF</td>\n",
       "      <td>380</td>\n",
       "      <td>37338</td>\n",
       "      <td>UV Vodka PET</td>\n",
       "      <td>1750</td>\n",
       "      <td>$10.99</td>\n",
       "      <td>$16.49</td>\n",
       "      <td>6</td>\n",
       "      <td>$98.94</td>\n",
       "      <td>10.50</td>\n",
       "      <td>2.77</td>\n",
       "    </tr>\n",
       "    <tr>\n",
       "      <th>29</th>\n",
       "      <td>01/14/2015</td>\n",
       "      <td>2545</td>\n",
       "      <td>IOWA CITY</td>\n",
       "      <td>52245</td>\n",
       "      <td>52.0</td>\n",
       "      <td>Johnson</td>\n",
       "      <td>1081600.0</td>\n",
       "      <td>WHISKEY LIQUEUR</td>\n",
       "      <td>260</td>\n",
       "      <td>66199</td>\n",
       "      <td>Piehole Apple Pie Mini</td>\n",
       "      <td>500</td>\n",
       "      <td>$4.90</td>\n",
       "      <td>$7.35</td>\n",
       "      <td>1</td>\n",
       "      <td>$7.35</td>\n",
       "      <td>0.50</td>\n",
       "      <td>0.13</td>\n",
       "    </tr>\n",
       "    <tr>\n",
       "      <th>...</th>\n",
       "      <td>...</td>\n",
       "      <td>...</td>\n",
       "      <td>...</td>\n",
       "      <td>...</td>\n",
       "      <td>...</td>\n",
       "      <td>...</td>\n",
       "      <td>...</td>\n",
       "      <td>...</td>\n",
       "      <td>...</td>\n",
       "      <td>...</td>\n",
       "      <td>...</td>\n",
       "      <td>...</td>\n",
       "      <td>...</td>\n",
       "      <td>...</td>\n",
       "      <td>...</td>\n",
       "      <td>...</td>\n",
       "      <td>...</td>\n",
       "      <td>...</td>\n",
       "    </tr>\n",
       "    <tr>\n",
       "      <th>270925</th>\n",
       "      <td>01/05/2015</td>\n",
       "      <td>2837</td>\n",
       "      <td>WATERLOO</td>\n",
       "      <td>50702</td>\n",
       "      <td>7.0</td>\n",
       "      <td>Black Hawk</td>\n",
       "      <td>1081200.0</td>\n",
       "      <td>CREAM LIQUEURS</td>\n",
       "      <td>260</td>\n",
       "      <td>68306</td>\n",
       "      <td>Emmets Irish Cream Liqueur</td>\n",
       "      <td>750</td>\n",
       "      <td>$6.00</td>\n",
       "      <td>$9.00</td>\n",
       "      <td>4</td>\n",
       "      <td>$36.00</td>\n",
       "      <td>3.00</td>\n",
       "      <td>0.79</td>\n",
       "    </tr>\n",
       "    <tr>\n",
       "      <th>270926</th>\n",
       "      <td>12/26/2015</td>\n",
       "      <td>2478</td>\n",
       "      <td>ALTOONA</td>\n",
       "      <td>50009</td>\n",
       "      <td>77.0</td>\n",
       "      <td>Polk</td>\n",
       "      <td>1022100.0</td>\n",
       "      <td>TEQUILA</td>\n",
       "      <td>410</td>\n",
       "      <td>89646</td>\n",
       "      <td>Patron Anejo</td>\n",
       "      <td>750</td>\n",
       "      <td>$31.00</td>\n",
       "      <td>$46.50</td>\n",
       "      <td>6</td>\n",
       "      <td>$279.00</td>\n",
       "      <td>4.50</td>\n",
       "      <td>1.19</td>\n",
       "    </tr>\n",
       "    <tr>\n",
       "      <th>270927</th>\n",
       "      <td>08/31/2015</td>\n",
       "      <td>2633</td>\n",
       "      <td>DES MOINES</td>\n",
       "      <td>50320</td>\n",
       "      <td>77.0</td>\n",
       "      <td>Polk</td>\n",
       "      <td>1031200.0</td>\n",
       "      <td>VODKA FLAVORED</td>\n",
       "      <td>260</td>\n",
       "      <td>77699</td>\n",
       "      <td>Smirnoff Orange</td>\n",
       "      <td>1000</td>\n",
       "      <td>$9.25</td>\n",
       "      <td>$13.88</td>\n",
       "      <td>12</td>\n",
       "      <td>$166.56</td>\n",
       "      <td>12.00</td>\n",
       "      <td>3.17</td>\n",
       "    </tr>\n",
       "    <tr>\n",
       "      <th>270928</th>\n",
       "      <td>10/07/2015</td>\n",
       "      <td>3896</td>\n",
       "      <td>IOWA CITY</td>\n",
       "      <td>52240</td>\n",
       "      <td>52.0</td>\n",
       "      <td>Johnson</td>\n",
       "      <td>1031080.0</td>\n",
       "      <td>VODKA 80 PROOF</td>\n",
       "      <td>300</td>\n",
       "      <td>36904</td>\n",
       "      <td>Mccormick Vodka Pet</td>\n",
       "      <td>375</td>\n",
       "      <td>$1.80</td>\n",
       "      <td>$2.70</td>\n",
       "      <td>48</td>\n",
       "      <td>$129.60</td>\n",
       "      <td>18.00</td>\n",
       "      <td>4.76</td>\n",
       "    </tr>\n",
       "    <tr>\n",
       "      <th>270929</th>\n",
       "      <td>01/25/2016</td>\n",
       "      <td>5070</td>\n",
       "      <td>WILTON</td>\n",
       "      <td>52778</td>\n",
       "      <td>70.0</td>\n",
       "      <td>Muscatine</td>\n",
       "      <td>1031080.0</td>\n",
       "      <td>VODKA 80 PROOF</td>\n",
       "      <td>380</td>\n",
       "      <td>37346</td>\n",
       "      <td>Phillips Vodka</td>\n",
       "      <td>750</td>\n",
       "      <td>$3.57</td>\n",
       "      <td>$5.36</td>\n",
       "      <td>4</td>\n",
       "      <td>$21.44</td>\n",
       "      <td>3.00</td>\n",
       "      <td>0.79</td>\n",
       "    </tr>\n",
       "    <tr>\n",
       "      <th>270930</th>\n",
       "      <td>10/13/2015</td>\n",
       "      <td>4634</td>\n",
       "      <td>CEDAR RAPIDS</td>\n",
       "      <td>52402</td>\n",
       "      <td>57.0</td>\n",
       "      <td>Linn</td>\n",
       "      <td>1031080.0</td>\n",
       "      <td>VODKA 80 PROOF</td>\n",
       "      <td>297</td>\n",
       "      <td>35914</td>\n",
       "      <td>Five O'clock Vodka</td>\n",
       "      <td>375</td>\n",
       "      <td>$1.93</td>\n",
       "      <td>$2.90</td>\n",
       "      <td>12</td>\n",
       "      <td>$34.80</td>\n",
       "      <td>4.50</td>\n",
       "      <td>1.19</td>\n",
       "    </tr>\n",
       "    <tr>\n",
       "      <th>270931</th>\n",
       "      <td>05/26/2015</td>\n",
       "      <td>2602</td>\n",
       "      <td>WEBSTER CITY</td>\n",
       "      <td>50595</td>\n",
       "      <td>40.0</td>\n",
       "      <td>Hamilton</td>\n",
       "      <td>1081900.0</td>\n",
       "      <td>MISC. AMERICAN CORDIALS &amp; LIQUEURS</td>\n",
       "      <td>65</td>\n",
       "      <td>85526</td>\n",
       "      <td>Dekuyper Signature Blue Curacao</td>\n",
       "      <td>750</td>\n",
       "      <td>$5.25</td>\n",
       "      <td>$7.88</td>\n",
       "      <td>12</td>\n",
       "      <td>$94.56</td>\n",
       "      <td>9.00</td>\n",
       "      <td>2.38</td>\n",
       "    </tr>\n",
       "    <tr>\n",
       "      <th>270932</th>\n",
       "      <td>06/18/2015</td>\n",
       "      <td>4604</td>\n",
       "      <td>NEWTON</td>\n",
       "      <td>50208</td>\n",
       "      <td>50.0</td>\n",
       "      <td>Jasper</td>\n",
       "      <td>1011300.0</td>\n",
       "      <td>TENNESSEE WHISKIES</td>\n",
       "      <td>85</td>\n",
       "      <td>26828</td>\n",
       "      <td>Jack Daniels Old #7 Black Lbl</td>\n",
       "      <td>1750</td>\n",
       "      <td>$29.67</td>\n",
       "      <td>$44.51</td>\n",
       "      <td>2</td>\n",
       "      <td>$89.02</td>\n",
       "      <td>3.50</td>\n",
       "      <td>0.92</td>\n",
       "    </tr>\n",
       "    <tr>\n",
       "      <th>270933</th>\n",
       "      <td>02/26/2015</td>\n",
       "      <td>4987</td>\n",
       "      <td>AMES</td>\n",
       "      <td>50010</td>\n",
       "      <td>85.0</td>\n",
       "      <td>Story</td>\n",
       "      <td>1062310.0</td>\n",
       "      <td>SPICED RUM</td>\n",
       "      <td>260</td>\n",
       "      <td>43336</td>\n",
       "      <td>Captain Morgan Original Spiced</td>\n",
       "      <td>750</td>\n",
       "      <td>$9.00</td>\n",
       "      <td>$13.50</td>\n",
       "      <td>3</td>\n",
       "      <td>$40.50</td>\n",
       "      <td>2.25</td>\n",
       "      <td>0.59</td>\n",
       "    </tr>\n",
       "    <tr>\n",
       "      <th>270934</th>\n",
       "      <td>03/18/2015</td>\n",
       "      <td>2623</td>\n",
       "      <td>SIOUX CITY</td>\n",
       "      <td>51104</td>\n",
       "      <td>97.0</td>\n",
       "      <td>Woodbury</td>\n",
       "      <td>1051110.0</td>\n",
       "      <td>BLACKBERRY BRANDIES</td>\n",
       "      <td>55</td>\n",
       "      <td>55068</td>\n",
       "      <td>Mr. Boston Blackberry Brandy</td>\n",
       "      <td>1750</td>\n",
       "      <td>$10.00</td>\n",
       "      <td>$15.00</td>\n",
       "      <td>2</td>\n",
       "      <td>$30.00</td>\n",
       "      <td>3.50</td>\n",
       "      <td>0.92</td>\n",
       "    </tr>\n",
       "    <tr>\n",
       "      <th>270935</th>\n",
       "      <td>06/08/2015</td>\n",
       "      <td>5126</td>\n",
       "      <td>DES MOINES</td>\n",
       "      <td>50310</td>\n",
       "      <td>77.0</td>\n",
       "      <td>Polk</td>\n",
       "      <td>1011300.0</td>\n",
       "      <td>TENNESSEE WHISKIES</td>\n",
       "      <td>85</td>\n",
       "      <td>86670</td>\n",
       "      <td>Jack Daniel's Tennessee Honey</td>\n",
       "      <td>750</td>\n",
       "      <td>$15.07</td>\n",
       "      <td>$22.61</td>\n",
       "      <td>3</td>\n",
       "      <td>$67.83</td>\n",
       "      <td>2.25</td>\n",
       "      <td>0.59</td>\n",
       "    </tr>\n",
       "    <tr>\n",
       "      <th>270936</th>\n",
       "      <td>03/31/2015</td>\n",
       "      <td>2552</td>\n",
       "      <td>CEDAR RAPIDS</td>\n",
       "      <td>52404</td>\n",
       "      <td>57.0</td>\n",
       "      <td>Linn</td>\n",
       "      <td>1022100.0</td>\n",
       "      <td>TEQUILA</td>\n",
       "      <td>395</td>\n",
       "      <td>89196</td>\n",
       "      <td>Jose Cuervo Especial Reposado Tequila</td>\n",
       "      <td>750</td>\n",
       "      <td>$10.49</td>\n",
       "      <td>$15.74</td>\n",
       "      <td>12</td>\n",
       "      <td>$188.88</td>\n",
       "      <td>9.00</td>\n",
       "      <td>2.38</td>\n",
       "    </tr>\n",
       "    <tr>\n",
       "      <th>270937</th>\n",
       "      <td>01/27/2015</td>\n",
       "      <td>2553</td>\n",
       "      <td>CRESTON</td>\n",
       "      <td>50801</td>\n",
       "      <td>88.0</td>\n",
       "      <td>Union</td>\n",
       "      <td>1082900.0</td>\n",
       "      <td>MISC. IMPORTED CORDIALS &amp; LIQUEURS</td>\n",
       "      <td>85</td>\n",
       "      <td>64676</td>\n",
       "      <td>Chambord Liqueur Royale De France</td>\n",
       "      <td>750</td>\n",
       "      <td>$18.56</td>\n",
       "      <td>$27.84</td>\n",
       "      <td>1</td>\n",
       "      <td>$27.84</td>\n",
       "      <td>0.75</td>\n",
       "      <td>0.20</td>\n",
       "    </tr>\n",
       "    <tr>\n",
       "      <th>270938</th>\n",
       "      <td>04/29/2015</td>\n",
       "      <td>3890</td>\n",
       "      <td>CEDAR RAPIDS</td>\n",
       "      <td>52405</td>\n",
       "      <td>57.0</td>\n",
       "      <td>Linn</td>\n",
       "      <td>1031080.0</td>\n",
       "      <td>VODKA 80 PROOF</td>\n",
       "      <td>260</td>\n",
       "      <td>37994</td>\n",
       "      <td>Smirnoff Vodka 80 Prf</td>\n",
       "      <td>375</td>\n",
       "      <td>$4.75</td>\n",
       "      <td>$7.13</td>\n",
       "      <td>3</td>\n",
       "      <td>$21.39</td>\n",
       "      <td>1.12</td>\n",
       "      <td>0.30</td>\n",
       "    </tr>\n",
       "    <tr>\n",
       "      <th>270939</th>\n",
       "      <td>05/04/2015</td>\n",
       "      <td>4876</td>\n",
       "      <td>HIAWATHA</td>\n",
       "      <td>52233</td>\n",
       "      <td>57.0</td>\n",
       "      <td>Linn</td>\n",
       "      <td>1031200.0</td>\n",
       "      <td>VODKA FLAVORED</td>\n",
       "      <td>380</td>\n",
       "      <td>42002</td>\n",
       "      <td>Uv Cake Vodka</td>\n",
       "      <td>500</td>\n",
       "      <td>$4.89</td>\n",
       "      <td>$7.34</td>\n",
       "      <td>6</td>\n",
       "      <td>$44.04</td>\n",
       "      <td>3.00</td>\n",
       "      <td>0.79</td>\n",
       "    </tr>\n",
       "    <tr>\n",
       "      <th>270940</th>\n",
       "      <td>01/21/2015</td>\n",
       "      <td>2523</td>\n",
       "      <td>CENTERVILLE</td>\n",
       "      <td>52544</td>\n",
       "      <td>4.0</td>\n",
       "      <td>Appanoose</td>\n",
       "      <td>1012200.0</td>\n",
       "      <td>SCOTCH WHISKIES</td>\n",
       "      <td>305</td>\n",
       "      <td>4936</td>\n",
       "      <td>Famous Grouse Scotch</td>\n",
       "      <td>750</td>\n",
       "      <td>$12.03</td>\n",
       "      <td>$18.05</td>\n",
       "      <td>4</td>\n",
       "      <td>$72.20</td>\n",
       "      <td>3.00</td>\n",
       "      <td>0.79</td>\n",
       "    </tr>\n",
       "    <tr>\n",
       "      <th>270941</th>\n",
       "      <td>02/09/2015</td>\n",
       "      <td>4856</td>\n",
       "      <td>LISBON</td>\n",
       "      <td>52253</td>\n",
       "      <td>57.0</td>\n",
       "      <td>Linn</td>\n",
       "      <td>1031080.0</td>\n",
       "      <td>VODKA 80 PROOF</td>\n",
       "      <td>55</td>\n",
       "      <td>35948</td>\n",
       "      <td>Fleischmann's Royal Vodka 80 Prf</td>\n",
       "      <td>1750</td>\n",
       "      <td>$6.68</td>\n",
       "      <td>$10.27</td>\n",
       "      <td>6</td>\n",
       "      <td>$61.62</td>\n",
       "      <td>10.50</td>\n",
       "      <td>2.77</td>\n",
       "    </tr>\n",
       "    <tr>\n",
       "      <th>270942</th>\n",
       "      <td>06/15/2015</td>\n",
       "      <td>2512</td>\n",
       "      <td>IOWA CITY</td>\n",
       "      <td>52240</td>\n",
       "      <td>52.0</td>\n",
       "      <td>Johnson</td>\n",
       "      <td>1011100.0</td>\n",
       "      <td>BLENDED WHISKIES</td>\n",
       "      <td>65</td>\n",
       "      <td>24466</td>\n",
       "      <td>Kessler Blend Whiskey Traveler</td>\n",
       "      <td>750</td>\n",
       "      <td>$5.51</td>\n",
       "      <td>$8.27</td>\n",
       "      <td>12</td>\n",
       "      <td>$99.24</td>\n",
       "      <td>9.00</td>\n",
       "      <td>2.38</td>\n",
       "    </tr>\n",
       "    <tr>\n",
       "      <th>270943</th>\n",
       "      <td>10/21/2015</td>\n",
       "      <td>4438</td>\n",
       "      <td>AMES</td>\n",
       "      <td>50010</td>\n",
       "      <td>85.0</td>\n",
       "      <td>Story</td>\n",
       "      <td>1011200.0</td>\n",
       "      <td>STRAIGHT BOURBON WHISKIES</td>\n",
       "      <td>65</td>\n",
       "      <td>19061</td>\n",
       "      <td>Jim Beam Mini</td>\n",
       "      <td>500</td>\n",
       "      <td>$6.83</td>\n",
       "      <td>$10.25</td>\n",
       "      <td>1</td>\n",
       "      <td>$10.25</td>\n",
       "      <td>0.50</td>\n",
       "      <td>0.13</td>\n",
       "    </tr>\n",
       "    <tr>\n",
       "      <th>270944</th>\n",
       "      <td>03/22/2016</td>\n",
       "      <td>2620</td>\n",
       "      <td>WINDSOR HEIGHTS</td>\n",
       "      <td>50311</td>\n",
       "      <td>77.0</td>\n",
       "      <td>Polk</td>\n",
       "      <td>1081240.0</td>\n",
       "      <td>GREEN CREME DE MENTHE</td>\n",
       "      <td>434</td>\n",
       "      <td>79336</td>\n",
       "      <td>Paramount Creme De Menthe/green</td>\n",
       "      <td>750</td>\n",
       "      <td>$4.75</td>\n",
       "      <td>$7.13</td>\n",
       "      <td>2</td>\n",
       "      <td>$14.26</td>\n",
       "      <td>1.50</td>\n",
       "      <td>0.40</td>\n",
       "    </tr>\n",
       "    <tr>\n",
       "      <th>270945</th>\n",
       "      <td>06/11/2015</td>\n",
       "      <td>2627</td>\n",
       "      <td>DES MOINES</td>\n",
       "      <td>50310</td>\n",
       "      <td>77.0</td>\n",
       "      <td>Polk</td>\n",
       "      <td>1062200.0</td>\n",
       "      <td>PUERTO RICO &amp; VIRGIN ISLANDS RUM</td>\n",
       "      <td>55</td>\n",
       "      <td>44215</td>\n",
       "      <td>Barton Light Rum</td>\n",
       "      <td>100</td>\n",
       "      <td>$0.89</td>\n",
       "      <td>$1.34</td>\n",
       "      <td>48</td>\n",
       "      <td>$64.32</td>\n",
       "      <td>4.80</td>\n",
       "      <td>1.27</td>\n",
       "    </tr>\n",
       "    <tr>\n",
       "      <th>270946</th>\n",
       "      <td>11/24/2015</td>\n",
       "      <td>5162</td>\n",
       "      <td>URBANDALE</td>\n",
       "      <td>50322</td>\n",
       "      <td>77.0</td>\n",
       "      <td>Polk</td>\n",
       "      <td>1031080.0</td>\n",
       "      <td>VODKA 80 PROOF</td>\n",
       "      <td>301</td>\n",
       "      <td>38176</td>\n",
       "      <td>Titos Vodka</td>\n",
       "      <td>750</td>\n",
       "      <td>$9.65</td>\n",
       "      <td>$14.48</td>\n",
       "      <td>4</td>\n",
       "      <td>$57.92</td>\n",
       "      <td>3.00</td>\n",
       "      <td>0.79</td>\n",
       "    </tr>\n",
       "    <tr>\n",
       "      <th>270947</th>\n",
       "      <td>05/12/2015</td>\n",
       "      <td>4375</td>\n",
       "      <td>GRIMES</td>\n",
       "      <td>50111</td>\n",
       "      <td>77.0</td>\n",
       "      <td>Polk</td>\n",
       "      <td>1062310.0</td>\n",
       "      <td>SPICED RUM</td>\n",
       "      <td>260</td>\n",
       "      <td>43334</td>\n",
       "      <td>Captain Morgan Spiced Rum</td>\n",
       "      <td>375</td>\n",
       "      <td>$5.00</td>\n",
       "      <td>$7.50</td>\n",
       "      <td>6</td>\n",
       "      <td>$45.00</td>\n",
       "      <td>2.25</td>\n",
       "      <td>0.59</td>\n",
       "    </tr>\n",
       "    <tr>\n",
       "      <th>270948</th>\n",
       "      <td>04/08/2015</td>\n",
       "      <td>2545</td>\n",
       "      <td>IOWA CITY</td>\n",
       "      <td>52245</td>\n",
       "      <td>52.0</td>\n",
       "      <td>Johnson</td>\n",
       "      <td>1062300.0</td>\n",
       "      <td>FLAVORED RUM</td>\n",
       "      <td>35</td>\n",
       "      <td>43145</td>\n",
       "      <td>Bacardi Pineapple Fusion</td>\n",
       "      <td>750</td>\n",
       "      <td>$8.50</td>\n",
       "      <td>$12.75</td>\n",
       "      <td>3</td>\n",
       "      <td>$38.25</td>\n",
       "      <td>2.25</td>\n",
       "      <td>0.59</td>\n",
       "    </tr>\n",
       "    <tr>\n",
       "      <th>270949</th>\n",
       "      <td>07/21/2015</td>\n",
       "      <td>2529</td>\n",
       "      <td>CEDAR RAPIDS</td>\n",
       "      <td>52405</td>\n",
       "      <td>57.0</td>\n",
       "      <td>Linn</td>\n",
       "      <td>1031100.0</td>\n",
       "      <td>100 PROOF VODKA</td>\n",
       "      <td>300</td>\n",
       "      <td>36887</td>\n",
       "      <td>McCormick Vodka</td>\n",
       "      <td>1000</td>\n",
       "      <td>$4.13</td>\n",
       "      <td>$6.20</td>\n",
       "      <td>3</td>\n",
       "      <td>$18.60</td>\n",
       "      <td>3.00</td>\n",
       "      <td>0.79</td>\n",
       "    </tr>\n",
       "    <tr>\n",
       "      <th>270950</th>\n",
       "      <td>12/22/2015</td>\n",
       "      <td>4057</td>\n",
       "      <td>DES MOINES</td>\n",
       "      <td>50316</td>\n",
       "      <td>77.0</td>\n",
       "      <td>Polk</td>\n",
       "      <td>1022100.0</td>\n",
       "      <td>TEQUILA</td>\n",
       "      <td>410</td>\n",
       "      <td>88291</td>\n",
       "      <td>Patron Tequila Silver Mini</td>\n",
       "      <td>300</td>\n",
       "      <td>$20.30</td>\n",
       "      <td>$30.45</td>\n",
       "      <td>4</td>\n",
       "      <td>$121.80</td>\n",
       "      <td>1.20</td>\n",
       "      <td>0.32</td>\n",
       "    </tr>\n",
       "    <tr>\n",
       "      <th>270951</th>\n",
       "      <td>11/04/2015</td>\n",
       "      <td>5151</td>\n",
       "      <td>IDA GROVE</td>\n",
       "      <td>51445</td>\n",
       "      <td>47.0</td>\n",
       "      <td>Ida</td>\n",
       "      <td>1011200.0</td>\n",
       "      <td>STRAIGHT BOURBON WHISKIES</td>\n",
       "      <td>259</td>\n",
       "      <td>17956</td>\n",
       "      <td>Evan Williams Str Bourbon</td>\n",
       "      <td>750</td>\n",
       "      <td>$7.47</td>\n",
       "      <td>$11.21</td>\n",
       "      <td>3</td>\n",
       "      <td>$33.63</td>\n",
       "      <td>2.25</td>\n",
       "      <td>0.59</td>\n",
       "    </tr>\n",
       "    <tr>\n",
       "      <th>270952</th>\n",
       "      <td>10/20/2015</td>\n",
       "      <td>5152</td>\n",
       "      <td>WATERLOO</td>\n",
       "      <td>50702</td>\n",
       "      <td>7.0</td>\n",
       "      <td>Black Hawk</td>\n",
       "      <td>1011300.0</td>\n",
       "      <td>TENNESSEE WHISKIES</td>\n",
       "      <td>85</td>\n",
       "      <td>26826</td>\n",
       "      <td>Jack Daniels Old #7 Black Lbl</td>\n",
       "      <td>750</td>\n",
       "      <td>$15.07</td>\n",
       "      <td>$22.61</td>\n",
       "      <td>6</td>\n",
       "      <td>$135.66</td>\n",
       "      <td>4.50</td>\n",
       "      <td>1.19</td>\n",
       "    </tr>\n",
       "    <tr>\n",
       "      <th>270953</th>\n",
       "      <td>11/20/2015</td>\n",
       "      <td>3562</td>\n",
       "      <td>WEST BURLINGTON</td>\n",
       "      <td>52655</td>\n",
       "      <td>29.0</td>\n",
       "      <td>Des Moines</td>\n",
       "      <td>1082900.0</td>\n",
       "      <td>MISC. IMPORTED CORDIALS &amp; LIQUEURS</td>\n",
       "      <td>192</td>\n",
       "      <td>65258</td>\n",
       "      <td>Jagermeister Liqueur</td>\n",
       "      <td>1750</td>\n",
       "      <td>$26.05</td>\n",
       "      <td>$39.08</td>\n",
       "      <td>6</td>\n",
       "      <td>$234.48</td>\n",
       "      <td>10.50</td>\n",
       "      <td>2.77</td>\n",
       "    </tr>\n",
       "    <tr>\n",
       "      <th>270954</th>\n",
       "      <td>01/27/2015</td>\n",
       "      <td>4446</td>\n",
       "      <td>URBANDALE</td>\n",
       "      <td>50322</td>\n",
       "      <td>77.0</td>\n",
       "      <td>Polk</td>\n",
       "      <td>1031080.0</td>\n",
       "      <td>VODKA 80 PROOF</td>\n",
       "      <td>260</td>\n",
       "      <td>37993</td>\n",
       "      <td>Smirnoff Vodka 80 Prf</td>\n",
       "      <td>200</td>\n",
       "      <td>$2.75</td>\n",
       "      <td>$4.13</td>\n",
       "      <td>8</td>\n",
       "      <td>$33.04</td>\n",
       "      <td>1.60</td>\n",
       "      <td>0.42</td>\n",
       "    </tr>\n",
       "  </tbody>\n",
       "</table>\n",
       "<p>270955 rows × 18 columns</p>\n",
       "</div>"
      ],
      "text/plain": [
       "              Date  Store Number             City Zip Code County Number  \\\n",
       "0       11/04/2015          3717           SUMNER    50674           9.0   \n",
       "1       03/02/2016          2614        DAVENPORT    52807          82.0   \n",
       "2       02/11/2016          2106      CEDAR FALLS    50613           7.0   \n",
       "3       02/03/2016          2501             AMES    50010          85.0   \n",
       "4       08/18/2015          3654          BELMOND    50421          99.0   \n",
       "5       04/20/2015          2569     CEDAR RAPIDS    52402          57.0   \n",
       "6       08/05/2015          2596          OTTUMWA    52501          90.0   \n",
       "7       06/25/2015          3456       CLEAR LAKE    50428          17.0   \n",
       "8       01/04/2016          4757        BONDURANT    50035          77.0   \n",
       "9       11/10/2015          4346       SHELLSBURG    52332           6.0   \n",
       "10      09/28/2015          2648  WEST DES MOINES    50265          77.0   \n",
       "11      10/28/2015          2600        OSKALOOSA    52577          62.0   \n",
       "12      01/22/2015          3858        DAVENPORT    52806          82.0   \n",
       "13      02/29/2016          4673       WEST POINT    52656          56.0   \n",
       "14      01/04/2016          2670       CORALVILLE    52241          52.0   \n",
       "15      06/10/2015          3717           SUMNER    50674           9.0   \n",
       "16      02/25/2016          2130         WATERLOO    50703           7.0   \n",
       "17      12/29/2015          2600        OSKALOOSA    52577          62.0   \n",
       "18      12/26/2015          4604           NEWTON    50208          50.0   \n",
       "19      03/04/2015          2614        DAVENPORT    52807          82.0   \n",
       "20      01/16/2015          2590     CEDAR RAPIDS    52402          57.0   \n",
       "21      01/13/2015          3942           TOLEDO    52342          86.0   \n",
       "22      03/24/2015          3981     SIOUX CENTER    51250          84.0   \n",
       "23      11/12/2015          4376       MASON CITY    50401          17.0   \n",
       "24      03/14/2016          2618     CEDAR RAPIDS    52402          57.0   \n",
       "25      02/03/2015          3390          MILFORD    51351          30.0   \n",
       "26      11/23/2015          3565        IOWA CITY    52246          52.0   \n",
       "27      04/21/2015          3963   COUNCIL BLUFFS    51501          78.0   \n",
       "28      12/01/2015          4375           GRIMES    50111          77.0   \n",
       "29      01/14/2015          2545        IOWA CITY    52245          52.0   \n",
       "...            ...           ...              ...      ...           ...   \n",
       "270925  01/05/2015          2837         WATERLOO    50702           7.0   \n",
       "270926  12/26/2015          2478          ALTOONA    50009          77.0   \n",
       "270927  08/31/2015          2633       DES MOINES    50320          77.0   \n",
       "270928  10/07/2015          3896        IOWA CITY    52240          52.0   \n",
       "270929  01/25/2016          5070           WILTON    52778          70.0   \n",
       "270930  10/13/2015          4634     CEDAR RAPIDS    52402          57.0   \n",
       "270931  05/26/2015          2602     WEBSTER CITY    50595          40.0   \n",
       "270932  06/18/2015          4604           NEWTON    50208          50.0   \n",
       "270933  02/26/2015          4987             AMES    50010          85.0   \n",
       "270934  03/18/2015          2623       SIOUX CITY    51104          97.0   \n",
       "270935  06/08/2015          5126       DES MOINES    50310          77.0   \n",
       "270936  03/31/2015          2552     CEDAR RAPIDS    52404          57.0   \n",
       "270937  01/27/2015          2553          CRESTON    50801          88.0   \n",
       "270938  04/29/2015          3890     CEDAR RAPIDS    52405          57.0   \n",
       "270939  05/04/2015          4876         HIAWATHA    52233          57.0   \n",
       "270940  01/21/2015          2523      CENTERVILLE    52544           4.0   \n",
       "270941  02/09/2015          4856           LISBON    52253          57.0   \n",
       "270942  06/15/2015          2512        IOWA CITY    52240          52.0   \n",
       "270943  10/21/2015          4438             AMES    50010          85.0   \n",
       "270944  03/22/2016          2620  WINDSOR HEIGHTS    50311          77.0   \n",
       "270945  06/11/2015          2627       DES MOINES    50310          77.0   \n",
       "270946  11/24/2015          5162        URBANDALE    50322          77.0   \n",
       "270947  05/12/2015          4375           GRIMES    50111          77.0   \n",
       "270948  04/08/2015          2545        IOWA CITY    52245          52.0   \n",
       "270949  07/21/2015          2529     CEDAR RAPIDS    52405          57.0   \n",
       "270950  12/22/2015          4057       DES MOINES    50316          77.0   \n",
       "270951  11/04/2015          5151        IDA GROVE    51445          47.0   \n",
       "270952  10/20/2015          5152         WATERLOO    50702           7.0   \n",
       "270953  11/20/2015          3562  WEST BURLINGTON    52655          29.0   \n",
       "270954  01/27/2015          4446        URBANDALE    50322          77.0   \n",
       "\n",
       "               County   Category                       Category Name  \\\n",
       "0              Bremer  1051100.0                    APRICOT BRANDIES   \n",
       "1               Scott  1011100.0                    BLENDED WHISKIES   \n",
       "2          Black Hawk  1011200.0           STRAIGHT BOURBON WHISKIES   \n",
       "3               Story  1071100.0                  AMERICAN COCKTAILS   \n",
       "4              Wright  1031080.0                      VODKA 80 PROOF   \n",
       "5                Linn  1041100.0                   AMERICAN DRY GINS   \n",
       "6             Wapello  1051010.0             AMERICAN GRAPE BRANDIES   \n",
       "7         Cerro Gordo  1012100.0                   CANADIAN WHISKIES   \n",
       "8                Polk  1032080.0                      IMPORTED VODKA   \n",
       "9              Benton  1081315.0                   CINNAMON SCHNAPPS   \n",
       "10               Polk  1011250.0      SINGLE BARREL BOURBON WHISKIES   \n",
       "11            Mahaska  1071100.0                  AMERICAN COCKTAILS   \n",
       "12              Scott  1012100.0                   CANADIAN WHISKIES   \n",
       "13                Lee  1081300.0                 PEPPERMINT SCHNAPPS   \n",
       "14            Johnson  1031200.0                      VODKA FLAVORED   \n",
       "15             Bremer  1051100.0                    APRICOT BRANDIES   \n",
       "16         Black Hawk  1031100.0                     100 PROOF VODKA   \n",
       "17            Mahaska  1031200.0                      VODKA FLAVORED   \n",
       "18             Jasper  1081700.0         DISTILLED SPIRITS SPECIALTY   \n",
       "19              Scott  1012100.0                   CANADIAN WHISKIES   \n",
       "20               Linn  1031200.0                      VODKA FLAVORED   \n",
       "21               Tama  1012100.0                   CANADIAN WHISKIES   \n",
       "22              Sioux  1011100.0                    BLENDED WHISKIES   \n",
       "23        Cerro Gordo  1022100.0                             TEQUILA   \n",
       "24               Linn  1031080.0                      VODKA 80 PROOF   \n",
       "25          Dickinson  1011300.0                  TENNESSEE WHISKIES   \n",
       "26            Johnson  1012100.0                   CANADIAN WHISKIES   \n",
       "27      Pottawattamie  1011100.0                    BLENDED WHISKIES   \n",
       "28               Polk  1031080.0                      VODKA 80 PROOF   \n",
       "29            Johnson  1081600.0                     WHISKEY LIQUEUR   \n",
       "...               ...        ...                                 ...   \n",
       "270925     Black Hawk  1081200.0                      CREAM LIQUEURS   \n",
       "270926           Polk  1022100.0                             TEQUILA   \n",
       "270927           Polk  1031200.0                      VODKA FLAVORED   \n",
       "270928        Johnson  1031080.0                      VODKA 80 PROOF   \n",
       "270929      Muscatine  1031080.0                      VODKA 80 PROOF   \n",
       "270930           Linn  1031080.0                      VODKA 80 PROOF   \n",
       "270931       Hamilton  1081900.0  MISC. AMERICAN CORDIALS & LIQUEURS   \n",
       "270932         Jasper  1011300.0                  TENNESSEE WHISKIES   \n",
       "270933          Story  1062310.0                          SPICED RUM   \n",
       "270934       Woodbury  1051110.0                 BLACKBERRY BRANDIES   \n",
       "270935           Polk  1011300.0                  TENNESSEE WHISKIES   \n",
       "270936           Linn  1022100.0                             TEQUILA   \n",
       "270937          Union  1082900.0  MISC. IMPORTED CORDIALS & LIQUEURS   \n",
       "270938           Linn  1031080.0                      VODKA 80 PROOF   \n",
       "270939           Linn  1031200.0                      VODKA FLAVORED   \n",
       "270940      Appanoose  1012200.0                     SCOTCH WHISKIES   \n",
       "270941           Linn  1031080.0                      VODKA 80 PROOF   \n",
       "270942        Johnson  1011100.0                    BLENDED WHISKIES   \n",
       "270943          Story  1011200.0           STRAIGHT BOURBON WHISKIES   \n",
       "270944           Polk  1081240.0               GREEN CREME DE MENTHE   \n",
       "270945           Polk  1062200.0    PUERTO RICO & VIRGIN ISLANDS RUM   \n",
       "270946           Polk  1031080.0                      VODKA 80 PROOF   \n",
       "270947           Polk  1062310.0                          SPICED RUM   \n",
       "270948        Johnson  1062300.0                        FLAVORED RUM   \n",
       "270949           Linn  1031100.0                     100 PROOF VODKA   \n",
       "270950           Polk  1022100.0                             TEQUILA   \n",
       "270951            Ida  1011200.0           STRAIGHT BOURBON WHISKIES   \n",
       "270952     Black Hawk  1011300.0                  TENNESSEE WHISKIES   \n",
       "270953     Des Moines  1082900.0  MISC. IMPORTED CORDIALS & LIQUEURS   \n",
       "270954           Polk  1031080.0                      VODKA 80 PROOF   \n",
       "\n",
       "        Vendor Number  Item Number                       Item Description  \\\n",
       "0                  55        54436              Mr. Boston Apricot Brandy   \n",
       "1                 395        27605                                Tin Cup   \n",
       "2                  65        19067                               Jim Beam   \n",
       "3                 395        59154                1800 Ultimate Margarita   \n",
       "4                 297        35918                     Five O'clock Vodka   \n",
       "5                 205        31473                      New Amsterdam Gin   \n",
       "6                  85        52806                          Korbel Brandy   \n",
       "7                  65        10628                   Canadian Club Whisky   \n",
       "8                 370        34006           Absolut Swedish Vodka 80 Prf   \n",
       "9                  65        82610                     Dekuyper Hot Damn!   \n",
       "10                 65        19235       Knob Creek Single Barrel Reserve   \n",
       "11                 55        57148          Chi-Chi's Margarita W/tequila   \n",
       "12                 65        15248                   Windsor Canadian Pet   \n",
       "13                322        75211                          Kinky Liqueur   \n",
       "14                380        41705                  Uv Red (cherry) Vodka   \n",
       "15                 55        54436              Mr. Boston Apricot Brandy   \n",
       "16                297        35913                     Five O'clock Vodka   \n",
       "17                380        41989                          Uv Cake Vodka   \n",
       "18                434        75087                        Juarez Gold Dss   \n",
       "19                434        13638           Lord Calvert Canadian Whisky   \n",
       "20                971        41474                   44 North Huckleberry   \n",
       "21                115        11786                  Black Velvet Traveler   \n",
       "22                260        25606            Seagrams 7 Crown Bl Whiskey   \n",
       "23                395        89196  Jose Cuervo Especial Reposado Tequila   \n",
       "24                297        35926                 Five O'clock PET Vodka   \n",
       "25                 85        26827          Jack Daniels Old #7 Black Lbl   \n",
       "26                260        11290       Crown Royal Canadian Whisky Mini   \n",
       "27                434        24156                  Hawkeye Blend Whiskey   \n",
       "28                380        37338                           UV Vodka PET   \n",
       "29                260        66199                 Piehole Apple Pie Mini   \n",
       "...               ...          ...                                    ...   \n",
       "270925            260        68306             Emmets Irish Cream Liqueur   \n",
       "270926            410        89646                           Patron Anejo   \n",
       "270927            260        77699                        Smirnoff Orange   \n",
       "270928            300        36904                    Mccormick Vodka Pet   \n",
       "270929            380        37346                         Phillips Vodka   \n",
       "270930            297        35914                     Five O'clock Vodka   \n",
       "270931             65        85526        Dekuyper Signature Blue Curacao   \n",
       "270932             85        26828          Jack Daniels Old #7 Black Lbl   \n",
       "270933            260        43336         Captain Morgan Original Spiced   \n",
       "270934             55        55068           Mr. Boston Blackberry Brandy   \n",
       "270935             85        86670          Jack Daniel's Tennessee Honey   \n",
       "270936            395        89196  Jose Cuervo Especial Reposado Tequila   \n",
       "270937             85        64676      Chambord Liqueur Royale De France   \n",
       "270938            260        37994                  Smirnoff Vodka 80 Prf   \n",
       "270939            380        42002                          Uv Cake Vodka   \n",
       "270940            305         4936                   Famous Grouse Scotch   \n",
       "270941             55        35948       Fleischmann's Royal Vodka 80 Prf   \n",
       "270942             65        24466         Kessler Blend Whiskey Traveler   \n",
       "270943             65        19061                          Jim Beam Mini   \n",
       "270944            434        79336        Paramount Creme De Menthe/green   \n",
       "270945             55        44215                       Barton Light Rum   \n",
       "270946            301        38176                            Titos Vodka   \n",
       "270947            260        43334              Captain Morgan Spiced Rum   \n",
       "270948             35        43145               Bacardi Pineapple Fusion   \n",
       "270949            300        36887                        McCormick Vodka   \n",
       "270950            410        88291             Patron Tequila Silver Mini   \n",
       "270951            259        17956              Evan Williams Str Bourbon   \n",
       "270952             85        26826          Jack Daniels Old #7 Black Lbl   \n",
       "270953            192        65258                   Jagermeister Liqueur   \n",
       "270954            260        37993                  Smirnoff Vodka 80 Prf   \n",
       "\n",
       "        Bottle Volume (ml) State Bottle Cost State Bottle Retail  \\\n",
       "0                      750             $4.50               $6.75   \n",
       "1                      750            $13.75              $20.63   \n",
       "2                     1000            $12.59              $18.89   \n",
       "3                     1750             $9.50              $14.25   \n",
       "4                     1750             $7.20              $10.80   \n",
       "5                     1750            $13.32              $19.98   \n",
       "6                      750             $6.66               $9.99   \n",
       "7                     1750            $15.75              $23.63   \n",
       "8                      750            $11.49              $17.24   \n",
       "9                     1000             $7.62              $11.43   \n",
       "10                     750            $26.24              $39.36   \n",
       "11                    1750             $6.00               $9.25   \n",
       "12                    1750             $8.92              $13.38   \n",
       "13                     750            $10.00              $15.00   \n",
       "14                    1000             $7.50              $11.25   \n",
       "15                     750             $4.50               $6.75   \n",
       "16                     200             $1.13               $1.70   \n",
       "17                     750             $6.50               $9.75   \n",
       "18                    1000             $4.92               $7.38   \n",
       "19                    1750             $9.97              $14.96   \n",
       "20                     750            $14.25              $21.38   \n",
       "21                     750             $5.23               $7.85   \n",
       "22                     750             $7.00              $10.50   \n",
       "23                     750            $10.49              $15.74   \n",
       "24                     750             $3.37               $5.06   \n",
       "25                    1000            $17.90              $26.85   \n",
       "26                     300             $7.35              $11.03   \n",
       "27                     750             $3.50               $5.25   \n",
       "28                    1750            $10.99              $16.49   \n",
       "29                     500             $4.90               $7.35   \n",
       "...                    ...               ...                 ...   \n",
       "270925                 750             $6.00               $9.00   \n",
       "270926                 750            $31.00              $46.50   \n",
       "270927                1000             $9.25              $13.88   \n",
       "270928                 375             $1.80               $2.70   \n",
       "270929                 750             $3.57               $5.36   \n",
       "270930                 375             $1.93               $2.90   \n",
       "270931                 750             $5.25               $7.88   \n",
       "270932                1750            $29.67              $44.51   \n",
       "270933                 750             $9.00              $13.50   \n",
       "270934                1750            $10.00              $15.00   \n",
       "270935                 750            $15.07              $22.61   \n",
       "270936                 750            $10.49              $15.74   \n",
       "270937                 750            $18.56              $27.84   \n",
       "270938                 375             $4.75               $7.13   \n",
       "270939                 500             $4.89               $7.34   \n",
       "270940                 750            $12.03              $18.05   \n",
       "270941                1750             $6.68              $10.27   \n",
       "270942                 750             $5.51               $8.27   \n",
       "270943                 500             $6.83              $10.25   \n",
       "270944                 750             $4.75               $7.13   \n",
       "270945                 100             $0.89               $1.34   \n",
       "270946                 750             $9.65              $14.48   \n",
       "270947                 375             $5.00               $7.50   \n",
       "270948                 750             $8.50              $12.75   \n",
       "270949                1000             $4.13               $6.20   \n",
       "270950                 300            $20.30              $30.45   \n",
       "270951                 750             $7.47              $11.21   \n",
       "270952                 750            $15.07              $22.61   \n",
       "270953                1750            $26.05              $39.08   \n",
       "270954                 200             $2.75               $4.13   \n",
       "\n",
       "        Bottles Sold Sale (Dollars)  Volume Sold (Liters)  \\\n",
       "0                 12         $81.00                  9.00   \n",
       "1                  2         $41.26                  1.50   \n",
       "2                 24        $453.36                 24.00   \n",
       "3                  6         $85.50                 10.50   \n",
       "4                 12        $129.60                 21.00   \n",
       "5                  6        $119.88                 10.50   \n",
       "6                  3         $29.97                  2.25   \n",
       "7                  2         $47.26                  3.50   \n",
       "8                  4         $68.96                  3.00   \n",
       "9                  2         $22.86                  2.00   \n",
       "10                 6        $236.16                  4.50   \n",
       "11                 6         $55.50                 10.50   \n",
       "12                 1         $13.38                  1.75   \n",
       "13                12        $180.00                  9.00   \n",
       "14                12        $135.00                 12.00   \n",
       "15                 4         $27.00                  3.00   \n",
       "16                48         $81.60                  9.60   \n",
       "17                12        $117.00                  9.00   \n",
       "18                24        $177.12                 24.00   \n",
       "19                 6         $89.76                 10.50   \n",
       "20                 2         $42.76                  1.50   \n",
       "21                12         $94.20                  9.00   \n",
       "22                12        $126.00                  9.00   \n",
       "23                12        $188.88                  9.00   \n",
       "24                12         $60.72                  9.00   \n",
       "25                24        $644.40                 24.00   \n",
       "26                 1         $11.03                  0.30   \n",
       "27                 3         $15.75                  2.25   \n",
       "28                 6         $98.94                 10.50   \n",
       "29                 1          $7.35                  0.50   \n",
       "...              ...            ...                   ...   \n",
       "270925             4         $36.00                  3.00   \n",
       "270926             6        $279.00                  4.50   \n",
       "270927            12        $166.56                 12.00   \n",
       "270928            48        $129.60                 18.00   \n",
       "270929             4         $21.44                  3.00   \n",
       "270930            12         $34.80                  4.50   \n",
       "270931            12         $94.56                  9.00   \n",
       "270932             2         $89.02                  3.50   \n",
       "270933             3         $40.50                  2.25   \n",
       "270934             2         $30.00                  3.50   \n",
       "270935             3         $67.83                  2.25   \n",
       "270936            12        $188.88                  9.00   \n",
       "270937             1         $27.84                  0.75   \n",
       "270938             3         $21.39                  1.12   \n",
       "270939             6         $44.04                  3.00   \n",
       "270940             4         $72.20                  3.00   \n",
       "270941             6         $61.62                 10.50   \n",
       "270942            12         $99.24                  9.00   \n",
       "270943             1         $10.25                  0.50   \n",
       "270944             2         $14.26                  1.50   \n",
       "270945            48         $64.32                  4.80   \n",
       "270946             4         $57.92                  3.00   \n",
       "270947             6         $45.00                  2.25   \n",
       "270948             3         $38.25                  2.25   \n",
       "270949             3         $18.60                  3.00   \n",
       "270950             4        $121.80                  1.20   \n",
       "270951             3         $33.63                  2.25   \n",
       "270952             6        $135.66                  4.50   \n",
       "270953             6        $234.48                 10.50   \n",
       "270954             8         $33.04                  1.60   \n",
       "\n",
       "        Volume Sold (Gallons)  \n",
       "0                        2.38  \n",
       "1                        0.40  \n",
       "2                        6.34  \n",
       "3                        2.77  \n",
       "4                        5.55  \n",
       "5                        2.77  \n",
       "6                        0.59  \n",
       "7                        0.92  \n",
       "8                        0.79  \n",
       "9                        0.53  \n",
       "10                       1.19  \n",
       "11                       2.77  \n",
       "12                       0.46  \n",
       "13                       2.38  \n",
       "14                       3.17  \n",
       "15                       0.79  \n",
       "16                       2.54  \n",
       "17                       2.38  \n",
       "18                       6.34  \n",
       "19                       2.77  \n",
       "20                       0.40  \n",
       "21                       2.38  \n",
       "22                       2.38  \n",
       "23                       2.38  \n",
       "24                       2.38  \n",
       "25                       6.34  \n",
       "26                       0.08  \n",
       "27                       0.59  \n",
       "28                       2.77  \n",
       "29                       0.13  \n",
       "...                       ...  \n",
       "270925                   0.79  \n",
       "270926                   1.19  \n",
       "270927                   3.17  \n",
       "270928                   4.76  \n",
       "270929                   0.79  \n",
       "270930                   1.19  \n",
       "270931                   2.38  \n",
       "270932                   0.92  \n",
       "270933                   0.59  \n",
       "270934                   0.92  \n",
       "270935                   0.59  \n",
       "270936                   2.38  \n",
       "270937                   0.20  \n",
       "270938                   0.30  \n",
       "270939                   0.79  \n",
       "270940                   0.79  \n",
       "270941                   2.77  \n",
       "270942                   2.38  \n",
       "270943                   0.13  \n",
       "270944                   0.40  \n",
       "270945                   1.27  \n",
       "270946                   0.79  \n",
       "270947                   0.59  \n",
       "270948                   0.59  \n",
       "270949                   0.79  \n",
       "270950                   0.32  \n",
       "270951                   0.59  \n",
       "270952                   1.19  \n",
       "270953                   2.77  \n",
       "270954                   0.42  \n",
       "\n",
       "[270955 rows x 18 columns]"
      ]
     },
     "execution_count": 7,
     "metadata": {},
     "output_type": "execute_result"
    }
   ],
   "source": [
    "iowa_clean"
   ]
  },
  {
   "cell_type": "markdown",
   "metadata": {},
   "source": [
    "### 3.2 Clean the columns"
   ]
  },
  {
   "cell_type": "code",
   "execution_count": 8,
   "metadata": {
    "collapsed": false
   },
   "outputs": [],
   "source": [
    "iowa_clean['State Bottle Cost'] = iowa_clean['State Bottle Cost'].str.replace('$', \"\")\n",
    "iowa_clean['State Bottle Retail'] = iowa_clean['State Bottle Retail'].str.replace('$', \"\")\n",
    "iowa_clean['Sale (Dollars)'] = iowa_clean['Sale (Dollars)'].str.replace('$', \"\")\n"
   ]
  },
  {
   "cell_type": "code",
   "execution_count": 9,
   "metadata": {
    "collapsed": false
   },
   "outputs": [
    {
     "data": {
      "text/html": [
       "<div>\n",
       "<table border=\"1\" class=\"dataframe\">\n",
       "  <thead>\n",
       "    <tr style=\"text-align: right;\">\n",
       "      <th></th>\n",
       "      <th>Date</th>\n",
       "      <th>Store Number</th>\n",
       "      <th>City</th>\n",
       "      <th>Zip Code</th>\n",
       "      <th>County Number</th>\n",
       "      <th>County</th>\n",
       "      <th>Category</th>\n",
       "      <th>Category Name</th>\n",
       "      <th>Vendor Number</th>\n",
       "      <th>Item Number</th>\n",
       "      <th>Item Description</th>\n",
       "      <th>Bottle Volume (ml)</th>\n",
       "      <th>State Bottle Cost</th>\n",
       "      <th>State Bottle Retail</th>\n",
       "      <th>Bottles Sold</th>\n",
       "      <th>Sale (Dollars)</th>\n",
       "      <th>Volume Sold (Liters)</th>\n",
       "      <th>Volume Sold (Gallons)</th>\n",
       "    </tr>\n",
       "  </thead>\n",
       "  <tbody>\n",
       "    <tr>\n",
       "      <th>0</th>\n",
       "      <td>11/04/2015</td>\n",
       "      <td>3717</td>\n",
       "      <td>SUMNER</td>\n",
       "      <td>50674</td>\n",
       "      <td>9.0</td>\n",
       "      <td>Bremer</td>\n",
       "      <td>1051100.0</td>\n",
       "      <td>APRICOT BRANDIES</td>\n",
       "      <td>55</td>\n",
       "      <td>54436</td>\n",
       "      <td>Mr. Boston Apricot Brandy</td>\n",
       "      <td>750</td>\n",
       "      <td>4.50</td>\n",
       "      <td>6.75</td>\n",
       "      <td>12</td>\n",
       "      <td>81.00</td>\n",
       "      <td>9.0</td>\n",
       "      <td>2.38</td>\n",
       "    </tr>\n",
       "    <tr>\n",
       "      <th>1</th>\n",
       "      <td>03/02/2016</td>\n",
       "      <td>2614</td>\n",
       "      <td>DAVENPORT</td>\n",
       "      <td>52807</td>\n",
       "      <td>82.0</td>\n",
       "      <td>Scott</td>\n",
       "      <td>1011100.0</td>\n",
       "      <td>BLENDED WHISKIES</td>\n",
       "      <td>395</td>\n",
       "      <td>27605</td>\n",
       "      <td>Tin Cup</td>\n",
       "      <td>750</td>\n",
       "      <td>13.75</td>\n",
       "      <td>20.63</td>\n",
       "      <td>2</td>\n",
       "      <td>41.26</td>\n",
       "      <td>1.5</td>\n",
       "      <td>0.40</td>\n",
       "    </tr>\n",
       "    <tr>\n",
       "      <th>2</th>\n",
       "      <td>02/11/2016</td>\n",
       "      <td>2106</td>\n",
       "      <td>CEDAR FALLS</td>\n",
       "      <td>50613</td>\n",
       "      <td>7.0</td>\n",
       "      <td>Black Hawk</td>\n",
       "      <td>1011200.0</td>\n",
       "      <td>STRAIGHT BOURBON WHISKIES</td>\n",
       "      <td>65</td>\n",
       "      <td>19067</td>\n",
       "      <td>Jim Beam</td>\n",
       "      <td>1000</td>\n",
       "      <td>12.59</td>\n",
       "      <td>18.89</td>\n",
       "      <td>24</td>\n",
       "      <td>453.36</td>\n",
       "      <td>24.0</td>\n",
       "      <td>6.34</td>\n",
       "    </tr>\n",
       "    <tr>\n",
       "      <th>3</th>\n",
       "      <td>02/03/2016</td>\n",
       "      <td>2501</td>\n",
       "      <td>AMES</td>\n",
       "      <td>50010</td>\n",
       "      <td>85.0</td>\n",
       "      <td>Story</td>\n",
       "      <td>1071100.0</td>\n",
       "      <td>AMERICAN COCKTAILS</td>\n",
       "      <td>395</td>\n",
       "      <td>59154</td>\n",
       "      <td>1800 Ultimate Margarita</td>\n",
       "      <td>1750</td>\n",
       "      <td>9.50</td>\n",
       "      <td>14.25</td>\n",
       "      <td>6</td>\n",
       "      <td>85.50</td>\n",
       "      <td>10.5</td>\n",
       "      <td>2.77</td>\n",
       "    </tr>\n",
       "    <tr>\n",
       "      <th>4</th>\n",
       "      <td>08/18/2015</td>\n",
       "      <td>3654</td>\n",
       "      <td>BELMOND</td>\n",
       "      <td>50421</td>\n",
       "      <td>99.0</td>\n",
       "      <td>Wright</td>\n",
       "      <td>1031080.0</td>\n",
       "      <td>VODKA 80 PROOF</td>\n",
       "      <td>297</td>\n",
       "      <td>35918</td>\n",
       "      <td>Five O'clock Vodka</td>\n",
       "      <td>1750</td>\n",
       "      <td>7.20</td>\n",
       "      <td>10.80</td>\n",
       "      <td>12</td>\n",
       "      <td>129.60</td>\n",
       "      <td>21.0</td>\n",
       "      <td>5.55</td>\n",
       "    </tr>\n",
       "  </tbody>\n",
       "</table>\n",
       "</div>"
      ],
      "text/plain": [
       "         Date  Store Number         City Zip Code County Number      County  \\\n",
       "0  11/04/2015          3717       SUMNER    50674           9.0      Bremer   \n",
       "1  03/02/2016          2614    DAVENPORT    52807          82.0       Scott   \n",
       "2  02/11/2016          2106  CEDAR FALLS    50613           7.0  Black Hawk   \n",
       "3  02/03/2016          2501         AMES    50010          85.0       Story   \n",
       "4  08/18/2015          3654      BELMOND    50421          99.0      Wright   \n",
       "\n",
       "    Category              Category Name  Vendor Number  Item Number  \\\n",
       "0  1051100.0           APRICOT BRANDIES             55        54436   \n",
       "1  1011100.0           BLENDED WHISKIES            395        27605   \n",
       "2  1011200.0  STRAIGHT BOURBON WHISKIES             65        19067   \n",
       "3  1071100.0         AMERICAN COCKTAILS            395        59154   \n",
       "4  1031080.0             VODKA 80 PROOF            297        35918   \n",
       "\n",
       "            Item Description  Bottle Volume (ml) State Bottle Cost  \\\n",
       "0  Mr. Boston Apricot Brandy                 750              4.50   \n",
       "1                    Tin Cup                 750             13.75   \n",
       "2                   Jim Beam                1000             12.59   \n",
       "3    1800 Ultimate Margarita                1750              9.50   \n",
       "4         Five O'clock Vodka                1750              7.20   \n",
       "\n",
       "  State Bottle Retail  Bottles Sold Sale (Dollars)  Volume Sold (Liters)  \\\n",
       "0                6.75            12          81.00                   9.0   \n",
       "1               20.63             2          41.26                   1.5   \n",
       "2               18.89            24         453.36                  24.0   \n",
       "3               14.25             6          85.50                  10.5   \n",
       "4               10.80            12         129.60                  21.0   \n",
       "\n",
       "   Volume Sold (Gallons)  \n",
       "0                   2.38  \n",
       "1                   0.40  \n",
       "2                   6.34  \n",
       "3                   2.77  \n",
       "4                   5.55  "
      ]
     },
     "execution_count": 9,
     "metadata": {},
     "output_type": "execute_result"
    }
   ],
   "source": [
    "iowa_clean.head()"
   ]
  },
  {
   "cell_type": "markdown",
   "metadata": {},
   "source": [
    "<img src=\"http://imgur.com/xDpSobf.png\" style=\"float: left; margin: 25px 15px 0px 0px; height: 25px\">\n",
    "\n",
    "### 3.3 Perform more extensive cleaning of the dataset\n",
    "\n",
    "Cleaning of data can mean a lot more than just fixing strings and numbers in columns. There are often logical errors with data, useless or nonsensical categories, redundancy of information, outliers, and many more problems.\n",
    "\n",
    "This dataset has problems beyond just fixing the types of columns. Though resolving them may not be required for EDA and analysis, if you want experience with \"deeper\" cleaning of data this is a great dataset to start practicing with.\n",
    "\n",
    "Keep in mind that some types of \"data cleaning\" is subjective: it's not always a cut-and-dry conversion of type or removal of null values. Subjectivity when dealing with data is just a fact of life for a data scientist. This isn't a kind of programming where things are just right or wrong."
   ]
  },
  {
   "cell_type": "code",
   "execution_count": 10,
   "metadata": {
    "collapsed": false,
    "scrolled": true
   },
   "outputs": [
    {
     "data": {
      "text/plain": [
       "Date                      object\n",
       "Store Number               int64\n",
       "City                      object\n",
       "Zip Code                  object\n",
       "County Number             object\n",
       "County                    object\n",
       "Category                  object\n",
       "Category Name             object\n",
       "Vendor Number              int64\n",
       "Item Number                int64\n",
       "Item Description          object\n",
       "Bottle Volume (ml)         int64\n",
       "State Bottle Cost         object\n",
       "State Bottle Retail       object\n",
       "Bottles Sold               int64\n",
       "Sale (Dollars)            object\n",
       "Volume Sold (Liters)     float64\n",
       "Volume Sold (Gallons)    float64\n",
       "dtype: object"
      ]
     },
     "execution_count": 10,
     "metadata": {},
     "output_type": "execute_result"
    }
   ],
   "source": [
    "iowa_clean.dtypes"
   ]
  },
  {
   "cell_type": "code",
   "execution_count": 11,
   "metadata": {
    "collapsed": false
   },
   "outputs": [
    {
     "name": "stdout",
     "output_type": "stream",
     "text": [
      "<class 'pandas.core.frame.DataFrame'>\n",
      "RangeIndex: 270955 entries, 0 to 270954\n",
      "Data columns (total 18 columns):\n",
      "Date                     270955 non-null object\n",
      "Store Number             270955 non-null int64\n",
      "City                     270955 non-null object\n",
      "Zip Code                 270955 non-null object\n",
      "County Number            270955 non-null object\n",
      "County                   270955 non-null object\n",
      "Category                 270955 non-null object\n",
      "Category Name            270955 non-null object\n",
      "Vendor Number            270955 non-null int64\n",
      "Item Number              270955 non-null int64\n",
      "Item Description         270955 non-null object\n",
      "Bottle Volume (ml)       270955 non-null int64\n",
      "State Bottle Cost        270955 non-null object\n",
      "State Bottle Retail      270955 non-null object\n",
      "Bottles Sold             270955 non-null int64\n",
      "Sale (Dollars)           270955 non-null object\n",
      "Volume Sold (Liters)     270955 non-null float64\n",
      "Volume Sold (Gallons)    270955 non-null float64\n",
      "dtypes: float64(2), int64(5), object(11)\n",
      "memory usage: 37.2+ MB\n"
     ]
    }
   ],
   "source": [
    "iowa_clean.info()"
   ]
  },
  {
   "cell_type": "code",
   "execution_count": 12,
   "metadata": {
    "collapsed": true
   },
   "outputs": [],
   "source": [
    "for i, ele in enumerate(iowa_clean[\"Volume Sold (Gallons)\"]):\n",
    "    if type(ele) != np.float64:\n",
    "        print i, ele"
   ]
  },
  {
   "cell_type": "code",
   "execution_count": 13,
   "metadata": {
    "collapsed": true
   },
   "outputs": [],
   "source": [
    "for i, ele in enumerate(iowa_clean[\"Volume Sold (Liters)\"]):\n",
    "    if type(ele) != np.float64:\n",
    "        print i, ele"
   ]
  },
  {
   "cell_type": "code",
   "execution_count": 14,
   "metadata": {
    "collapsed": true
   },
   "outputs": [],
   "source": [
    "for i, ele in enumerate(iowa_clean[\"Sale (Dollars)\"]):\n",
    "    if type(ele) != str:\n",
    "        print i, ele"
   ]
  },
  {
   "cell_type": "code",
   "execution_count": 15,
   "metadata": {
    "collapsed": true
   },
   "outputs": [],
   "source": [
    "for i, ele in enumerate(iowa_clean[\"Bottles Sold\"]):\n",
    "    if type(ele) != np.int64:\n",
    "        print i, ele"
   ]
  },
  {
   "cell_type": "code",
   "execution_count": 16,
   "metadata": {
    "collapsed": true
   },
   "outputs": [],
   "source": [
    "for i, ele in enumerate(iowa_clean[\"State Bottle Retail\"]):\n",
    "    if type(ele) != str:\n",
    "        print i, ele"
   ]
  },
  {
   "cell_type": "code",
   "execution_count": 17,
   "metadata": {
    "collapsed": true
   },
   "outputs": [],
   "source": [
    "for i, ele in enumerate(iowa_clean[\"State Bottle Cost\"]):\n",
    "    if type(ele) != str:\n",
    "        print i, ele"
   ]
  },
  {
   "cell_type": "code",
   "execution_count": 18,
   "metadata": {
    "collapsed": true
   },
   "outputs": [],
   "source": [
    "for i, ele in enumerate(iowa_clean[\"Bottle Volume (ml)\"]):\n",
    "    if type(ele) != np.int64:\n",
    "        print i, ele"
   ]
  },
  {
   "cell_type": "code",
   "execution_count": 19,
   "metadata": {
    "collapsed": true
   },
   "outputs": [],
   "source": [
    "for i, ele in enumerate(iowa_clean[\"Item Description\"]):\n",
    "    if type(ele) != str:\n",
    "        print i, ele"
   ]
  },
  {
   "cell_type": "code",
   "execution_count": 25,
   "metadata": {
    "collapsed": true
   },
   "outputs": [],
   "source": [
    "for i, ele in enumerate(iowa_clean[\"Item Number\"]):\n",
    "    if type(ele) != np.int64:\n",
    "        print i, ele"
   ]
  },
  {
   "cell_type": "code",
   "execution_count": 26,
   "metadata": {
    "collapsed": true
   },
   "outputs": [],
   "source": [
    "for i, ele in enumerate(iowa_clean[\"Vendor Number\"]):\n",
    "    if type(ele) != np.int64:\n",
    "        print i, ele"
   ]
  },
  {
   "cell_type": "code",
   "execution_count": 27,
   "metadata": {
    "collapsed": false
   },
   "outputs": [],
   "source": [
    "for i, ele in enumerate(iowa_clean[\"Category Name\"]):\n",
    "    if type(ele) != str:\n",
    "        iowa_clean['Category Name'][i] = ''\n",
    "        print i, ele\n",
    "        # nan = str FOUND REPEATED IN MANY CELLS, gonna change to:"
   ]
  },
  {
   "cell_type": "code",
   "execution_count": 28,
   "metadata": {
    "collapsed": false
   },
   "outputs": [],
   "source": [
    "for i, ele in enumerate(iowa_clean[\"Category\"]):\n",
    "    #if type(ele) != np.float64:\n",
    "    if type(ele) != str:\n",
    "        iowa_clean['Category'][i] = ''\n",
    "        print i, ele"
   ]
  },
  {
   "cell_type": "code",
   "execution_count": 29,
   "metadata": {
    "collapsed": false
   },
   "outputs": [],
   "source": [
    "for i, ele in enumerate(iowa_clean[\"County\"]):\n",
    "    if type(ele) != str:\n",
    "        iowa_clean['County'][i] = ''\n",
    "        print i, ele\n",
    "        # nan = str FOUND REPEATED IN MANY CELLS, gonna change to ''\n"
   ]
  },
  {
   "cell_type": "code",
   "execution_count": 30,
   "metadata": {
    "collapsed": false
   },
   "outputs": [],
   "source": [
    "for i, ele in enumerate(iowa_clean[\"County Number\"]):\n",
    "    #if type(ele) != np.float64:\n",
    "    if type(ele) != str:\n",
    "        iowa_clean['County Number'][i] = ''\n",
    "        print i, ele"
   ]
  },
  {
   "cell_type": "code",
   "execution_count": 32,
   "metadata": {
    "collapsed": false
   },
   "outputs": [],
   "source": [
    "for i, ele in enumerate(iowa_clean[\"Zip Code\"]):\n",
    "    try:\n",
    "        if type(np.int64(ele)) != np.int64:\n",
    "            print i, ele\n",
    "    except ValueError:\n",
    "        iowa_clean['Zip Code'][i] = '93621'\n",
    "        # 712-2 = str FOUND REPEATED IN MANY CELLS, gonna change to 93621\n",
    "#         print type(ele), i, ele\n",
    "        #pass"
   ]
  },
  {
   "cell_type": "code",
   "execution_count": 33,
   "metadata": {
    "collapsed": true
   },
   "outputs": [],
   "source": [
    "for i, ele in enumerate(iowa_clean[\"City\"]):\n",
    "    if type(ele) != str:\n",
    "        print i, ele"
   ]
  },
  {
   "cell_type": "code",
   "execution_count": 34,
   "metadata": {
    "collapsed": false
   },
   "outputs": [],
   "source": [
    "for i, ele in enumerate(iowa_clean[\"Store Number\"]):\n",
    "    if type(ele) != np.int64:\n",
    "        print i, ele"
   ]
  },
  {
   "cell_type": "code",
   "execution_count": 35,
   "metadata": {
    "collapsed": false
   },
   "outputs": [],
   "source": [
    "iowa_clean['Zip Code'] = iowa_clean['Zip Code'].astype(np.int64)\n",
    "for i, ele in enumerate(iowa_clean[\"Zip Code\"]):\n",
    "    if type(ele) != np.int64:\n",
    "        print i, ele"
   ]
  },
  {
   "cell_type": "code",
   "execution_count": 36,
   "metadata": {
    "collapsed": false
   },
   "outputs": [],
   "source": [
    "#iowa_clean['County Number'] = iowa_clean['County Number'].astype(np.int64)\n",
    "for i, ele in enumerate(iowa_clean[\"County Number\"]):\n",
    "    if type(ele) != str:\n",
    "        print i, ele"
   ]
  },
  {
   "cell_type": "code",
   "execution_count": 37,
   "metadata": {
    "collapsed": false
   },
   "outputs": [],
   "source": [
    "#iowa_clean['Category'] = iowa_clean['Category'].astype(np.int64)\n",
    "for i, ele in enumerate(iowa_clean[\"Category\"]):\n",
    "    if type(ele) != str:\n",
    "        print i, ele"
   ]
  },
  {
   "cell_type": "code",
   "execution_count": 38,
   "metadata": {
    "collapsed": false
   },
   "outputs": [],
   "source": [
    "iowa_clean['Bottle Volume (ml)'] = iowa_clean['Bottle Volume (ml)'].astype(np.float64)\n",
    "# for i, ele in enumerate(iowa_clean[\"Bottle Volume (ml)\"]):\n",
    "#     if type(ele) != np.float64:\n",
    "#         print i, ele"
   ]
  },
  {
   "cell_type": "code",
   "execution_count": 39,
   "metadata": {
    "collapsed": false
   },
   "outputs": [],
   "source": [
    "iowa_clean['State Bottle Cost'] = iowa_clean['State Bottle Cost'].astype(np.float)"
   ]
  },
  {
   "cell_type": "code",
   "execution_count": 40,
   "metadata": {
    "collapsed": false
   },
   "outputs": [],
   "source": [
    "iowa_clean['State Bottle Retail'] = iowa_clean['State Bottle Retail'].astype(np.float)"
   ]
  },
  {
   "cell_type": "code",
   "execution_count": 41,
   "metadata": {
    "collapsed": false
   },
   "outputs": [],
   "source": [
    "iowa_clean['Sale (Dollars)'] = iowa_clean['Sale (Dollars)'].astype(np.float)"
   ]
  },
  {
   "cell_type": "code",
   "execution_count": 42,
   "metadata": {
    "collapsed": false
   },
   "outputs": [
    {
     "data": {
      "text/plain": [
       "Date                      object\n",
       "Store Number               int64\n",
       "City                      object\n",
       "Zip Code                   int64\n",
       "County Number             object\n",
       "County                    object\n",
       "Category                  object\n",
       "Category Name             object\n",
       "Vendor Number              int64\n",
       "Item Number                int64\n",
       "Item Description          object\n",
       "Bottle Volume (ml)       float64\n",
       "State Bottle Cost        float64\n",
       "State Bottle Retail      float64\n",
       "Bottles Sold               int64\n",
       "Sale (Dollars)           float64\n",
       "Volume Sold (Liters)     float64\n",
       "Volume Sold (Gallons)    float64\n",
       "dtype: object"
      ]
     },
     "execution_count": 42,
     "metadata": {},
     "output_type": "execute_result"
    }
   ],
   "source": [
    "iowa_clean.dtypes"
   ]
  },
  {
   "cell_type": "markdown",
   "metadata": {},
   "source": [
    "<img src=\"http://imgur.com/l5NasQj.png\" style=\"float: left; margin: 25px 15px 0px 0px; height: 25px\">\n",
    "\n",
    "## 4. Filter/adjust the store data\n",
    "\n",
    "---\n",
    "\n",
    "Some stores may have opened or closed in 2015. These stores will have incorrect yearly summary statistics since they were not open the full year. We need to filter them out or find another way to deal with the inconsistent numbers of months across stores.\n",
    "\n",
    "It is up to you how you want to deal with this problem.\n",
    "\n",
    "1. Investigate problematic stores.\n",
    "2. Decide on an approach to deal with stores not open for the full 2015 year.\n",
    "3. Implement your plan.\n",
    "4. Briefly report on what you did and why.\n"
   ]
  },
  {
   "cell_type": "code",
   "execution_count": 43,
   "metadata": {
    "collapsed": false
   },
   "outputs": [],
   "source": [
    "#the above cells show change on datatypes as needed and removal \n",
    "#of unnecesary symbol"
   ]
  },
  {
   "cell_type": "code",
   "execution_count": 44,
   "metadata": {
    "collapsed": false
   },
   "outputs": [
    {
     "data": {
      "text/plain": [
       "0"
      ]
     },
     "execution_count": 44,
     "metadata": {},
     "output_type": "execute_result"
    }
   ],
   "source": [
    "#there are only 2016 and 2015 years\n",
    "contador = 0\n",
    "for date in iowa_clean['Date']:\n",
    "    if date[-4:] != '2015' and date[-4:] != '2016':\n",
    "        contador += 1\n",
    "contador"
   ]
  },
  {
   "cell_type": "code",
   "execution_count": 45,
   "metadata": {
    "collapsed": false
   },
   "outputs": [],
   "source": [
    "def is_2015(x):\n",
    "    return x[-4:] == '2015'\n",
    "iowa_clean_2015 = iowa_clean[iowa_clean['Date'].apply(is_2015)]\n"
   ]
  },
  {
   "cell_type": "code",
   "execution_count": 46,
   "metadata": {
    "collapsed": false
   },
   "outputs": [
    {
     "data": {
      "text/plain": [
       "28527245.39"
      ]
     },
     "execution_count": 46,
     "metadata": {},
     "output_type": "execute_result"
    }
   ],
   "source": [
    "# total sale 2015\n",
    "round(sum(iowa_clean_2015['Sale (Dollars)']), 2)\n"
   ]
  },
  {
   "cell_type": "code",
   "execution_count": 47,
   "metadata": {
    "collapsed": true
   },
   "outputs": [],
   "source": [
    "def is_2016(x):\n",
    "    return x[-4:] == '2016'\n",
    "iowa_clean_2016 = iowa_clean[iowa_clean['Date'].apply(is_2016)]\n"
   ]
  },
  {
   "cell_type": "code",
   "execution_count": 48,
   "metadata": {
    "collapsed": false
   },
   "outputs": [
    {
     "data": {
      "text/plain": [
       "6399497.56"
      ]
     },
     "execution_count": 48,
     "metadata": {},
     "output_type": "execute_result"
    }
   ],
   "source": [
    "# total sale 2016\n",
    "round(sum(iowa_clean_2016['Sale (Dollars)']), 2)\n"
   ]
  },
  {
   "cell_type": "code",
   "execution_count": 49,
   "metadata": {
    "collapsed": false
   },
   "outputs": [
    {
     "data": {
      "text/plain": [
       "34926742.95"
      ]
     },
     "execution_count": 49,
     "metadata": {},
     "output_type": "execute_result"
    }
   ],
   "source": [
    "# total sale\n",
    "total_sale = round(sum(iowa_clean['Sale (Dollars)']), 2)\n",
    "total_sale"
   ]
  },
  {
   "cell_type": "code",
   "execution_count": 50,
   "metadata": {
    "collapsed": true
   },
   "outputs": [],
   "source": [
    "# the entire data, from my perspective is needed. \n",
    "# you might want to delete certain stores because they were closed x number of months\n",
    "# but in my opinion, you dont need a defined number of rows, if cells are empty if would just be a zero in a sum"
   ]
  },
  {
   "cell_type": "code",
   "execution_count": null,
   "metadata": {
    "collapsed": true
   },
   "outputs": [],
   "source": []
  },
  {
   "cell_type": "markdown",
   "metadata": {},
   "source": [
    "<img src=\"http://imgur.com/l5NasQj.png\" style=\"float: left; margin: 25px 15px 0px 0px; height: 25px\">\n",
    "\n",
    "## 5. Proposals for new tax rates (Scenario 1)\n",
    "\n",
    "---\n",
    "\n",
    "You are a data scientist in residence at the Iowa State tax board. The Iowa State legislature is considering changes in the liquor tax rates and has assigned you to the project.\n",
    "\n",
    "### 5.1 Calculate yearly liquor sales for each store in 2015."
   ]
  },
  {
   "cell_type": "code",
   "execution_count": 51,
   "metadata": {
    "collapsed": false
   },
   "outputs": [
    {
     "data": {
      "text/html": [
       "<div>\n",
       "<table border=\"1\" class=\"dataframe\">\n",
       "  <thead>\n",
       "    <tr style=\"text-align: right;\">\n",
       "      <th></th>\n",
       "      <th>Date</th>\n",
       "      <th>Store Number</th>\n",
       "      <th>City</th>\n",
       "      <th>Zip Code</th>\n",
       "      <th>County Number</th>\n",
       "      <th>County</th>\n",
       "      <th>Category</th>\n",
       "      <th>Category Name</th>\n",
       "      <th>Vendor Number</th>\n",
       "      <th>Item Number</th>\n",
       "      <th>Item Description</th>\n",
       "      <th>Bottle Volume (ml)</th>\n",
       "      <th>State Bottle Cost</th>\n",
       "      <th>State Bottle Retail</th>\n",
       "      <th>Bottles Sold</th>\n",
       "      <th>Sale (Dollars)</th>\n",
       "      <th>Volume Sold (Liters)</th>\n",
       "      <th>Volume Sold (Gallons)</th>\n",
       "    </tr>\n",
       "  </thead>\n",
       "  <tbody>\n",
       "    <tr>\n",
       "      <th>0</th>\n",
       "      <td>11/04/2015</td>\n",
       "      <td>3717</td>\n",
       "      <td>SUMNER</td>\n",
       "      <td>50674</td>\n",
       "      <td>9.0</td>\n",
       "      <td>Bremer</td>\n",
       "      <td>1051100.0</td>\n",
       "      <td>APRICOT BRANDIES</td>\n",
       "      <td>55</td>\n",
       "      <td>54436</td>\n",
       "      <td>Mr. Boston Apricot Brandy</td>\n",
       "      <td>750.0</td>\n",
       "      <td>4.5</td>\n",
       "      <td>6.75</td>\n",
       "      <td>12</td>\n",
       "      <td>81.0</td>\n",
       "      <td>9.0</td>\n",
       "      <td>2.38</td>\n",
       "    </tr>\n",
       "    <tr>\n",
       "      <th>4</th>\n",
       "      <td>08/18/2015</td>\n",
       "      <td>3654</td>\n",
       "      <td>BELMOND</td>\n",
       "      <td>50421</td>\n",
       "      <td>99.0</td>\n",
       "      <td>Wright</td>\n",
       "      <td>1031080.0</td>\n",
       "      <td>VODKA 80 PROOF</td>\n",
       "      <td>297</td>\n",
       "      <td>35918</td>\n",
       "      <td>Five O'clock Vodka</td>\n",
       "      <td>1750.0</td>\n",
       "      <td>7.2</td>\n",
       "      <td>10.80</td>\n",
       "      <td>12</td>\n",
       "      <td>129.6</td>\n",
       "      <td>21.0</td>\n",
       "      <td>5.55</td>\n",
       "    </tr>\n",
       "  </tbody>\n",
       "</table>\n",
       "</div>"
      ],
      "text/plain": [
       "         Date  Store Number     City  Zip Code County Number  County  \\\n",
       "0  11/04/2015          3717   SUMNER     50674           9.0  Bremer   \n",
       "4  08/18/2015          3654  BELMOND     50421          99.0  Wright   \n",
       "\n",
       "    Category     Category Name  Vendor Number  Item Number  \\\n",
       "0  1051100.0  APRICOT BRANDIES             55        54436   \n",
       "4  1031080.0    VODKA 80 PROOF            297        35918   \n",
       "\n",
       "            Item Description  Bottle Volume (ml)  State Bottle Cost  \\\n",
       "0  Mr. Boston Apricot Brandy               750.0                4.5   \n",
       "4         Five O'clock Vodka              1750.0                7.2   \n",
       "\n",
       "   State Bottle Retail  Bottles Sold  Sale (Dollars)  Volume Sold (Liters)  \\\n",
       "0                 6.75            12            81.0                   9.0   \n",
       "4                10.80            12           129.6                  21.0   \n",
       "\n",
       "   Volume Sold (Gallons)  \n",
       "0                   2.38  \n",
       "4                   5.55  "
      ]
     },
     "execution_count": 51,
     "metadata": {},
     "output_type": "execute_result"
    }
   ],
   "source": [
    "#iowa\n",
    "iowa_clean_2015.head(2)"
   ]
  },
  {
   "cell_type": "code",
   "execution_count": 52,
   "metadata": {
    "collapsed": false,
    "scrolled": true
   },
   "outputs": [
    {
     "name": "stdout",
     "output_type": "stream",
     "text": [
      "Store Number\n",
      "2106    146326.22\n",
      "2113      9310.22\n",
      "2130    111871.43\n",
      "2152      7721.08\n",
      "2178     24324.18\n",
      "2190    121689.06\n",
      "2191    125093.49\n",
      "2200     22811.55\n",
      "2205     24681.39\n",
      "2228     17462.07\n",
      "2233     29553.34\n",
      "2238     11762.56\n",
      "2248     67682.06\n",
      "2285     76927.11\n",
      "2290     56514.43\n",
      "2327     10245.14\n",
      "2353     54000.55\n",
      "2367      5010.83\n",
      "2413     90065.02\n",
      "2445      7189.48\n",
      "2448     17740.70\n",
      "2459      7352.33\n",
      "2460     33731.76\n",
      "2465     25831.80\n",
      "2475     10681.07\n",
      "2478     19840.65\n",
      "2487     28900.96\n",
      "2498      2259.67\n",
      "2500    149121.63\n",
      "2501    144833.66\n",
      "          ...    \n",
      "5180      2239.44\n",
      "5181       963.04\n",
      "5182      2612.94\n",
      "5183       916.80\n",
      "5185      1077.39\n",
      "5186       298.86\n",
      "5187      4239.11\n",
      "5188      1887.73\n",
      "5189       604.20\n",
      "5190      1161.73\n",
      "5191       303.90\n",
      "5192        90.00\n",
      "5193       139.50\n",
      "5196       682.85\n",
      "5198      3985.06\n",
      "5199      2046.22\n",
      "5201       289.78\n",
      "5203       928.49\n",
      "5204       790.44\n",
      "5205        39.02\n",
      "5206       500.90\n",
      "5207      3197.95\n",
      "5212       504.54\n",
      "5213       180.00\n",
      "5215        56.03\n",
      "9001     28208.52\n",
      "9002     37700.52\n",
      "9010      5757.96\n",
      "9013      2217.48\n",
      "9018      6435.00\n",
      "Name: Sale (Dollars), dtype: float64\n",
      "28527245.39\n"
     ]
    }
   ],
   "source": [
    "print iowa_clean_2015.groupby(['Store Number'])['Sale (Dollars)'].sum()\n",
    "print round(sum(iowa_clean_2015.groupby(['Store Number'])['Sale (Dollars)'].sum()), 2)"
   ]
  },
  {
   "cell_type": "markdown",
   "metadata": {},
   "source": [
    "### 5.2 Calculate the profit each store is making in 2015.\n"
   ]
  },
  {
   "cell_type": "code",
   "execution_count": 53,
   "metadata": {
    "collapsed": false,
    "scrolled": true
   },
   "outputs": [
    {
     "data": {
      "text/html": [
       "<div>\n",
       "<table border=\"1\" class=\"dataframe\">\n",
       "  <thead>\n",
       "    <tr style=\"text-align: right;\">\n",
       "      <th></th>\n",
       "      <th>Date</th>\n",
       "      <th>Store Number</th>\n",
       "      <th>City</th>\n",
       "      <th>Zip Code</th>\n",
       "      <th>County Number</th>\n",
       "      <th>County</th>\n",
       "      <th>Category</th>\n",
       "      <th>Category Name</th>\n",
       "      <th>Vendor Number</th>\n",
       "      <th>Item Number</th>\n",
       "      <th>Item Description</th>\n",
       "      <th>Bottle Volume (ml)</th>\n",
       "      <th>State Bottle Cost</th>\n",
       "      <th>State Bottle Retail</th>\n",
       "      <th>Bottles Sold</th>\n",
       "      <th>Sale (Dollars)</th>\n",
       "      <th>Volume Sold (Liters)</th>\n",
       "      <th>Volume Sold (Gallons)</th>\n",
       "    </tr>\n",
       "  </thead>\n",
       "  <tbody>\n",
       "    <tr>\n",
       "      <th>0</th>\n",
       "      <td>11/04/2015</td>\n",
       "      <td>3717</td>\n",
       "      <td>SUMNER</td>\n",
       "      <td>50674</td>\n",
       "      <td>9.0</td>\n",
       "      <td>Bremer</td>\n",
       "      <td>1051100.0</td>\n",
       "      <td>APRICOT BRANDIES</td>\n",
       "      <td>55</td>\n",
       "      <td>54436</td>\n",
       "      <td>Mr. Boston Apricot Brandy</td>\n",
       "      <td>750.0</td>\n",
       "      <td>4.5</td>\n",
       "      <td>6.75</td>\n",
       "      <td>12</td>\n",
       "      <td>81.0</td>\n",
       "      <td>9.0</td>\n",
       "      <td>2.38</td>\n",
       "    </tr>\n",
       "    <tr>\n",
       "      <th>4</th>\n",
       "      <td>08/18/2015</td>\n",
       "      <td>3654</td>\n",
       "      <td>BELMOND</td>\n",
       "      <td>50421</td>\n",
       "      <td>99.0</td>\n",
       "      <td>Wright</td>\n",
       "      <td>1031080.0</td>\n",
       "      <td>VODKA 80 PROOF</td>\n",
       "      <td>297</td>\n",
       "      <td>35918</td>\n",
       "      <td>Five O'clock Vodka</td>\n",
       "      <td>1750.0</td>\n",
       "      <td>7.2</td>\n",
       "      <td>10.80</td>\n",
       "      <td>12</td>\n",
       "      <td>129.6</td>\n",
       "      <td>21.0</td>\n",
       "      <td>5.55</td>\n",
       "    </tr>\n",
       "  </tbody>\n",
       "</table>\n",
       "</div>"
      ],
      "text/plain": [
       "         Date  Store Number     City  Zip Code County Number  County  \\\n",
       "0  11/04/2015          3717   SUMNER     50674           9.0  Bremer   \n",
       "4  08/18/2015          3654  BELMOND     50421          99.0  Wright   \n",
       "\n",
       "    Category     Category Name  Vendor Number  Item Number  \\\n",
       "0  1051100.0  APRICOT BRANDIES             55        54436   \n",
       "4  1031080.0    VODKA 80 PROOF            297        35918   \n",
       "\n",
       "            Item Description  Bottle Volume (ml)  State Bottle Cost  \\\n",
       "0  Mr. Boston Apricot Brandy               750.0                4.5   \n",
       "4         Five O'clock Vodka              1750.0                7.2   \n",
       "\n",
       "   State Bottle Retail  Bottles Sold  Sale (Dollars)  Volume Sold (Liters)  \\\n",
       "0                 6.75            12            81.0                   9.0   \n",
       "4                10.80            12           129.6                  21.0   \n",
       "\n",
       "   Volume Sold (Gallons)  \n",
       "0                   2.38  \n",
       "4                   5.55  "
      ]
     },
     "execution_count": 53,
     "metadata": {},
     "output_type": "execute_result"
    }
   ],
   "source": [
    "iowa_clean_2015.head(2)\n",
    "iowa_clean_2015_profit = iowa_clean_2015.copy()\n",
    "iowa_clean_2015_profit.head(2)"
   ]
  },
  {
   "cell_type": "code",
   "execution_count": 54,
   "metadata": {
    "collapsed": false
   },
   "outputs": [],
   "source": [
    "iowa_clean_2015_profit['Investment'] = iowa_clean_2015_profit[\n",
    "    'State Bottle Cost'] * iowa_clean_2015_profit['Bottles Sold']"
   ]
  },
  {
   "cell_type": "code",
   "execution_count": 55,
   "metadata": {
    "collapsed": false
   },
   "outputs": [],
   "source": [
    "iowa_clean_2015_profit['Profit'] = iowa_clean_2015_profit[\n",
    "    'Sale (Dollars)'] - iowa_clean_2015_profit['Investment']"
   ]
  },
  {
   "cell_type": "code",
   "execution_count": 56,
   "metadata": {
    "collapsed": false
   },
   "outputs": [
    {
     "name": "stdout",
     "output_type": "stream",
     "text": [
      "1372 9540159.38\n"
     ]
    }
   ],
   "source": [
    "profit_2015_stores = iowa_clean_2015_profit.groupby(['Store Number'])['Profit'].sum()\n",
    "print len(profit_2015_stores), sum(profit_2015_stores)"
   ]
  },
  {
   "cell_type": "code",
   "execution_count": 57,
   "metadata": {
    "collapsed": true
   },
   "outputs": [],
   "source": [
    "#####"
   ]
  },
  {
   "cell_type": "code",
   "execution_count": 58,
   "metadata": {
    "collapsed": false
   },
   "outputs": [
    {
     "name": "stdout",
     "output_type": "stream",
     "text": [
      "1372 1372 11944345297.2\n"
     ]
    }
   ],
   "source": [
    "sbcost= iowa_clean_2015.groupby(['Store Number'])['State Bottle Cost'].sum()\n",
    "bsold = iowa_clean_2015.groupby(['Store Number'])['Bottles Sold'].sum()\n",
    "print len(sbcost), len(bsold), sum(sbcost.multiply(bsold))"
   ]
  },
  {
   "cell_type": "code",
   "execution_count": 59,
   "metadata": {
    "collapsed": false
   },
   "outputs": [],
   "source": [
    "#dictionary {store no: sbcost*bsold} 2015\n",
    "stores = {}\n",
    "for i, store in enumerate(iowa_clean['Store Number']):\n",
    "    if store not in stores.keys() and iowa_clean['Date'][i][-4:] == \"2015\":\n",
    "        stores[store] = round(iowa_clean['State Bottle Cost'][i] * iowa_clean['Bottles Sold'][i], 2)        \n",
    "    elif store in stores.keys() and iowa_clean['Date'][i][-4:] == \"2015\":\n",
    "        stores[store] += round(iowa_clean['State Bottle Cost'][i] * iowa_clean['Bottles Sold'][i], 2)\n",
    "stores_cost_2015 = stores"
   ]
  },
  {
   "cell_type": "code",
   "execution_count": 60,
   "metadata": {
    "collapsed": false
   },
   "outputs": [
    {
     "data": {
      "text/plain": [
       "(1372, 18987086.01)"
      ]
     },
     "execution_count": 60,
     "metadata": {},
     "output_type": "execute_result"
    }
   ],
   "source": [
    "len(stores_cost_2015), round(sum(stores_cost_2015.values()), 2)\n"
   ]
  },
  {
   "cell_type": "code",
   "execution_count": 61,
   "metadata": {
    "collapsed": false
   },
   "outputs": [
    {
     "name": "stdout",
     "output_type": "stream",
     "text": [
      "<pandas.core.groupby.SeriesGroupBy object at 0x11443c190>\n",
      "<pandas.core.groupby.SeriesGroupBy object at 0x11443cd90>\n",
      "1372 1372\n"
     ]
    }
   ],
   "source": [
    "sbretail= iowa_clean_2015.groupby(['Store Number'])['State Bottle Retail']\n",
    "bsold = iowa_clean_2015.groupby(['Store Number'])['Bottles Sold']\n",
    "print sbretail\n",
    "print bsold\n",
    "print len(sbretail), len(bsold)"
   ]
  },
  {
   "cell_type": "code",
   "execution_count": 62,
   "metadata": {
    "collapsed": false
   },
   "outputs": [],
   "source": [
    "#dictionary {store no: sbretail*bsold} 2015\n",
    "stores = {}\n",
    "for i, store in enumerate(iowa_clean['Store Number']):\n",
    "    if store not in stores.keys() and iowa_clean['Date'][i][-4:] == \"2015\":\n",
    "        stores[store] = round(iowa_clean['State Bottle Retail'][i] * iowa_clean['Bottles Sold'][i], 2)        \n",
    "    elif store in stores.keys() and iowa_clean['Date'][i][-4:] == \"2015\":\n",
    "        stores[store] += round(iowa_clean['State Bottle Retail'][i] * iowa_clean['Bottles Sold'][i], 2)\n",
    "stores_retail_2015 = stores"
   ]
  },
  {
   "cell_type": "code",
   "execution_count": 63,
   "metadata": {
    "collapsed": false
   },
   "outputs": [
    {
     "data": {
      "text/plain": [
       "(1372, 28527245.39)"
      ]
     },
     "execution_count": 63,
     "metadata": {},
     "output_type": "execute_result"
    }
   ],
   "source": [
    "len(stores_retail_2015), round(sum(stores_retail_2015.values()), 2)\n"
   ]
  },
  {
   "cell_type": "code",
   "execution_count": 64,
   "metadata": {
    "collapsed": false
   },
   "outputs": [
    {
     "data": {
      "text/plain": [
       "9540159.38"
      ]
     },
     "execution_count": 64,
     "metadata": {},
     "output_type": "execute_result"
    }
   ],
   "source": [
    "# calculating profit per store for 2015\n",
    "profit_2015 = sum(stores_retail_2015.values()) - sum(stores_cost_2015.values())\n",
    "round(profit_2015, 2)"
   ]
  },
  {
   "cell_type": "code",
   "execution_count": null,
   "metadata": {
    "collapsed": true
   },
   "outputs": [],
   "source": []
  },
  {
   "cell_type": "markdown",
   "metadata": {},
   "source": [
    "### 5.3 Investigate which Iowa counties are making the most profit on liquor per gallon in 2015."
   ]
  },
  {
   "cell_type": "code",
   "execution_count": 65,
   "metadata": {
    "collapsed": false
   },
   "outputs": [
    {
     "data": {
      "text/html": [
       "<div>\n",
       "<table border=\"1\" class=\"dataframe\">\n",
       "  <thead>\n",
       "    <tr style=\"text-align: right;\">\n",
       "      <th></th>\n",
       "      <th>Date</th>\n",
       "      <th>Store Number</th>\n",
       "      <th>City</th>\n",
       "      <th>Zip Code</th>\n",
       "      <th>County Number</th>\n",
       "      <th>County</th>\n",
       "      <th>Category</th>\n",
       "      <th>Category Name</th>\n",
       "      <th>Vendor Number</th>\n",
       "      <th>Item Number</th>\n",
       "      <th>Item Description</th>\n",
       "      <th>Bottle Volume (ml)</th>\n",
       "      <th>State Bottle Cost</th>\n",
       "      <th>State Bottle Retail</th>\n",
       "      <th>Bottles Sold</th>\n",
       "      <th>Sale (Dollars)</th>\n",
       "      <th>Volume Sold (Liters)</th>\n",
       "      <th>Volume Sold (Gallons)</th>\n",
       "    </tr>\n",
       "  </thead>\n",
       "  <tbody>\n",
       "    <tr>\n",
       "      <th>961</th>\n",
       "      <td>07/14/2015</td>\n",
       "      <td>4167</td>\n",
       "      <td>DUBUQUE</td>\n",
       "      <td>52001</td>\n",
       "      <td>31.0</td>\n",
       "      <td>Dubuque</td>\n",
       "      <td>1062310.0</td>\n",
       "      <td>SPICED RUM</td>\n",
       "      <td>260</td>\n",
       "      <td>43296</td>\n",
       "      <td>Captain Morgan Silver Spiced Rum</td>\n",
       "      <td>750.0</td>\n",
       "      <td>8.50</td>\n",
       "      <td>12.75</td>\n",
       "      <td>2</td>\n",
       "      <td>25.50</td>\n",
       "      <td>1.5</td>\n",
       "      <td>0.40</td>\n",
       "    </tr>\n",
       "    <tr>\n",
       "      <th>965</th>\n",
       "      <td>10/22/2015</td>\n",
       "      <td>3670</td>\n",
       "      <td>CORALVILLE</td>\n",
       "      <td>52241</td>\n",
       "      <td>52.0</td>\n",
       "      <td>Johnson</td>\n",
       "      <td>1031080.0</td>\n",
       "      <td>VODKA 80 PROOF</td>\n",
       "      <td>301</td>\n",
       "      <td>38178</td>\n",
       "      <td>Titos Handmade Vodka</td>\n",
       "      <td>1750.0</td>\n",
       "      <td>18.52</td>\n",
       "      <td>27.78</td>\n",
       "      <td>12</td>\n",
       "      <td>333.36</td>\n",
       "      <td>21.0</td>\n",
       "      <td>5.55</td>\n",
       "    </tr>\n",
       "  </tbody>\n",
       "</table>\n",
       "</div>"
      ],
      "text/plain": [
       "           Date  Store Number        City  Zip Code County Number   County  \\\n",
       "961  07/14/2015          4167     DUBUQUE     52001          31.0  Dubuque   \n",
       "965  10/22/2015          3670  CORALVILLE     52241          52.0  Johnson   \n",
       "\n",
       "      Category   Category Name  Vendor Number  Item Number  \\\n",
       "961  1062310.0      SPICED RUM            260        43296   \n",
       "965  1031080.0  VODKA 80 PROOF            301        38178   \n",
       "\n",
       "                     Item Description  Bottle Volume (ml)  State Bottle Cost  \\\n",
       "961  Captain Morgan Silver Spiced Rum               750.0               8.50   \n",
       "965              Titos Handmade Vodka              1750.0              18.52   \n",
       "\n",
       "     State Bottle Retail  Bottles Sold  Sale (Dollars)  Volume Sold (Liters)  \\\n",
       "961                12.75             2           25.50                   1.5   \n",
       "965                27.78            12          333.36                  21.0   \n",
       "\n",
       "     Volume Sold (Gallons)  \n",
       "961                   0.40  \n",
       "965                   5.55  "
      ]
     },
     "execution_count": 65,
     "metadata": {},
     "output_type": "execute_result"
    }
   ],
   "source": [
    "# iowa_clean_2015['County'].unique()\n",
    "iowa_clean_2015 = iowa_clean_2015[iowa_clean_2015['County'] != '']\n",
    "iowa_clean_2015[759:761]\n"
   ]
  },
  {
   "cell_type": "code",
   "execution_count": null,
   "metadata": {
    "collapsed": true
   },
   "outputs": [],
   "source": []
  },
  {
   "cell_type": "code",
   "execution_count": 66,
   "metadata": {
    "collapsed": false
   },
   "outputs": [
    {
     "data": {
      "text/plain": [
       "99"
      ]
     },
     "execution_count": 66,
     "metadata": {},
     "output_type": "execute_result"
    }
   ],
   "source": [
    "county_gallons_2015 = iowa_clean_2015.groupby(['County', 'County Number'])['Volume Sold (Gallons)'].sum()\n",
    "len(county_gallons_2015)\n"
   ]
  },
  {
   "cell_type": "code",
   "execution_count": 67,
   "metadata": {
    "collapsed": false,
    "scrolled": true
   },
   "outputs": [
    {
     "data": {
      "text/plain": [
       "County         County Number\n",
       "Polk           77.0             109384.49\n",
       "Linn           57.0              48036.54\n",
       "Scott          82.0              35246.58\n",
       "Black Hawk     7.0               28730.01\n",
       "Johnson        52.0              27968.43\n",
       "Pottawattamie  78.0              18252.20\n",
       "Woodbury       97.0              17825.81\n",
       "Dubuque        31.0              17300.85\n",
       "Story          85.0              16277.13\n",
       "Cerro Gordo    17.0              11356.93\n",
       "Dallas         25.0               7929.08\n",
       "Dickinson      30.0               7482.79\n",
       "Webster        94.0               7131.95\n",
       "Lee            56.0               7037.95\n",
       "Des Moines     29.0               6808.62\n",
       "Clinton        23.0               6582.70\n",
       "Muscatine      70.0               5544.49\n",
       "Warren         91.0               5313.44\n",
       "Carroll        14.0               5305.71\n",
       "Wapello        90.0               5024.45\n",
       "Marshall       64.0               4993.54\n",
       "Boone          8.0                3858.04\n",
       "Kossuth        55.0               3812.71\n",
       "Marion         63.0               3803.32\n",
       "Hardin         42.0               3699.42\n",
       "Jasper         50.0               3562.47\n",
       "Bremer         9.0                3502.07\n",
       "Clay           21.0               3181.81\n",
       "Buena Vista    11.0               3114.50\n",
       "O'Brien        71.0               3031.68\n",
       "                                  ...    \n",
       "Franklin       35.0               1126.25\n",
       "Cedar          16.0               1084.46\n",
       "Monona         67.0               1060.27\n",
       "Harrison       43.0               1044.15\n",
       "Humboldt       46.0               1001.23\n",
       "Mitchell       66.0                934.61\n",
       "Adair          1.0                 927.11\n",
       "Mills          65.0                897.51\n",
       "Pocahontas     76.0                892.42\n",
       "Chickasaw      19.0                870.00\n",
       "Hancock        41.0                779.47\n",
       "Lucas          59.0                692.50\n",
       "Grundy         38.0                676.04\n",
       "Guthrie        39.0                642.47\n",
       "Calhoun        13.0                634.91\n",
       "Butler         12.0                616.00\n",
       "Worth          98.0                598.97\n",
       "Monroe         68.0                554.44\n",
       "Louisa         58.0                485.42\n",
       "Osceola        72.0                479.39\n",
       "Audubon        5.0                 382.82\n",
       "Keokuk         54.0                347.51\n",
       "Ringgold       80.0                344.41\n",
       "Van Buren      89.0                331.49\n",
       "Decatur        27.0                305.93\n",
       "Wayne          93.0                242.80\n",
       "Davis          26.0                238.40\n",
       "Taylor         87.0                237.46\n",
       "Adams          2.0                 216.98\n",
       "Fremont        36.0                 49.45\n",
       "Name: Volume Sold (Gallons), dtype: float64"
      ]
     },
     "execution_count": 67,
     "metadata": {},
     "output_type": "execute_result"
    }
   ],
   "source": [
    "#sorting the counties per gallons sold\n",
    "sorted_counties_gallons_2015 = county_gallons_2015.sort_values(ascending=False)\n",
    "sorted_counties_gallons_2015"
   ]
  },
  {
   "cell_type": "code",
   "execution_count": null,
   "metadata": {
    "collapsed": true
   },
   "outputs": [],
   "source": []
  },
  {
   "cell_type": "markdown",
   "metadata": {},
   "source": [
    "<img src=\"http://imgur.com/xDpSobf.png\" style=\"float: left; margin: 25px 15px 0px 0px; height: 25px\">\n",
    "\n",
    "### 5.4 Plot a color map of average profit per county in 2015.\n",
    "\n",
    "[Check out this site](http://flowingdata.com/2009/11/12/how-to-make-a-us-county-thematic-map-using-free-tools/) for  information on how to create map visualizations in python. There are other resources online for map plotting in python as well.\n",
    "\n",
    "Another interesting map plot might show the difference in profit between time periods. Change in profit from November to December, for example."
   ]
  },
  {
   "cell_type": "code",
   "execution_count": 68,
   "metadata": {
    "collapsed": true
   },
   "outputs": [],
   "source": [
    "import csv\n",
    "from bs4 import BeautifulSoup"
   ]
  },
  {
   "cell_type": "code",
   "execution_count": 73,
   "metadata": {
    "collapsed": false
   },
   "outputs": [],
   "source": [
    "gallons = {}\n",
    "reader = '/Users/manuel/Desktop/dsi-sf-7-materials_manuel/datasets/iowa_liquor/Iowa_Liquor_sales_sample_10pct_2.csv'\n",
    "reader = csv.reader(open(reader), delimiter=\",\")\n",
    "for row in reader:\n",
    "#     print type(row[4].split('.')[0])\n",
    "#     print row[17].strip()\n",
    "#     break\n",
    "    try:\n",
    "        rate = float(row[17].strip() )\n",
    "        gallons['path'+row[4].split('.')[0]] = rate\n",
    "    except:\n",
    "        pass\n",
    "    "
   ]
  },
  {
   "cell_type": "code",
   "execution_count": 74,
   "metadata": {
    "collapsed": false
   },
   "outputs": [],
   "source": [
    "svg = open('Iowa_county_map.svg','r').read()\n",
    "soup = BeautifulSoup(svg, selfClosingTags=['defs', 'sodipodi:namedview'])\n",
    "paths = soup.find_all('path')\n",
    "colors = [\"#EFF2FB\", \"#A9A9F5\", \"#5858FA\", \"#0000FF\", \"#0101DF\", \"#0B0B61\"]\n",
    "path_style = 'font-size:12px;fill-rule:nonzero;stroke: #FFFFFF;stroke-opacity:1;stroke-width:0.1;stroke-miterlimit:4;stroke-dasharray:none;stroke-linecap:butt;marker-start:none;stroke-linejoin:bevel;fill:'\n"
   ]
  },
  {
   "cell_type": "code",
   "execution_count": null,
   "metadata": {
    "collapsed": false
   },
   "outputs": [],
   "source": []
  },
  {
   "cell_type": "code",
   "execution_count": 75,
   "metadata": {
    "collapsed": false
   },
   "outputs": [],
   "source": [
    "for p in paths:\n",
    "    if p['id'] not in ['State_Lines', 'separator']:\n",
    "        try:\n",
    "            rate = gallons[p['id']]\n",
    "        except:\n",
    "            continue\n",
    "        if rate > 10:\n",
    "            color_class = 5\n",
    "        elif rate > 8:\n",
    "            color_class = 4\n",
    "        elif rate > 6:\n",
    "            color_class = 3\n",
    "        elif rate > 4:\n",
    "            color_class = 2\n",
    "        elif rate > 2:\n",
    "            color_class = 1\n",
    "        else:\n",
    "            color_class = 0\n",
    "            \n",
    "        color = colors[color_class]\n",
    "        p['style'] = path_style + color\n"
   ]
  },
  {
   "cell_type": "code",
   "execution_count": 76,
   "metadata": {
    "collapsed": true
   },
   "outputs": [],
   "source": [
    "iowa_map = open(\"/Users/manuel/Desktop/iowa_map.svg\", \"w\")\n",
    "iowa_map.write(soup.prettify())\n",
    "iowa_map.close()"
   ]
  },
  {
   "cell_type": "code",
   "execution_count": null,
   "metadata": {
    "collapsed": true
   },
   "outputs": [],
   "source": []
  },
  {
   "cell_type": "markdown",
   "metadata": {},
   "source": [
    "### 5.5  Does profit scale proportionally to store size?\n",
    "\n",
    "Size of a store can be defined as the total gallons sold in 2015. Is the profit to store size ratio increasing as store size increases? Decreasing? Consistent?"
   ]
  },
  {
   "cell_type": "code",
   "execution_count": 77,
   "metadata": {
    "collapsed": false
   },
   "outputs": [
    {
     "data": {
      "text/html": [
       "<div>\n",
       "<table border=\"1\" class=\"dataframe\">\n",
       "  <thead>\n",
       "    <tr style=\"text-align: right;\">\n",
       "      <th></th>\n",
       "      <th>Date</th>\n",
       "      <th>Store Number</th>\n",
       "      <th>City</th>\n",
       "      <th>Zip Code</th>\n",
       "      <th>County Number</th>\n",
       "      <th>County</th>\n",
       "      <th>Category</th>\n",
       "      <th>Category Name</th>\n",
       "      <th>Vendor Number</th>\n",
       "      <th>Item Number</th>\n",
       "      <th>Item Description</th>\n",
       "      <th>Bottle Volume (ml)</th>\n",
       "      <th>State Bottle Cost</th>\n",
       "      <th>State Bottle Retail</th>\n",
       "      <th>Bottles Sold</th>\n",
       "      <th>Sale (Dollars)</th>\n",
       "      <th>Volume Sold (Liters)</th>\n",
       "      <th>Volume Sold (Gallons)</th>\n",
       "    </tr>\n",
       "  </thead>\n",
       "  <tbody>\n",
       "    <tr>\n",
       "      <th>0</th>\n",
       "      <td>11/04/2015</td>\n",
       "      <td>3717</td>\n",
       "      <td>SUMNER</td>\n",
       "      <td>50674</td>\n",
       "      <td>9.0</td>\n",
       "      <td>Bremer</td>\n",
       "      <td>1051100.0</td>\n",
       "      <td>APRICOT BRANDIES</td>\n",
       "      <td>55</td>\n",
       "      <td>54436</td>\n",
       "      <td>Mr. Boston Apricot Brandy</td>\n",
       "      <td>750.0</td>\n",
       "      <td>4.5</td>\n",
       "      <td>6.75</td>\n",
       "      <td>12</td>\n",
       "      <td>81.0</td>\n",
       "      <td>9.0</td>\n",
       "      <td>2.38</td>\n",
       "    </tr>\n",
       "    <tr>\n",
       "      <th>4</th>\n",
       "      <td>08/18/2015</td>\n",
       "      <td>3654</td>\n",
       "      <td>BELMOND</td>\n",
       "      <td>50421</td>\n",
       "      <td>99.0</td>\n",
       "      <td>Wright</td>\n",
       "      <td>1031080.0</td>\n",
       "      <td>VODKA 80 PROOF</td>\n",
       "      <td>297</td>\n",
       "      <td>35918</td>\n",
       "      <td>Five O'clock Vodka</td>\n",
       "      <td>1750.0</td>\n",
       "      <td>7.2</td>\n",
       "      <td>10.80</td>\n",
       "      <td>12</td>\n",
       "      <td>129.6</td>\n",
       "      <td>21.0</td>\n",
       "      <td>5.55</td>\n",
       "    </tr>\n",
       "  </tbody>\n",
       "</table>\n",
       "</div>"
      ],
      "text/plain": [
       "         Date  Store Number     City  Zip Code County Number  County  \\\n",
       "0  11/04/2015          3717   SUMNER     50674           9.0  Bremer   \n",
       "4  08/18/2015          3654  BELMOND     50421          99.0  Wright   \n",
       "\n",
       "    Category     Category Name  Vendor Number  Item Number  \\\n",
       "0  1051100.0  APRICOT BRANDIES             55        54436   \n",
       "4  1031080.0    VODKA 80 PROOF            297        35918   \n",
       "\n",
       "            Item Description  Bottle Volume (ml)  State Bottle Cost  \\\n",
       "0  Mr. Boston Apricot Brandy               750.0                4.5   \n",
       "4         Five O'clock Vodka              1750.0                7.2   \n",
       "\n",
       "   State Bottle Retail  Bottles Sold  Sale (Dollars)  Volume Sold (Liters)  \\\n",
       "0                 6.75            12            81.0                   9.0   \n",
       "4                10.80            12           129.6                  21.0   \n",
       "\n",
       "   Volume Sold (Gallons)  \n",
       "0                   2.38  \n",
       "4                   5.55  "
      ]
     },
     "execution_count": 77,
     "metadata": {},
     "output_type": "execute_result"
    }
   ],
   "source": [
    "iowa_clean_2015.head(2)\n",
    "#store size = gallons sold in 2015"
   ]
  },
  {
   "cell_type": "code",
   "execution_count": 78,
   "metadata": {
    "collapsed": false,
    "scrolled": true
   },
   "outputs": [
    {
     "data": {
      "text/plain": [
       "Store Number\n",
       "2106    2571.33\n",
       "2113     174.29\n",
       "2130    1820.65\n",
       "2152     167.28\n",
       "2178     506.50\n",
       "Name: Volume Sold (Gallons), dtype: float64"
      ]
     },
     "execution_count": 78,
     "metadata": {},
     "output_type": "execute_result"
    }
   ],
   "source": [
    "stores_gallons_2015 = iowa_clean_2015.groupby(['Store Number'])['Volume Sold (Gallons)'].sum()\n",
    "stores_gallons_2015.head()"
   ]
  },
  {
   "cell_type": "code",
   "execution_count": 79,
   "metadata": {
    "collapsed": false
   },
   "outputs": [
    {
     "data": {
      "text/plain": [
       "array([ 2571.33,   174.29,  1820.65, ...,    56.17,    45.18,    59.44])"
      ]
     },
     "execution_count": 79,
     "metadata": {},
     "output_type": "execute_result"
    }
   ],
   "source": [
    "stores_gallons_2015.values"
   ]
  },
  {
   "cell_type": "code",
   "execution_count": 80,
   "metadata": {
    "collapsed": true
   },
   "outputs": [],
   "source": [
    "import matplotlib.pyplot as plt\n",
    "import seaborn as sns"
   ]
  },
  {
   "cell_type": "code",
   "execution_count": 83,
   "metadata": {
    "collapsed": false,
    "scrolled": false
   },
   "outputs": [
    {
     "data": {
      "image/png": "[encoded data removed]",
      "text/plain": [
       "<matplotlib.figure.Figure at 0x12cc4c910>"
      ]
     },
     "metadata": {
      "image/png": {
       "height": 529,
       "width": 1329
      }
     },
     "output_type": "display_data"
    }
   ],
   "source": [
    "_ = plt.figure(figsize= (16,6))\n",
    "_ = plt.plot(stores_gallons_2015.values);\n",
    "_ = plt.xlabel(\"Store Number\")\n",
    "_ = plt.ylabel('Volume Sold (Gallons)')\n",
    "plt.margins(0.02)\n",
    "plt.show()"
   ]
  },
  {
   "cell_type": "code",
   "execution_count": 84,
   "metadata": {
    "collapsed": false
   },
   "outputs": [
    {
     "name": "stdout",
     "output_type": "stream",
     "text": [
      "1032 4829\n"
     ]
    }
   ],
   "source": [
    "# highest stores selling gallons\n",
    "for i, store in enumerate(stores_gallons_2015.keys()):\n",
    "    if store == 4829:\n",
    "        print i, store"
   ]
  },
  {
   "cell_type": "code",
   "execution_count": null,
   "metadata": {
    "collapsed": true
   },
   "outputs": [],
   "source": []
  },
  {
   "cell_type": "markdown",
   "metadata": {},
   "source": [
    "### 5.6 Create a broader category for liquor type.\n",
    "\n",
    "Liquor types are pretty granular in this dataset. Create a column that categorizes these types into a smaller amount of categories. The categories you decide on are up to you."
   ]
  },
  {
   "cell_type": "code",
   "execution_count": 85,
   "metadata": {
    "collapsed": true
   },
   "outputs": [],
   "source": [
    "iowa_clean_liquor = iowa_clean.copy()"
   ]
  },
  {
   "cell_type": "code",
   "execution_count": 86,
   "metadata": {
    "collapsed": false,
    "scrolled": true
   },
   "outputs": [],
   "source": [
    "iowa_clean_liquor['Liquor Category'] = ''"
   ]
  },
  {
   "cell_type": "code",
   "execution_count": 87,
   "metadata": {
    "collapsed": false
   },
   "outputs": [
    {
     "data": {
      "text/html": [
       "<div>\n",
       "<table border=\"1\" class=\"dataframe\">\n",
       "  <thead>\n",
       "    <tr style=\"text-align: right;\">\n",
       "      <th></th>\n",
       "      <th>Date</th>\n",
       "      <th>Store Number</th>\n",
       "      <th>City</th>\n",
       "      <th>Zip Code</th>\n",
       "      <th>County Number</th>\n",
       "      <th>County</th>\n",
       "      <th>Category</th>\n",
       "      <th>Category Name</th>\n",
       "      <th>Vendor Number</th>\n",
       "      <th>Item Number</th>\n",
       "      <th>Item Description</th>\n",
       "      <th>Bottle Volume (ml)</th>\n",
       "      <th>State Bottle Cost</th>\n",
       "      <th>State Bottle Retail</th>\n",
       "      <th>Bottles Sold</th>\n",
       "      <th>Sale (Dollars)</th>\n",
       "      <th>Volume Sold (Liters)</th>\n",
       "      <th>Volume Sold (Gallons)</th>\n",
       "      <th>Liquor Category</th>\n",
       "    </tr>\n",
       "  </thead>\n",
       "  <tbody>\n",
       "    <tr>\n",
       "      <th>0</th>\n",
       "      <td>11/04/2015</td>\n",
       "      <td>3717</td>\n",
       "      <td>SUMNER</td>\n",
       "      <td>50674</td>\n",
       "      <td>9.0</td>\n",
       "      <td>Bremer</td>\n",
       "      <td>1051100.0</td>\n",
       "      <td>APRICOT BRANDIES</td>\n",
       "      <td>55</td>\n",
       "      <td>54436</td>\n",
       "      <td>Mr. Boston Apricot Brandy</td>\n",
       "      <td>750.0</td>\n",
       "      <td>4.50</td>\n",
       "      <td>6.75</td>\n",
       "      <td>12</td>\n",
       "      <td>81.00</td>\n",
       "      <td>9.0</td>\n",
       "      <td>2.38</td>\n",
       "      <td></td>\n",
       "    </tr>\n",
       "    <tr>\n",
       "      <th>1</th>\n",
       "      <td>03/02/2016</td>\n",
       "      <td>2614</td>\n",
       "      <td>DAVENPORT</td>\n",
       "      <td>52807</td>\n",
       "      <td>82.0</td>\n",
       "      <td>Scott</td>\n",
       "      <td>1011100.0</td>\n",
       "      <td>BLENDED WHISKIES</td>\n",
       "      <td>395</td>\n",
       "      <td>27605</td>\n",
       "      <td>Tin Cup</td>\n",
       "      <td>750.0</td>\n",
       "      <td>13.75</td>\n",
       "      <td>20.63</td>\n",
       "      <td>2</td>\n",
       "      <td>41.26</td>\n",
       "      <td>1.5</td>\n",
       "      <td>0.40</td>\n",
       "      <td></td>\n",
       "    </tr>\n",
       "  </tbody>\n",
       "</table>\n",
       "</div>"
      ],
      "text/plain": [
       "         Date  Store Number       City  Zip Code County Number  County  \\\n",
       "0  11/04/2015          3717     SUMNER     50674           9.0  Bremer   \n",
       "1  03/02/2016          2614  DAVENPORT     52807          82.0   Scott   \n",
       "\n",
       "    Category     Category Name  Vendor Number  Item Number  \\\n",
       "0  1051100.0  APRICOT BRANDIES             55        54436   \n",
       "1  1011100.0  BLENDED WHISKIES            395        27605   \n",
       "\n",
       "            Item Description  Bottle Volume (ml)  State Bottle Cost  \\\n",
       "0  Mr. Boston Apricot Brandy               750.0               4.50   \n",
       "1                    Tin Cup               750.0              13.75   \n",
       "\n",
       "   State Bottle Retail  Bottles Sold  Sale (Dollars)  Volume Sold (Liters)  \\\n",
       "0                 6.75            12           81.00                   9.0   \n",
       "1                20.63             2           41.26                   1.5   \n",
       "\n",
       "   Volume Sold (Gallons) Liquor Category  \n",
       "0                   2.38                  \n",
       "1                   0.40                  "
      ]
     },
     "execution_count": 87,
     "metadata": {},
     "output_type": "execute_result"
    }
   ],
   "source": [
    "iowa_clean_liquor.head(2)"
   ]
  },
  {
   "cell_type": "code",
   "execution_count": 88,
   "metadata": {
    "collapsed": false,
    "scrolled": false
   },
   "outputs": [
    {
     "data": {
      "text/plain": [
       "array(['', '100 PROOF VODKA', 'AMARETTO - IMPORTED', 'AMERICAN ALCOHOL',\n",
       "       'AMERICAN AMARETTO', 'AMERICAN COCKTAILS', 'AMERICAN DRY GINS',\n",
       "       'AMERICAN GRAPE BRANDIES', 'AMERICAN SLOE GINS', 'ANISETTE',\n",
       "       'APPLE SCHNAPPS', 'APRICOT BRANDIES', 'BARBADOS RUM',\n",
       "       'BLACKBERRY BRANDIES', 'BLENDED WHISKIES',\n",
       "       'BOTTLED IN BOND BOURBON', 'BUTTERSCOTCH SCHNAPPS',\n",
       "       'CANADIAN WHISKIES', 'CHERRY BRANDIES', 'CINNAMON SCHNAPPS',\n",
       "       'COFFEE LIQUEURS', 'CORN WHISKIES', 'CREAM LIQUEURS',\n",
       "       'CREME DE ALMOND', 'DARK CREME DE CACAO',\n",
       "       'DECANTERS & SPECIALTY PACKAGES', 'DISTILLED SPIRITS SPECIALTY',\n",
       "       'FLAVORED GINS', 'FLAVORED RUM', 'GRAPE SCHNAPPS',\n",
       "       'GREEN CREME DE MENTHE', 'HIGH PROOF BEER - AMERICAN',\n",
       "       'IMPORTED AMARETTO', 'IMPORTED DRY GINS', 'IMPORTED GRAPE BRANDIES',\n",
       "       'IMPORTED SCHNAPPS', 'IMPORTED VODKA', 'IMPORTED VODKA - MISC',\n",
       "       'IRISH WHISKIES', 'JAMAICA RUM', 'JAPANESE WHISKY',\n",
       "       'LOW PROOF VODKA', 'MISC. AMERICAN CORDIALS & LIQUEURS',\n",
       "       'MISC. IMPORTED CORDIALS & LIQUEURS', 'MISCELLANEOUS  BRANDIES',\n",
       "       'MISCELLANEOUS SCHNAPPS', 'OTHER PROOF VODKA', 'PEACH BRANDIES',\n",
       "       'PEACH SCHNAPPS', 'PEPPERMINT SCHNAPPS',\n",
       "       'PUERTO RICO & VIRGIN ISLANDS RUM', 'RASPBERRY SCHNAPPS',\n",
       "       'ROCK & RYE', 'ROOT BEER SCHNAPPS', 'SCOTCH WHISKIES',\n",
       "       'SINGLE BARREL BOURBON WHISKIES', 'SINGLE MALT SCOTCH',\n",
       "       'SPEARMINT SCHNAPPS', 'SPICED RUM', 'STRAIGHT BOURBON WHISKIES',\n",
       "       'STRAIGHT RYE WHISKIES', 'STRAWBERRY SCHNAPPS',\n",
       "       'TENNESSEE WHISKIES', 'TEQUILA', 'TRIPLE SEC',\n",
       "       'TROPICAL FRUIT SCHNAPPS', 'VODKA 80 PROOF', 'VODKA FLAVORED',\n",
       "       'WATERMELON SCHNAPPS', 'WHISKEY LIQUEUR', 'WHITE CREME DE CACAO',\n",
       "       'WHITE CREME DE MENTHE'], dtype=object)"
      ]
     },
     "execution_count": 88,
     "metadata": {},
     "output_type": "execute_result"
    }
   ],
   "source": [
    "np.unique(iowa_clean_liquor['Category Name'].values)"
   ]
  },
  {
   "cell_type": "code",
   "execution_count": null,
   "metadata": {
    "collapsed": false
   },
   "outputs": [],
   "source": [
    "for i, licor in enumerate(iowa_clean_liquor['Category Name']):\n",
    "    if 'VODKA' in licor:\n",
    "        iowa_clean_liquor.ix[i, ['Liquor Category']] = 'Vodka'\n",
    "    elif \"BRAND\" in licor:\n",
    "        iowa_clean_liquor.ix[i, ['Liquor Category']] = 'Brandy'\n",
    "    elif \"GIN\" in licor:    \n",
    "        iowa_clean_liquor.ix[i, ['Liquor Category']] = 'Gin'\n",
    "    elif \"RUM\" in licor:\n",
    "        iowa_clean_liquor.ix[i, ['Liquor Category']] = 'Rum'\n",
    "    elif \"WHISK\" in licor:\n",
    "        iowa_clean_liquor.ix[i, ['Liquor Category']] = 'Whiskey'\n",
    "    elif \"SCHNAPPS\" in licor:\n",
    "        iowa_clean_liquor.ix[i, ['Liquor Category']] = 'Schnapps'\n",
    "    elif \"AMARETTO\" in licor:\n",
    "        iowa_clean_liquor.ix[i, ['Liquor Category']] = 'Amaretto'\n",
    "    elif \"SCOTCH\" in licor:\n",
    "        iowa_clean_liquor.ix[i, ['Liquor Category']] = 'Scotch'\n",
    "    elif \"TEQUILA\" in licor:\n",
    "        iowa_clean_liquor.ix[i, ['Liquor Category']] = 'Tequila'\n",
    "    else:\n",
    "        iowa_clean_liquor.ix[i, ['Liquor Category']] = 'Other'"
   ]
  },
  {
   "cell_type": "code",
   "execution_count": null,
   "metadata": {
    "collapsed": false,
    "scrolled": true
   },
   "outputs": [],
   "source": [
    "iowa_clean_liquor.groupby(['Liquor Category', 'Category']).size()\n"
   ]
  },
  {
   "cell_type": "code",
   "execution_count": null,
   "metadata": {
    "collapsed": false
   },
   "outputs": [],
   "source": [
    "iowa_clean_liquor"
   ]
  },
  {
   "cell_type": "code",
   "execution_count": null,
   "metadata": {
    "collapsed": false
   },
   "outputs": [],
   "source": [
    "iowa_clean_liquor.groupby('Liquor Category').size()"
   ]
  },
  {
   "cell_type": "markdown",
   "metadata": {},
   "source": [
    "### 5.7 Do relationships exist between the broader liquor type and profit?"
   ]
  },
  {
   "cell_type": "code",
   "execution_count": null,
   "metadata": {
    "collapsed": false
   },
   "outputs": [],
   "source": [
    "iowa_clean_2015_6_profit = iowa_clean.copy()\n",
    "iowa_clean_2015_6_profit['Investment'] = iowa_clean[\n",
    "    'State Bottle Cost'] * iowa_clean['Bottles Sold']\n",
    "iowa_clean_2015_6_profit['Profit'] = iowa_clean[\n",
    "    'Sale (Dollars)'] - iowa_clean_2015_6_profit['Investment']\n",
    "iowa_clean_2015_6_profit['Liquor Category'] = iowa_clean_liquor['Liquor Category']\n"
   ]
  },
  {
   "cell_type": "code",
   "execution_count": null,
   "metadata": {
    "collapsed": false,
    "scrolled": true
   },
   "outputs": [],
   "source": [
    "relation_liquor_profit = iowa_clean_2015_6_profit[['Liquor Category', 'Profit']].groupby(['Liquor Category']).sum()\n"
   ]
  },
  {
   "cell_type": "code",
   "execution_count": null,
   "metadata": {
    "collapsed": false
   },
   "outputs": [],
   "source": [
    "_ = relation_liquor_profit.plot(kind='barh', legend=False, title='Relationship between Liquor Category and Profit');\n",
    "_ = plt.xlabel('Profit')"
   ]
  },
  {
   "cell_type": "code",
   "execution_count": null,
   "metadata": {
    "collapsed": true
   },
   "outputs": [],
   "source": []
  },
  {
   "cell_type": "markdown",
   "metadata": {},
   "source": [
    "<img src=\"http://imgur.com/xDpSobf.png\" style=\"float: left; margin: 25px 15px 0px 0px; height: 25px\">\n",
    "\n",
    "### 5.8 Are there any noticeable relationships between liquor brand and sales? Profit?"
   ]
  },
  {
   "cell_type": "code",
   "execution_count": null,
   "metadata": {
    "collapsed": false
   },
   "outputs": [],
   "source": [
    "iowa_clean_2015_6_profit.head(2)"
   ]
  },
  {
   "cell_type": "code",
   "execution_count": null,
   "metadata": {
    "collapsed": false
   },
   "outputs": [],
   "source": [
    "relation_brand_sales = iowa_clean_2015_6_profit[['Category Name', 'Sale (Dollars)']].groupby(['Category Name']).sum()\n",
    "# relation_brand_sales"
   ]
  },
  {
   "cell_type": "code",
   "execution_count": null,
   "metadata": {
    "collapsed": false
   },
   "outputs": [],
   "source": [
    "relation_brand_sales[1:].plot(kind='bar', figsize=(16,5));"
   ]
  },
  {
   "cell_type": "code",
   "execution_count": null,
   "metadata": {
    "collapsed": false
   },
   "outputs": [],
   "source": [
    "relation_brand_profit = iowa_clean_2015_6_profit[['Category Name', 'Profit']].groupby(['Category Name']).sum()\n",
    "# relation_brand_profit"
   ]
  },
  {
   "cell_type": "code",
   "execution_count": null,
   "metadata": {
    "collapsed": false
   },
   "outputs": [],
   "source": [
    "relation_brand_profit[1:].plot(kind='bar', figsize=(16,5));"
   ]
  },
  {
   "cell_type": "markdown",
   "metadata": {},
   "source": [
    "### 5.9 The tax board wants to design a tax or taxes that affect larger stores more than smaller \"mom and pop\" stores.\n",
    "\n",
    "Based on your investigations into the data, come up with a way you could design a tax that achieves this goal **without explicitly taxing stores based on size or county critera.** The liqour board does not want to obviously punish larger stores or speific counties for fear of backlash, but is willing to tax hard alcohol more than beer, for example.\n",
    "\n",
    "Feel free to do more EDA if it helps.\n",
    "\n",
    "Your report should describe whether such a tax is possible or not, and the specifics of what the tax will target/do."
   ]
  },
  {
   "cell_type": "code",
   "execution_count": null,
   "metadata": {
    "collapsed": false
   },
   "outputs": [],
   "source": [
    "iowa_clean.head(2)"
   ]
  },
  {
   "cell_type": "code",
   "execution_count": null,
   "metadata": {
    "collapsed": false
   },
   "outputs": [],
   "source": [
    "print iowa_clean['Volume Sold (Gallons)'].max()\n",
    "print iowa_clean['Volume Sold (Gallons)'].min()\n",
    "print iowa_clean['Volume Sold (Gallons)'].mean()\n",
    "print iowa_clean['Volume Sold (Gallons)'].median()"
   ]
  },
  {
   "cell_type": "code",
   "execution_count": null,
   "metadata": {
    "collapsed": false,
    "scrolled": true
   },
   "outputs": [],
   "source": [
    "iowa_clean['Volume Sold (Gallons)'].value_counts().sort"
   ]
  },
  {
   "cell_type": "code",
   "execution_count": null,
   "metadata": {
    "collapsed": false
   },
   "outputs": [],
   "source": [
    "iowa_clean[iowa_clean['Volume Sold (Gallons)']>2.7]['Volume Sold (Gallons)'].sort_values().count()"
   ]
  },
  {
   "cell_type": "code",
   "execution_count": null,
   "metadata": {
    "collapsed": true
   },
   "outputs": [],
   "source": [
    "# applied taxes to the stores that sold more than 2.7 Gallons"
   ]
  },
  {
   "cell_type": "markdown",
   "metadata": {},
   "source": [
    "<img src=\"http://imgur.com/l5NasQj.png\" style=\"float: left; margin: 25px 15px 0px 0px; height: 25px\">\n",
    "\n",
    "## 6. Market research for new store locations (Scenario 2)\n",
    "\n",
    "A liquor store owner in Iowa is looking to open a store in a new location and has hired you to investigate the market data for potential new locations. The business owner is interested in what you can discover from the data that will help him evaluate a good location for a new storefront.\n",
    "\n",
    "---\n",
    "\n",
    "### 6.1 Create columns for Q1 2015 sales and Q1 2016 sales.\n",
    "\n",
    "The owner is not just interested in what locations are currently selling well, but also which areas are showing the most promising sales growth from 2015 to 2016. \n",
    "\n",
    "For yearly changes we will focus on the changes from Q1 2015 to Q1 2016 specifically (avoiding effects of season changes).\n",
    "\n",
    "Note: Q1 is months: January, February, and March.\n"
   ]
  },
  {
   "cell_type": "code",
   "execution_count": null,
   "metadata": {
    "collapsed": false
   },
   "outputs": [],
   "source": [
    "iowa_clean_2015.head(2)\n"
   ]
  },
  {
   "cell_type": "code",
   "execution_count": null,
   "metadata": {
    "collapsed": false
   },
   "outputs": [],
   "source": [
    "iowa_clean_2015_q1 = iowa_clean_2015.copy()\n",
    "print iowa_clean_2015_q1.shape\n",
    "iowa_clean_2015_q1 = iowa_clean_2015_q1.reset_index()\n"
   ]
  },
  {
   "cell_type": "code",
   "execution_count": null,
   "metadata": {
    "collapsed": false
   },
   "outputs": [],
   "source": [
    "iowa_clean_2016_q1 = iowa_clean_2016.copy()\n",
    "print iowa_clean_2016_q1.shape\n",
    "iowa_clean_2016_q1 = iowa_clean_2016_q1.reset_index()\n"
   ]
  },
  {
   "cell_type": "code",
   "execution_count": null,
   "metadata": {
    "collapsed": false
   },
   "outputs": [],
   "source": [
    "iowa_clean_2015_q1['Q1'] = ''\n",
    "iowa_clean_2016_q1['Q1'] = ''"
   ]
  },
  {
   "cell_type": "code",
   "execution_count": null,
   "metadata": {
    "collapsed": false,
    "scrolled": true
   },
   "outputs": [],
   "source": [
    "for i, date in enumerate(iowa_clean_2015_q1['Date']):\n",
    "    if int(date[:2]) > 0 and int(date[:2]) < 4: #and iowa_clean_2015_q1.ix[i, ['Date']] == str:\n",
    "        iowa_clean_2015_q1.ix[i, ['Q1']] = 'Q1'\n"
   ]
  },
  {
   "cell_type": "code",
   "execution_count": null,
   "metadata": {
    "collapsed": false
   },
   "outputs": [],
   "source": [
    "for i, date in enumerate(iowa_clean_2016_q1['Date']):\n",
    "    if int(date[:2]) > 0 and int(date[:2]) < 4:\n",
    "        iowa_clean_2016_q1.ix[i, ['Q1']] = 'Q1'"
   ]
  },
  {
   "cell_type": "code",
   "execution_count": null,
   "metadata": {
    "collapsed": false
   },
   "outputs": [],
   "source": [
    "iowa_clean_2015_q1 = iowa_clean_2015_q1.copy()\n",
    "iowa_clean_2015_q1.shape\n"
   ]
  },
  {
   "cell_type": "code",
   "execution_count": null,
   "metadata": {
    "collapsed": false
   },
   "outputs": [],
   "source": [
    "iowa_clean_2016_q1 = iowa_clean_2016_q1.copy()\n",
    "iowa_clean_2016_q1.shape\n"
   ]
  },
  {
   "cell_type": "code",
   "execution_count": null,
   "metadata": {
    "collapsed": false
   },
   "outputs": [],
   "source": [
    "q1_county_sales_2015 = iowa_clean_2015_q1[iowa_clean_2015_q1['Q1'] == 'Q1'][['County', 'Store Number', 'Sale (Dollars)']]\n",
    "q1_county_sales_2016 = iowa_clean_2016_q1[iowa_clean_2016_q1['Q1'] == 'Q1'][['County', 'Store Number', 'Sale (Dollars)']]"
   ]
  },
  {
   "cell_type": "code",
   "execution_count": null,
   "metadata": {
    "collapsed": false,
    "scrolled": true
   },
   "outputs": [],
   "source": [
    "diff_q1_2015_2016 = q1_county_sales_2016.groupby(['County'])['Sale (Dollars)'].sum() - q1_county_sales_2015.groupby(['County'])['Sale (Dollars)'].sum()\n",
    "diff_q1_2015_2016[diff_q1_2015_2016 > 0].sort_values(axis=0, ascending=False)"
   ]
  },
  {
   "cell_type": "code",
   "execution_count": null,
   "metadata": {
    "collapsed": true
   },
   "outputs": [],
   "source": []
  },
  {
   "cell_type": "code",
   "execution_count": null,
   "metadata": {
    "collapsed": true
   },
   "outputs": [],
   "source": [
    "q1_county_sales_2015['Key'] = '2015'\n",
    "q1_county_sales_2016['Key'] = '2016'"
   ]
  },
  {
   "cell_type": "code",
   "execution_count": null,
   "metadata": {
    "collapsed": false,
    "scrolled": true
   },
   "outputs": [],
   "source": [
    "Q1_CS = pd.concat([q1_county_sales_2015, q1_county_sales_2016], keys=['2015', '2016'])\n",
    "Q1_CS"
   ]
  },
  {
   "cell_type": "code",
   "execution_count": null,
   "metadata": {
    "collapsed": true
   },
   "outputs": [],
   "source": [
    "Q1_CS_group = Q1_CS.groupby(['County', 'Key'])['County', 'Sale (Dollars)', 'Key']\n"
   ]
  },
  {
   "cell_type": "code",
   "execution_count": null,
   "metadata": {
    "collapsed": false
   },
   "outputs": [],
   "source": [
    "Q1_CS_group.sum().unstack('Key').plot(kind='bar', figsize=(12,5));"
   ]
  },
  {
   "cell_type": "code",
   "execution_count": null,
   "metadata": {
    "collapsed": false
   },
   "outputs": [],
   "source": [
    "q1_one_2015 = q1_county_sales_2015[q1_county_sales_2015['County'] == 'Pottawattamie']\n",
    "q1_one_2016 = q1_county_sales_2016[q1_county_sales_2016['County'] == 'Pottawattamie']"
   ]
  },
  {
   "cell_type": "code",
   "execution_count": null,
   "metadata": {
    "collapsed": false,
    "scrolled": true
   },
   "outputs": [],
   "source": [
    "Q1_CS_one = pd.concat([q1_one_2015, q1_one_2016], keys=['2015', '2016'])\n",
    "Q1_CS_one.groupby(['Store Number', 'Key']).sum()"
   ]
  },
  {
   "cell_type": "code",
   "execution_count": null,
   "metadata": {
    "collapsed": false
   },
   "outputs": [],
   "source": [
    "Q1_CS_one_group = Q1_CS_one.groupby(['Store Number', 'Key'])\n",
    "Q1_CS_one_group.sum()"
   ]
  },
  {
   "cell_type": "code",
   "execution_count": null,
   "metadata": {
    "collapsed": false
   },
   "outputs": [],
   "source": [
    "Q1_CS_one_group.sum().unstack('Key').plot(kind='bar', figsize=(12,5));"
   ]
  },
  {
   "cell_type": "code",
   "execution_count": null,
   "metadata": {
    "collapsed": true
   },
   "outputs": [],
   "source": []
  },
  {
   "cell_type": "markdown",
   "metadata": {},
   "source": [
    "### 6.2 Decide on a metric for performance that combines Q1 2016 sales as well as growth in sales from Q1 2015.\n",
    "\n",
    "Again, the owner wants to know that his store will be in a good position to sell a large amount of liquor now, but also have his store be more likely to grow and sell even more going forward. \n",
    "\n",
    "In particular, he is worried about opening a store in an area that is showing a decline in liquor sales between Q1 2015 and Q1 2016."
   ]
  },
  {
   "cell_type": "code",
   "execution_count": null,
   "metadata": {
    "collapsed": false
   },
   "outputs": [],
   "source": [
    "# my previous analysis doesnt show a store in two consecutives \n",
    "# years, so i dont have a proposal"
   ]
  },
  {
   "cell_type": "markdown",
   "metadata": {},
   "source": [
    "### 6.3 Recommend a location based on your metric.\n",
    "\n",
    "The owner asks you to make a recommendation for a new store location. Explain why you recommended this area."
   ]
  },
  {
   "cell_type": "code",
   "execution_count": null,
   "metadata": {
    "collapsed": false,
    "scrolled": true
   },
   "outputs": [],
   "source": [
    "diff_q1_2015_2016[diff_q1_2015_2016 > 0].sort_values(axis=0, ascending=False)\n"
   ]
  },
  {
   "cell_type": "code",
   "execution_count": null,
   "metadata": {
    "collapsed": true
   },
   "outputs": [],
   "source": [
    "# My recommendation is to get a new store in Pottawattamie \n",
    "# since it made more in 2016 than 2015"
   ]
  },
  {
   "cell_type": "markdown",
   "metadata": {},
   "source": [
    "### 6.4 Recommend a location based also on a restricted inventory type.\n",
    "\n",
    "Your employer has now decided he wants his store to focus on one type of liquor only. He askes you:\n",
    "\n",
    "1. What would be the best type of liquor to sell to maximize profit?\n",
    "2. Should the recommended location change if he is only selling one type of liquor?"
   ]
  },
  {
   "cell_type": "code",
   "execution_count": null,
   "metadata": {
    "collapsed": false
   },
   "outputs": [],
   "source": [
    "# order of liquors that give more profit\n",
    "iowa_clean[iowa_clean['County'] == 'Pottawattamie'].groupby(['Category Name'])['Sale (Dollars)'].sum().sort_values(axis=0, ascending=False)\n"
   ]
  },
  {
   "cell_type": "code",
   "execution_count": null,
   "metadata": {
    "collapsed": true
   },
   "outputs": [],
   "source": []
  },
  {
   "cell_type": "code",
   "execution_count": null,
   "metadata": {
    "collapsed": false,
    "scrolled": true
   },
   "outputs": [],
   "source": [
    "# Yes, it would change to Polk, but Polk was only selling in 2015\n",
    "# not in 2016\n",
    "iowa_clean[iowa_clean['Category Name'] == 'VODKA 80 PROOF'].groupby(['County'])['Sale (Dollars)'].sum().sort_values(axis=0, ascending=False)"
   ]
  },
  {
   "cell_type": "code",
   "execution_count": null,
   "metadata": {
    "collapsed": true
   },
   "outputs": [],
   "source": []
  },
  {
   "cell_type": "code",
   "execution_count": null,
   "metadata": {
    "collapsed": true
   },
   "outputs": [],
   "source": []
  },
  {
   "cell_type": "markdown",
   "metadata": {},
   "source": [
    "<img src=\"http://imgur.com/GCAf1UX.png\" style=\"float: left; margin: 25px 15px 0px 0px; height: 25px\">\n",
    "\n",
    "## 7. Time-related effects\n",
    "\n",
    "---\n",
    "\n",
    "You could imagine that liquor sales might be affected by a variety of effects related to time. Do people buy more beer in the summer? Do liquor sales skyrocket in december? Do people buy less liquor on Tuesdays?\n",
    "\n",
    "You have the date of sales in your dataset, which you can use to pull out time components.\n",
    "\n",
    "1. Come up with 3 different hypotheses about how liquor sales may vary with time-related variables. \n",
    "2. Create a visualization exploring each hypothesis.\n",
    "3. Write brief concluding remarks on what you observed.\n"
   ]
  },
  {
   "cell_type": "code",
   "execution_count": null,
   "metadata": {
    "collapsed": false
   },
   "outputs": [],
   "source": [
    "iowa_clean_mes = iowa_clean.copy()\n",
    "iowa_clean_mes['Mes'] = ''"
   ]
  },
  {
   "cell_type": "code",
   "execution_count": null,
   "metadata": {
    "collapsed": false,
    "scrolled": true
   },
   "outputs": [],
   "source": [
    "for i, date in enumerate(iowa_clean_mes['Date']):\n",
    "    if date[:2] == '12':\n",
    "        iowa_clean_mes.ix[i, ['Mes']] = '12'\n"
   ]
  },
  {
   "cell_type": "code",
   "execution_count": null,
   "metadata": {
    "collapsed": false,
    "scrolled": true
   },
   "outputs": [],
   "source": [
    "# demember best seller\n",
    "iowa_clean_mes[iowa_clean_mes['Mes'] == '12'].groupby(['Category Name'])['Sale (Dollars)'].sum().sort_values(ascending=False)"
   ]
  },
  {
   "cell_type": "code",
   "execution_count": null,
   "metadata": {
    "collapsed": false,
    "scrolled": true
   },
   "outputs": [],
   "source": [
    "for i, date in enumerate(iowa_clean_mes['Date']):\n",
    "    if date[:2] == '06' or date[:2] == '07' or date[:2] == '08':\n",
    "        iowa_clean_mes.ix[i, ['Mes']] = 'Summer'"
   ]
  },
  {
   "cell_type": "code",
   "execution_count": null,
   "metadata": {
    "collapsed": false,
    "scrolled": true
   },
   "outputs": [],
   "source": [
    "# Summer sells the following best sellers\n",
    "iowa_clean_mes[iowa_clean_mes['Mes'] == 'Summer'].groupby(['Category Name'])['Sale (Dollars)'].sum().sort_values(ascending=False)"
   ]
  },
  {
   "cell_type": "code",
   "execution_count": null,
   "metadata": {
    "collapsed": false
   },
   "outputs": [],
   "source": [
    "for i, date in enumerate(iowa_clean_mes['Date']):\n",
    "    if date[:2] == '09':\n",
    "        iowa_clean_mes.ix[i, ['Mes']] = 'Mexico'"
   ]
  },
  {
   "cell_type": "code",
   "execution_count": null,
   "metadata": {
    "collapsed": false,
    "scrolled": true
   },
   "outputs": [],
   "source": [
    "# People drink more Vodka in September, Mexico's independence Month\n",
    "iowa_clean_mes[iowa_clean_mes['Mes'] == 'Mexico'].groupby(['Category Name'])['Sale (Dollars)'].sum().sort_values(ascending=False)"
   ]
  },
  {
   "cell_type": "markdown",
   "metadata": {},
   "source": [
    "<img src=\"http://imgur.com/GCAf1UX.png\" style=\"float: left; margin: 25px 15px 0px 0px; height: 25px\">\n",
    "\n",
    "## 8. Appropriate spending\n",
    "\n",
    "---\n",
    "\n",
    "The owner you worked with before realized that opening new stores cost money, something he had completely overlooked earlier. He brings you back in to help him figure out how much he should be willing to spend on opening his store.\n",
    "\n",
    "### 8.1 Calculate costs and time to recoup.\n",
    "\n",
    "The owner has decided he will buy 20,000 gallons of the liquor type you recommended (randomly sampled across the different brands/subtypes). He will also be opening his store in the area you recommended.\n",
    "\n",
    "The cost of buying the property for his store will be $150,000.\n",
    "\n",
    "1. How much should he expect to spend on the 20,000 gallons of liquor alone?\n",
    "2. Based on the amount he's spent on the liquor and property, and on the profit per time period he is expected to have, how long will it take him to recoup the costs?"
   ]
  },
  {
   "cell_type": "code",
   "execution_count": null,
   "metadata": {
    "collapsed": false
   },
   "outputs": [],
   "source": [
    "fechas_2015 = []\n",
    "fechas_2016 = []\n",
    "for date in iowa_clean_2015['Date'].values:\n",
    "    fechas_2015.append(date)\n",
    "for date in iowa_clean_2016['Date'].values:\n",
    "    fechas_2016.append(date)\n"
   ]
  },
  {
   "cell_type": "code",
   "execution_count": null,
   "metadata": {
    "collapsed": false
   },
   "outputs": [],
   "source": [
    "print sorted(fechas_2015)[0], sorted(fechas_2015)[-1]\n",
    "print sorted(fechas_2016)[0], sorted(fechas_2016)[-1]\n",
    "periodo = 12 + int(sorted(fechas_2016)[-1][:2])\n",
    "periodo"
   ]
  },
  {
   "cell_type": "code",
   "execution_count": null,
   "metadata": {
    "collapsed": false,
    "scrolled": true
   },
   "outputs": [],
   "source": [
    "liquor_total = iowa_clean.groupby(['Category Name'])['Sale (Dollars)'].sum().sort_values(axis=0, ascending=False)[0]\n",
    "print liquor_total\n",
    "iowa_clean.groupby(['Category Name'])['Sale (Dollars)'].sum().sort_values(axis=0, ascending=False)\n"
   ]
  },
  {
   "cell_type": "code",
   "execution_count": null,
   "metadata": {
    "collapsed": false
   },
   "outputs": [],
   "source": [
    "iowa_clean.head(2)"
   ]
  },
  {
   "cell_type": "code",
   "execution_count": null,
   "metadata": {
    "collapsed": false
   },
   "outputs": [],
   "source": [
    "# average cost of a bottle of 750 ml\n",
    "iowa_clean[(iowa_clean['Category Name'] == 'VODKA 80 PROOF') & \n",
    "           (iowa_clean['County'] == 'Pottawattamie') &\n",
    "           (iowa_clean['Bottle Volume (ml)'] == 750.0)]['State Bottle Cost'].mean()"
   ]
  },
  {
   "cell_type": "code",
   "execution_count": null,
   "metadata": {
    "collapsed": false
   },
   "outputs": [],
   "source": [
    "# us gallons to ml\n",
    "gals_ml = 20000 * 3785.41\n",
    "bottle_750 = round((gals_ml / 750), 2)\n",
    "# the total of dollars to buy 20000 US gallons\n",
    "bottle_750"
   ]
  },
  {
   "cell_type": "code",
   "execution_count": null,
   "metadata": {
    "collapsed": false
   },
   "outputs": [],
   "source": [
    "# liquor and property investment\n",
    "investment = round((150000 + bottle_750), 2)\n",
    "investment"
   ]
  },
  {
   "cell_type": "code",
   "execution_count": null,
   "metadata": {
    "collapsed": false
   },
   "outputs": [],
   "source": [
    "# number of months to payback the investment\n",
    "round((investment / liquor_total), 2)"
   ]
  },
  {
   "cell_type": "code",
   "execution_count": null,
   "metadata": {
    "collapsed": true
   },
   "outputs": [],
   "source": []
  },
  {
   "cell_type": "markdown",
   "metadata": {},
   "source": [
    "<img src=\"http://imgur.com/gGrau8s.png\" style=\"float: left; margin: 25px 15px 0px 0px; height: 25px\">\n",
    "\n",
    "\n",
    "### 8.2 Calculate maximum loan interest rate.\n",
    "\n",
    "The owner unfortunately has to take out a loan to to pay for the entirety of the property and liquor. \n",
    "\n",
    "**Conditions of the loan**:\n",
    "\n",
    "Every quarter, (except for Q1 when he takes out the loan), the interest rate is applied to the remaining balance on the loan and added to his debt. \n",
    "\n",
    "If, for example, he made no payments whatsoever, not only would the amount of debt he owed keep increasing by quarter but the debt incurred from interest would keep increasing as well. (Since his debt keeps growing, the interest rate is applied each month to the bigger balance, incurring more debt each time.)\n",
    "\n",
    "**Determining maximum acceptable interest:**\n",
    "\n",
    "Given this, _the owner wants to be 99% confident that he will be able to pay off his loans._ If the interest rate is too high he will have to eventually declare bankruptcy.\n",
    "\n",
    "Based on his expected profits per quarter (assume the expected profit stays the same for all future quarters), what is the maximum interest rate he should accept on the loan to be 99% confident he will be able to pay it off?"
   ]
  },
  {
   "cell_type": "code",
   "execution_count": null,
   "metadata": {
    "collapsed": false
   },
   "outputs": [],
   "source": [
    "print investment, liquor_total"
   ]
  },
  {
   "cell_type": "code",
   "execution_count": null,
   "metadata": {
    "collapsed": false
   },
   "outputs": [],
   "source": [
    "liquor_total_tri = round((liquor_total / float(15)) * (3), 2)\n",
    "liquor_total_tri"
   ]
  },
  {
   "cell_type": "code",
   "execution_count": null,
   "metadata": {
    "collapsed": true
   },
   "outputs": [],
   "source": [
    "interest = 0.012"
   ]
  },
  {
   "cell_type": "code",
   "execution_count": null,
   "metadata": {
    "collapsed": false
   },
   "outputs": [],
   "source": [
    "bankruptcy = True\n",
    "interest = 5\n",
    "while bankruptcy == True:\n",
    "    balance = investment\n",
    "    contador = 0\n",
    "    while balance > 0:\n",
    "        contador += 1\n",
    "        balance += balance*interest\n",
    "        balance -= liquor_total_tri\n",
    "        if balance > investment:\n",
    "#             print 'Bankruptcy'\n",
    "            bankruptcy = False\n",
    "            break\n",
    "#     print 'Manuel'\n",
    "    if bankruptcy == False:\n",
    "#         print 'ok'\n",
    "        bankruptcy = True\n",
    "        interest -= 0.01\n",
    "        continue\n",
    "    break\n",
    "if balance < 0:\n",
    "    print 'It was paid in ' + str(contador/4) + ' years'\n",
    "    print 'Interest rate of: ', interest"
   ]
  },
  {
   "cell_type": "code",
   "execution_count": null,
   "metadata": {
    "collapsed": true
   },
   "outputs": [],
   "source": [
    "# not sure if i would take a loan for 70 years but considering i have no \n",
    "# knowledge about finances, it is an answer"
   ]
  },
  {
   "cell_type": "code",
   "execution_count": null,
   "metadata": {
    "collapsed": true
   },
   "outputs": [],
   "source": []
  }
 ],
 "metadata": {
  "anaconda-cloud": {},
  "kernelspec": {
   "display_name": "Python 2",
   "language": "python",
   "name": "python2"
  },
  "language_info": {
   "codemirror_mode": {
    "name": "ipython",
    "version": 2
   },
   "file_extension": ".py",
   "mimetype": "text/x-python",
   "name": "python",
   "nbconvert_exporter": "python",
   "pygments_lexer": "ipython2",
   "version": "2.7.12"
  }
 },
 "nbformat": 4,
 "nbformat_minor": 0
}
